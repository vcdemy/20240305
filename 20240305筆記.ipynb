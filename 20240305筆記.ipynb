{
 "cells": [
  {
   "cell_type": "markdown",
   "id": "f7a8c923-9c87-49be-adb9-1361085c758e",
   "metadata": {},
   "source": [
    "# 20240305 筆記"
   ]
  },
  {
   "cell_type": "markdown",
   "id": "6e137e50-9198-4539-9780-dc4e2f64cf4b",
   "metadata": {},
   "source": [
    "## 資料型態轉換"
   ]
  },
  {
   "cell_type": "markdown",
   "id": "00ef2ada-cd63-407a-80fa-4d66e49825e0",
   "metadata": {},
   "source": [
    "* int -> str\n",
    "* str -> int"
   ]
  },
  {
   "cell_type": "code",
   "execution_count": 1,
   "id": "49ab2ffa-e0be-4c48-a4a2-b6c446fbcb8d",
   "metadata": {
    "tags": []
   },
   "outputs": [],
   "source": [
    "x = 1"
   ]
  },
  {
   "cell_type": "code",
   "execution_count": 2,
   "id": "baf79276-63f5-4c3d-921d-f4531f47f5ab",
   "metadata": {
    "tags": []
   },
   "outputs": [
    {
     "data": {
      "text/plain": [
       "int"
      ]
     },
     "execution_count": 2,
     "metadata": {},
     "output_type": "execute_result"
    }
   ],
   "source": [
    "type(x)"
   ]
  },
  {
   "cell_type": "code",
   "execution_count": 3,
   "id": "cc68c1bb-64ad-46b7-a669-319ea52831ca",
   "metadata": {
    "tags": []
   },
   "outputs": [],
   "source": [
    "y = '2'"
   ]
  },
  {
   "cell_type": "code",
   "execution_count": 4,
   "id": "55f20ed4-000e-4991-b2e9-1855f36ade48",
   "metadata": {
    "tags": []
   },
   "outputs": [
    {
     "data": {
      "text/plain": [
       "str"
      ]
     },
     "execution_count": 4,
     "metadata": {},
     "output_type": "execute_result"
    }
   ],
   "source": [
    "type(y)"
   ]
  },
  {
   "cell_type": "code",
   "execution_count": 5,
   "id": "67b63ee5-d4ca-40a0-86d4-bdab6fa5f0ab",
   "metadata": {
    "tags": []
   },
   "outputs": [
    {
     "ename": "TypeError",
     "evalue": "unsupported operand type(s) for +: 'int' and 'str'",
     "output_type": "error",
     "traceback": [
      "\u001b[1;31m---------------------------------------------------------------------------\u001b[0m",
      "\u001b[1;31mTypeError\u001b[0m                                 Traceback (most recent call last)",
      "Cell \u001b[1;32mIn[5], line 1\u001b[0m\n\u001b[1;32m----> 1\u001b[0m x \u001b[38;5;241m+\u001b[39m y\n",
      "\u001b[1;31mTypeError\u001b[0m: unsupported operand type(s) for +: 'int' and 'str'"
     ]
    }
   ],
   "source": [
    "x + y"
   ]
  },
  {
   "cell_type": "code",
   "execution_count": 6,
   "id": "8652e17f-cac8-4ce8-8351-5e0b2d53800d",
   "metadata": {
    "tags": []
   },
   "outputs": [
    {
     "data": {
      "text/plain": [
       "3"
      ]
     },
     "execution_count": 6,
     "metadata": {},
     "output_type": "execute_result"
    }
   ],
   "source": [
    "x + int(y)"
   ]
  },
  {
   "cell_type": "code",
   "execution_count": 7,
   "id": "8297ba4d-e964-4eef-8b66-ba647a4bab4e",
   "metadata": {
    "tags": []
   },
   "outputs": [
    {
     "data": {
      "text/plain": [
       "'12'"
      ]
     },
     "execution_count": 7,
     "metadata": {},
     "output_type": "execute_result"
    }
   ],
   "source": [
    "str(x) + y"
   ]
  },
  {
   "cell_type": "markdown",
   "id": "b61e84be-a228-47af-91b4-417bcd155706",
   "metadata": {},
   "source": [
    "## input() v.s., print()"
   ]
  },
  {
   "cell_type": "markdown",
   "id": "a03b9086-2618-443d-8b0f-9e7fe898a710",
   "metadata": {},
   "source": [
    "### input()"
   ]
  },
  {
   "cell_type": "code",
   "execution_count": 8,
   "id": "63d6feaf-3eee-4fde-8ef6-b96eaec477de",
   "metadata": {
    "tags": []
   },
   "outputs": [
    {
     "data": {
      "text/plain": [
       "\u001b[1;31mSignature:\u001b[0m \u001b[0minput\u001b[0m\u001b[1;33m(\u001b[0m\u001b[0mprompt\u001b[0m\u001b[1;33m=\u001b[0m\u001b[1;34m''\u001b[0m\u001b[1;33m)\u001b[0m\u001b[1;33m\u001b[0m\u001b[1;33m\u001b[0m\u001b[0m\n",
       "\u001b[1;31mDocstring:\u001b[0m\n",
       "Forward raw_input to frontends\n",
       "\n",
       "Raises\n",
       "------\n",
       "StdinNotImplementedError if active frontend doesn't support stdin.\n",
       "\u001b[1;31mFile:\u001b[0m      c:\\users\\victor\\anaconda3\\lib\\site-packages\\ipykernel\\kernelbase.py\n",
       "\u001b[1;31mType:\u001b[0m      method"
      ]
     },
     "metadata": {},
     "output_type": "display_data"
    }
   ],
   "source": [
    "input?"
   ]
  },
  {
   "cell_type": "code",
   "execution_count": 9,
   "id": "fbdd599b-37fd-4d07-bbad-739b133e4427",
   "metadata": {
    "tags": []
   },
   "outputs": [
    {
     "ename": "SyntaxError",
     "evalue": "unterminated string literal (detected at line 1) (3601583748.py, line 1)",
     "output_type": "error",
     "traceback": [
      "\u001b[1;36m  Cell \u001b[1;32mIn[9], line 1\u001b[1;36m\u001b[0m\n\u001b[1;33m    input('請輸入一個數字\")\u001b[0m\n\u001b[1;37m          ^\u001b[0m\n\u001b[1;31mSyntaxError\u001b[0m\u001b[1;31m:\u001b[0m unterminated string literal (detected at line 1)\n"
     ]
    }
   ],
   "source": [
    "input('請輸入一個數字\")"
   ]
  },
  {
   "cell_type": "code",
   "execution_count": 10,
   "id": "d76d4b31-422a-4259-ba79-a2f97ff80f99",
   "metadata": {
    "tags": []
   },
   "outputs": [
    {
     "name": "stdin",
     "output_type": "stream",
     "text": [
      "請輸入一個數字 123\n"
     ]
    },
    {
     "data": {
      "text/plain": [
       "'123'"
      ]
     },
     "execution_count": 10,
     "metadata": {},
     "output_type": "execute_result"
    }
   ],
   "source": [
    "input('請輸入一個數字')"
   ]
  },
  {
   "cell_type": "code",
   "execution_count": 11,
   "id": "a14c8adc-8f03-4bdb-ae19-4e8b8400d9d5",
   "metadata": {
    "tags": []
   },
   "outputs": [
    {
     "name": "stdin",
     "output_type": "stream",
     "text": [
      "請輸入一個數字:  123\n"
     ]
    }
   ],
   "source": [
    "x = input('請輸入一個數字: ')"
   ]
  },
  {
   "cell_type": "code",
   "execution_count": 12,
   "id": "aee5d879-775c-4e52-bf76-dc0f20413d01",
   "metadata": {
    "tags": []
   },
   "outputs": [
    {
     "data": {
      "text/plain": [
       "str"
      ]
     },
     "execution_count": 12,
     "metadata": {},
     "output_type": "execute_result"
    }
   ],
   "source": [
    "type(x)"
   ]
  },
  {
   "cell_type": "code",
   "execution_count": 13,
   "id": "22b55f77-f403-4db3-93be-87d5b966bd2f",
   "metadata": {
    "tags": []
   },
   "outputs": [
    {
     "name": "stdin",
     "output_type": "stream",
     "text": [
      "請輸入一個數字:  123\n"
     ]
    }
   ],
   "source": [
    "y = int(input('請輸入一個數字: '))"
   ]
  },
  {
   "cell_type": "code",
   "execution_count": 14,
   "id": "a61e69ff-26f7-40b7-aa74-a39aaa6d6cfe",
   "metadata": {
    "tags": []
   },
   "outputs": [
    {
     "data": {
      "text/plain": [
       "int"
      ]
     },
     "execution_count": 14,
     "metadata": {},
     "output_type": "execute_result"
    }
   ],
   "source": [
    "type(y)"
   ]
  },
  {
   "cell_type": "code",
   "execution_count": 23,
   "id": "ffcec804-8172-443c-9b87-853cc5b04d66",
   "metadata": {
    "tags": []
   },
   "outputs": [
    {
     "name": "stdin",
     "output_type": "stream",
     "text": [
      "請輸入兩個數字:  2 3\n"
     ]
    }
   ],
   "source": [
    "m = input(\"請輸入兩個數字: \")"
   ]
  },
  {
   "cell_type": "code",
   "execution_count": 24,
   "id": "36e806dd-d4d7-425e-95ba-0bdacda4582d",
   "metadata": {
    "tags": []
   },
   "outputs": [
    {
     "data": {
      "text/plain": [
       "'2 3'"
      ]
     },
     "execution_count": 24,
     "metadata": {},
     "output_type": "execute_result"
    }
   ],
   "source": [
    "m"
   ]
  },
  {
   "cell_type": "code",
   "execution_count": 25,
   "id": "728efebe-9777-4bfd-8920-f365ffc0f2c3",
   "metadata": {
    "tags": []
   },
   "outputs": [
    {
     "data": {
      "text/plain": [
       "str"
      ]
     },
     "execution_count": 25,
     "metadata": {},
     "output_type": "execute_result"
    }
   ],
   "source": [
    "type(m)"
   ]
  },
  {
   "cell_type": "code",
   "execution_count": null,
   "id": "b6ef7975-3ceb-4a52-901b-7984103e92ec",
   "metadata": {
    "tags": []
   },
   "outputs": [],
   "source": [
    "m.split?"
   ]
  },
  {
   "cell_type": "code",
   "execution_count": 28,
   "id": "218d0b64-1abd-4f1b-acd5-83cab0696c95",
   "metadata": {
    "tags": []
   },
   "outputs": [
    {
     "data": {
      "text/plain": [
       "['2', '3']"
      ]
     },
     "execution_count": 28,
     "metadata": {},
     "output_type": "execute_result"
    }
   ],
   "source": [
    "m.split()"
   ]
  },
  {
   "cell_type": "code",
   "execution_count": null,
   "id": "331bb8cf-6a8e-40a1-9c15-a50d11414e09",
   "metadata": {},
   "outputs": [],
   "source": []
  },
  {
   "cell_type": "markdown",
   "id": "fd90185d-9b2e-45fd-bfeb-f625f4336a7f",
   "metadata": {},
   "source": [
    "### print()"
   ]
  },
  {
   "cell_type": "code",
   "execution_count": 15,
   "id": "1dc57b9a-660f-4afb-873e-bf69b637c8b8",
   "metadata": {
    "tags": []
   },
   "outputs": [
    {
     "data": {
      "text/plain": [
       "'123'"
      ]
     },
     "execution_count": 15,
     "metadata": {},
     "output_type": "execute_result"
    }
   ],
   "source": [
    "x"
   ]
  },
  {
   "cell_type": "code",
   "execution_count": 16,
   "id": "59f5928b-431a-48c0-9fab-6ef3599b763e",
   "metadata": {
    "tags": []
   },
   "outputs": [
    {
     "data": {
      "text/plain": [
       "123"
      ]
     },
     "execution_count": 16,
     "metadata": {},
     "output_type": "execute_result"
    }
   ],
   "source": [
    "y"
   ]
  },
  {
   "cell_type": "code",
   "execution_count": 17,
   "id": "14af6141-b94b-4685-ab58-43d228cef6da",
   "metadata": {
    "tags": []
   },
   "outputs": [],
   "source": [
    "z = x == y"
   ]
  },
  {
   "cell_type": "code",
   "execution_count": 18,
   "id": "3a77f87e-f738-4847-85b9-eb3a81f44054",
   "metadata": {
    "tags": []
   },
   "outputs": [
    {
     "name": "stdout",
     "output_type": "stream",
     "text": [
      "123 123 False\n"
     ]
    }
   ],
   "source": [
    "print(x, y, z)"
   ]
  },
  {
   "cell_type": "code",
   "execution_count": 19,
   "id": "ece0e4c7-4b5a-468c-926c-938e3b586c39",
   "metadata": {
    "tags": []
   },
   "outputs": [
    {
     "data": {
      "text/plain": [
       "\u001b[1;31mSignature:\u001b[0m \u001b[0mprint\u001b[0m\u001b[1;33m(\u001b[0m\u001b[1;33m*\u001b[0m\u001b[0margs\u001b[0m\u001b[1;33m,\u001b[0m \u001b[0msep\u001b[0m\u001b[1;33m=\u001b[0m\u001b[1;34m' '\u001b[0m\u001b[1;33m,\u001b[0m \u001b[0mend\u001b[0m\u001b[1;33m=\u001b[0m\u001b[1;34m'\\n'\u001b[0m\u001b[1;33m,\u001b[0m \u001b[0mfile\u001b[0m\u001b[1;33m=\u001b[0m\u001b[1;32mNone\u001b[0m\u001b[1;33m,\u001b[0m \u001b[0mflush\u001b[0m\u001b[1;33m=\u001b[0m\u001b[1;32mFalse\u001b[0m\u001b[1;33m)\u001b[0m\u001b[1;33m\u001b[0m\u001b[1;33m\u001b[0m\u001b[0m\n",
       "\u001b[1;31mDocstring:\u001b[0m\n",
       "Prints the values to a stream, or to sys.stdout by default.\n",
       "\n",
       "sep\n",
       "  string inserted between values, default a space.\n",
       "end\n",
       "  string appended after the last value, default a newline.\n",
       "file\n",
       "  a file-like object (stream); defaults to the current sys.stdout.\n",
       "flush\n",
       "  whether to forcibly flush the stream.\n",
       "\u001b[1;31mType:\u001b[0m      builtin_function_or_method"
      ]
     },
     "metadata": {},
     "output_type": "display_data"
    }
   ],
   "source": [
    "print?"
   ]
  },
  {
   "cell_type": "code",
   "execution_count": 21,
   "id": "fdb7d35d-36c9-4d9c-b3bb-7cd3d297dcb3",
   "metadata": {
    "tags": []
   },
   "outputs": [
    {
     "name": "stdout",
     "output_type": "stream",
     "text": [
      "123123False\n"
     ]
    }
   ],
   "source": [
    "print(x, y, z, sep='')"
   ]
  },
  {
   "cell_type": "code",
   "execution_count": 22,
   "id": "d68aa293-9274-448a-8ee0-96fc034090a6",
   "metadata": {
    "tags": []
   },
   "outputs": [
    {
     "name": "stdout",
     "output_type": "stream",
     "text": [
      "123+123+False\n"
     ]
    }
   ],
   "source": [
    "print(x, y, z, sep='+')"
   ]
  },
  {
   "cell_type": "markdown",
   "id": "7324b32e-cbc3-4735-a8e2-36d7354a2261",
   "metadata": {},
   "source": [
    "### Zerojudge A003"
   ]
  },
  {
   "cell_type": "code",
   "execution_count": 29,
   "id": "2f847a22-cdb1-4aee-9d6d-b245034c0722",
   "metadata": {
    "tags": []
   },
   "outputs": [
    {
     "data": {
      "text/plain": [
       "0"
      ]
     },
     "execution_count": 29,
     "metadata": {},
     "output_type": "execute_result"
    }
   ],
   "source": [
    "M = 1\n",
    "D = 1\n",
    "S = (M*2+1)%3\n",
    "S"
   ]
  },
  {
   "cell_type": "code",
   "execution_count": 30,
   "id": "2aa6535d-cbff-48e3-bb20-1bc166d5d253",
   "metadata": {
    "tags": []
   },
   "outputs": [],
   "source": [
    "luck = ['普通', '吉', '大吉']"
   ]
  },
  {
   "cell_type": "code",
   "execution_count": 31,
   "id": "e993b2ee-f626-4d80-9cbb-7b93962f1aee",
   "metadata": {
    "tags": []
   },
   "outputs": [
    {
     "data": {
      "text/plain": [
       "'普通'"
      ]
     },
     "execution_count": 31,
     "metadata": {},
     "output_type": "execute_result"
    }
   ],
   "source": [
    "luck[S]"
   ]
  },
  {
   "cell_type": "code",
   "execution_count": 32,
   "id": "71e8692b-2414-4f3b-8604-781cef8858cb",
   "metadata": {
    "tags": []
   },
   "outputs": [
    {
     "name": "stdout",
     "output_type": "stream",
     "text": [
      "普通\n"
     ]
    }
   ],
   "source": [
    "print(luck[S])"
   ]
  },
  {
   "cell_type": "code",
   "execution_count": null,
   "id": "1dd601b6-c927-4cda-a3a3-3d85717e6e86",
   "metadata": {},
   "outputs": [],
   "source": []
  }
 ],
 "metadata": {
  "kernelspec": {
   "display_name": "Python 3 (ipykernel)",
   "language": "python",
   "name": "python3"
  },
  "language_info": {
   "codemirror_mode": {
    "name": "ipython",
    "version": 3
   },
   "file_extension": ".py",
   "mimetype": "text/x-python",
   "name": "python",
   "nbconvert_exporter": "python",
   "pygments_lexer": "ipython3",
   "version": "3.11.5"
  }
 },
 "nbformat": 4,
 "nbformat_minor": 5
}
