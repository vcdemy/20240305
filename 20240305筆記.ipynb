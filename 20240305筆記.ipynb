{
 "cells": [
  {
   "cell_type": "markdown",
   "id": "f7a8c923-9c87-49be-adb9-1361085c758e",
   "metadata": {},
   "source": [
    "# 20240305 筆記"
   ]
  },
  {
   "cell_type": "markdown",
   "id": "6e137e50-9198-4539-9780-dc4e2f64cf4b",
   "metadata": {},
   "source": [
    "## 資料型態轉換"
   ]
  },
  {
   "cell_type": "markdown",
   "id": "00ef2ada-cd63-407a-80fa-4d66e49825e0",
   "metadata": {},
   "source": [
    "* int -> str\n",
    "* str -> int"
   ]
  },
  {
   "cell_type": "code",
   "execution_count": 1,
   "id": "49ab2ffa-e0be-4c48-a4a2-b6c446fbcb8d",
   "metadata": {
    "tags": []
   },
   "outputs": [],
   "source": [
    "x = 1"
   ]
  },
  {
   "cell_type": "code",
   "execution_count": 2,
   "id": "baf79276-63f5-4c3d-921d-f4531f47f5ab",
   "metadata": {
    "tags": []
   },
   "outputs": [
    {
     "data": {
      "text/plain": [
       "int"
      ]
     },
     "execution_count": 2,
     "metadata": {},
     "output_type": "execute_result"
    }
   ],
   "source": [
    "type(x)"
   ]
  },
  {
   "cell_type": "code",
   "execution_count": 3,
   "id": "cc68c1bb-64ad-46b7-a669-319ea52831ca",
   "metadata": {
    "tags": []
   },
   "outputs": [],
   "source": [
    "y = '2'"
   ]
  },
  {
   "cell_type": "code",
   "execution_count": 4,
   "id": "55f20ed4-000e-4991-b2e9-1855f36ade48",
   "metadata": {
    "tags": []
   },
   "outputs": [
    {
     "data": {
      "text/plain": [
       "str"
      ]
     },
     "execution_count": 4,
     "metadata": {},
     "output_type": "execute_result"
    }
   ],
   "source": [
    "type(y)"
   ]
  },
  {
   "cell_type": "code",
   "execution_count": 5,
   "id": "67b63ee5-d4ca-40a0-86d4-bdab6fa5f0ab",
   "metadata": {
    "tags": []
   },
   "outputs": [
    {
     "ename": "TypeError",
     "evalue": "unsupported operand type(s) for +: 'int' and 'str'",
     "output_type": "error",
     "traceback": [
      "\u001b[1;31m---------------------------------------------------------------------------\u001b[0m",
      "\u001b[1;31mTypeError\u001b[0m                                 Traceback (most recent call last)",
      "Cell \u001b[1;32mIn[5], line 1\u001b[0m\n\u001b[1;32m----> 1\u001b[0m x \u001b[38;5;241m+\u001b[39m y\n",
      "\u001b[1;31mTypeError\u001b[0m: unsupported operand type(s) for +: 'int' and 'str'"
     ]
    }
   ],
   "source": [
    "x + y"
   ]
  },
  {
   "cell_type": "code",
   "execution_count": 6,
   "id": "8652e17f-cac8-4ce8-8351-5e0b2d53800d",
   "metadata": {
    "tags": []
   },
   "outputs": [
    {
     "data": {
      "text/plain": [
       "3"
      ]
     },
     "execution_count": 6,
     "metadata": {},
     "output_type": "execute_result"
    }
   ],
   "source": [
    "x + int(y)"
   ]
  },
  {
   "cell_type": "code",
   "execution_count": 7,
   "id": "8297ba4d-e964-4eef-8b66-ba647a4bab4e",
   "metadata": {
    "tags": []
   },
   "outputs": [
    {
     "data": {
      "text/plain": [
       "'12'"
      ]
     },
     "execution_count": 7,
     "metadata": {},
     "output_type": "execute_result"
    }
   ],
   "source": [
    "str(x) + y"
   ]
  },
  {
   "cell_type": "markdown",
   "id": "b61e84be-a228-47af-91b4-417bcd155706",
   "metadata": {},
   "source": [
    "## input() v.s., print()"
   ]
  },
  {
   "cell_type": "markdown",
   "id": "a03b9086-2618-443d-8b0f-9e7fe898a710",
   "metadata": {},
   "source": [
    "### input()"
   ]
  },
  {
   "cell_type": "code",
   "execution_count": 8,
   "id": "63d6feaf-3eee-4fde-8ef6-b96eaec477de",
   "metadata": {
    "tags": []
   },
   "outputs": [
    {
     "data": {
      "text/plain": [
       "\u001b[1;31mSignature:\u001b[0m \u001b[0minput\u001b[0m\u001b[1;33m(\u001b[0m\u001b[0mprompt\u001b[0m\u001b[1;33m=\u001b[0m\u001b[1;34m''\u001b[0m\u001b[1;33m)\u001b[0m\u001b[1;33m\u001b[0m\u001b[1;33m\u001b[0m\u001b[0m\n",
       "\u001b[1;31mDocstring:\u001b[0m\n",
       "Forward raw_input to frontends\n",
       "\n",
       "Raises\n",
       "------\n",
       "StdinNotImplementedError if active frontend doesn't support stdin.\n",
       "\u001b[1;31mFile:\u001b[0m      c:\\users\\victor\\anaconda3\\lib\\site-packages\\ipykernel\\kernelbase.py\n",
       "\u001b[1;31mType:\u001b[0m      method"
      ]
     },
     "metadata": {},
     "output_type": "display_data"
    }
   ],
   "source": [
    "input?"
   ]
  },
  {
   "cell_type": "code",
   "execution_count": 9,
   "id": "fbdd599b-37fd-4d07-bbad-739b133e4427",
   "metadata": {
    "tags": []
   },
   "outputs": [
    {
     "ename": "SyntaxError",
     "evalue": "unterminated string literal (detected at line 1) (3601583748.py, line 1)",
     "output_type": "error",
     "traceback": [
      "\u001b[1;36m  Cell \u001b[1;32mIn[9], line 1\u001b[1;36m\u001b[0m\n\u001b[1;33m    input('請輸入一個數字\")\u001b[0m\n\u001b[1;37m          ^\u001b[0m\n\u001b[1;31mSyntaxError\u001b[0m\u001b[1;31m:\u001b[0m unterminated string literal (detected at line 1)\n"
     ]
    }
   ],
   "source": [
    "input('請輸入一個數字\")"
   ]
  },
  {
   "cell_type": "code",
   "execution_count": 10,
   "id": "d76d4b31-422a-4259-ba79-a2f97ff80f99",
   "metadata": {
    "tags": []
   },
   "outputs": [
    {
     "name": "stdin",
     "output_type": "stream",
     "text": [
      "請輸入一個數字 123\n"
     ]
    },
    {
     "data": {
      "text/plain": [
       "'123'"
      ]
     },
     "execution_count": 10,
     "metadata": {},
     "output_type": "execute_result"
    }
   ],
   "source": [
    "input('請輸入一個數字')"
   ]
  },
  {
   "cell_type": "code",
   "execution_count": 11,
   "id": "a14c8adc-8f03-4bdb-ae19-4e8b8400d9d5",
   "metadata": {
    "tags": []
   },
   "outputs": [
    {
     "name": "stdin",
     "output_type": "stream",
     "text": [
      "請輸入一個數字:  123\n"
     ]
    }
   ],
   "source": [
    "x = input('請輸入一個數字: ')"
   ]
  },
  {
   "cell_type": "code",
   "execution_count": 12,
   "id": "aee5d879-775c-4e52-bf76-dc0f20413d01",
   "metadata": {
    "tags": []
   },
   "outputs": [
    {
     "data": {
      "text/plain": [
       "str"
      ]
     },
     "execution_count": 12,
     "metadata": {},
     "output_type": "execute_result"
    }
   ],
   "source": [
    "type(x)"
   ]
  },
  {
   "cell_type": "code",
   "execution_count": 13,
   "id": "22b55f77-f403-4db3-93be-87d5b966bd2f",
   "metadata": {
    "tags": []
   },
   "outputs": [
    {
     "name": "stdin",
     "output_type": "stream",
     "text": [
      "請輸入一個數字:  123\n"
     ]
    }
   ],
   "source": [
    "y = int(input('請輸入一個數字: '))"
   ]
  },
  {
   "cell_type": "code",
   "execution_count": 14,
   "id": "a61e69ff-26f7-40b7-aa74-a39aaa6d6cfe",
   "metadata": {
    "tags": []
   },
   "outputs": [
    {
     "data": {
      "text/plain": [
       "int"
      ]
     },
     "execution_count": 14,
     "metadata": {},
     "output_type": "execute_result"
    }
   ],
   "source": [
    "type(y)"
   ]
  },
  {
   "cell_type": "code",
   "execution_count": 23,
   "id": "ffcec804-8172-443c-9b87-853cc5b04d66",
   "metadata": {
    "tags": []
   },
   "outputs": [
    {
     "name": "stdin",
     "output_type": "stream",
     "text": [
      "請輸入兩個數字:  2 3\n"
     ]
    }
   ],
   "source": [
    "m = input(\"請輸入兩個數字: \")"
   ]
  },
  {
   "cell_type": "code",
   "execution_count": 24,
   "id": "36e806dd-d4d7-425e-95ba-0bdacda4582d",
   "metadata": {
    "tags": []
   },
   "outputs": [
    {
     "data": {
      "text/plain": [
       "'2 3'"
      ]
     },
     "execution_count": 24,
     "metadata": {},
     "output_type": "execute_result"
    }
   ],
   "source": [
    "m"
   ]
  },
  {
   "cell_type": "code",
   "execution_count": 25,
   "id": "728efebe-9777-4bfd-8920-f365ffc0f2c3",
   "metadata": {
    "tags": []
   },
   "outputs": [
    {
     "data": {
      "text/plain": [
       "str"
      ]
     },
     "execution_count": 25,
     "metadata": {},
     "output_type": "execute_result"
    }
   ],
   "source": [
    "type(m)"
   ]
  },
  {
   "cell_type": "code",
   "execution_count": null,
   "id": "b6ef7975-3ceb-4a52-901b-7984103e92ec",
   "metadata": {
    "tags": []
   },
   "outputs": [],
   "source": [
    "m.split?"
   ]
  },
  {
   "cell_type": "code",
   "execution_count": 28,
   "id": "218d0b64-1abd-4f1b-acd5-83cab0696c95",
   "metadata": {
    "tags": []
   },
   "outputs": [
    {
     "data": {
      "text/plain": [
       "['2', '3']"
      ]
     },
     "execution_count": 28,
     "metadata": {},
     "output_type": "execute_result"
    }
   ],
   "source": [
    "m.split()"
   ]
  },
  {
   "cell_type": "code",
   "execution_count": null,
   "id": "331bb8cf-6a8e-40a1-9c15-a50d11414e09",
   "metadata": {},
   "outputs": [],
   "source": []
  },
  {
   "cell_type": "markdown",
   "id": "fd90185d-9b2e-45fd-bfeb-f625f4336a7f",
   "metadata": {},
   "source": [
    "### print()"
   ]
  },
  {
   "cell_type": "code",
   "execution_count": 15,
   "id": "1dc57b9a-660f-4afb-873e-bf69b637c8b8",
   "metadata": {
    "tags": []
   },
   "outputs": [
    {
     "data": {
      "text/plain": [
       "'123'"
      ]
     },
     "execution_count": 15,
     "metadata": {},
     "output_type": "execute_result"
    }
   ],
   "source": [
    "x"
   ]
  },
  {
   "cell_type": "code",
   "execution_count": 16,
   "id": "59f5928b-431a-48c0-9fab-6ef3599b763e",
   "metadata": {
    "tags": []
   },
   "outputs": [
    {
     "data": {
      "text/plain": [
       "123"
      ]
     },
     "execution_count": 16,
     "metadata": {},
     "output_type": "execute_result"
    }
   ],
   "source": [
    "y"
   ]
  },
  {
   "cell_type": "code",
   "execution_count": 17,
   "id": "14af6141-b94b-4685-ab58-43d228cef6da",
   "metadata": {
    "tags": []
   },
   "outputs": [],
   "source": [
    "z = x == y"
   ]
  },
  {
   "cell_type": "code",
   "execution_count": 18,
   "id": "3a77f87e-f738-4847-85b9-eb3a81f44054",
   "metadata": {
    "tags": []
   },
   "outputs": [
    {
     "name": "stdout",
     "output_type": "stream",
     "text": [
      "123 123 False\n"
     ]
    }
   ],
   "source": [
    "print(x, y, z)"
   ]
  },
  {
   "cell_type": "code",
   "execution_count": 19,
   "id": "ece0e4c7-4b5a-468c-926c-938e3b586c39",
   "metadata": {
    "tags": []
   },
   "outputs": [
    {
     "data": {
      "text/plain": [
       "\u001b[1;31mSignature:\u001b[0m \u001b[0mprint\u001b[0m\u001b[1;33m(\u001b[0m\u001b[1;33m*\u001b[0m\u001b[0margs\u001b[0m\u001b[1;33m,\u001b[0m \u001b[0msep\u001b[0m\u001b[1;33m=\u001b[0m\u001b[1;34m' '\u001b[0m\u001b[1;33m,\u001b[0m \u001b[0mend\u001b[0m\u001b[1;33m=\u001b[0m\u001b[1;34m'\\n'\u001b[0m\u001b[1;33m,\u001b[0m \u001b[0mfile\u001b[0m\u001b[1;33m=\u001b[0m\u001b[1;32mNone\u001b[0m\u001b[1;33m,\u001b[0m \u001b[0mflush\u001b[0m\u001b[1;33m=\u001b[0m\u001b[1;32mFalse\u001b[0m\u001b[1;33m)\u001b[0m\u001b[1;33m\u001b[0m\u001b[1;33m\u001b[0m\u001b[0m\n",
       "\u001b[1;31mDocstring:\u001b[0m\n",
       "Prints the values to a stream, or to sys.stdout by default.\n",
       "\n",
       "sep\n",
       "  string inserted between values, default a space.\n",
       "end\n",
       "  string appended after the last value, default a newline.\n",
       "file\n",
       "  a file-like object (stream); defaults to the current sys.stdout.\n",
       "flush\n",
       "  whether to forcibly flush the stream.\n",
       "\u001b[1;31mType:\u001b[0m      builtin_function_or_method"
      ]
     },
     "metadata": {},
     "output_type": "display_data"
    }
   ],
   "source": [
    "print?"
   ]
  },
  {
   "cell_type": "code",
   "execution_count": 21,
   "id": "fdb7d35d-36c9-4d9c-b3bb-7cd3d297dcb3",
   "metadata": {
    "tags": []
   },
   "outputs": [
    {
     "name": "stdout",
     "output_type": "stream",
     "text": [
      "123123False\n"
     ]
    }
   ],
   "source": [
    "print(x, y, z, sep='')"
   ]
  },
  {
   "cell_type": "code",
   "execution_count": 22,
   "id": "d68aa293-9274-448a-8ee0-96fc034090a6",
   "metadata": {
    "tags": []
   },
   "outputs": [
    {
     "name": "stdout",
     "output_type": "stream",
     "text": [
      "123+123+False\n"
     ]
    }
   ],
   "source": [
    "print(x, y, z, sep='+')"
   ]
  },
  {
   "cell_type": "markdown",
   "id": "7324b32e-cbc3-4735-a8e2-36d7354a2261",
   "metadata": {},
   "source": [
    "### Zerojudge A003"
   ]
  },
  {
   "cell_type": "code",
   "execution_count": 29,
   "id": "2f847a22-cdb1-4aee-9d6d-b245034c0722",
   "metadata": {
    "tags": []
   },
   "outputs": [
    {
     "data": {
      "text/plain": [
       "0"
      ]
     },
     "execution_count": 29,
     "metadata": {},
     "output_type": "execute_result"
    }
   ],
   "source": [
    "M = 1\n",
    "D = 1\n",
    "S = (M*2+1)%3\n",
    "S"
   ]
  },
  {
   "cell_type": "code",
   "execution_count": 30,
   "id": "2aa6535d-cbff-48e3-bb20-1bc166d5d253",
   "metadata": {
    "tags": []
   },
   "outputs": [],
   "source": [
    "luck = ['普通', '吉', '大吉']"
   ]
  },
  {
   "cell_type": "code",
   "execution_count": 31,
   "id": "e993b2ee-f626-4d80-9cbb-7b93962f1aee",
   "metadata": {
    "tags": []
   },
   "outputs": [
    {
     "data": {
      "text/plain": [
       "'普通'"
      ]
     },
     "execution_count": 31,
     "metadata": {},
     "output_type": "execute_result"
    }
   ],
   "source": [
    "luck[S]"
   ]
  },
  {
   "cell_type": "code",
   "execution_count": 32,
   "id": "71e8692b-2414-4f3b-8604-781cef8858cb",
   "metadata": {
    "tags": []
   },
   "outputs": [
    {
     "name": "stdout",
     "output_type": "stream",
     "text": [
      "普通\n"
     ]
    }
   ],
   "source": [
    "print(luck[S])"
   ]
  },
  {
   "cell_type": "markdown",
   "id": "9ee15189-6e79-4763-b206-136c88c3eeaf",
   "metadata": {},
   "source": [
    "## bool 型態轉換"
   ]
  },
  {
   "cell_type": "code",
   "execution_count": 1,
   "id": "31f3bc22-487e-4795-bfb6-d29efd51078b",
   "metadata": {
    "tags": []
   },
   "outputs": [
    {
     "data": {
      "text/plain": [
       "bool"
      ]
     },
     "execution_count": 1,
     "metadata": {},
     "output_type": "execute_result"
    }
   ],
   "source": [
    "type(True)"
   ]
  },
  {
   "cell_type": "code",
   "execution_count": 2,
   "id": "6156b23f-220b-46fa-81e6-aad5561062c2",
   "metadata": {
    "tags": []
   },
   "outputs": [
    {
     "data": {
      "text/plain": [
       "1"
      ]
     },
     "execution_count": 2,
     "metadata": {},
     "output_type": "execute_result"
    }
   ],
   "source": [
    "True + 0"
   ]
  },
  {
   "cell_type": "code",
   "execution_count": 3,
   "id": "f68a3a0f-37ad-4faf-a5aa-e6811fc73187",
   "metadata": {
    "tags": []
   },
   "outputs": [
    {
     "data": {
      "text/plain": [
       "2"
      ]
     },
     "execution_count": 3,
     "metadata": {},
     "output_type": "execute_result"
    }
   ],
   "source": [
    "True + True"
   ]
  },
  {
   "cell_type": "code",
   "execution_count": 4,
   "id": "6e645308-7a77-41b7-a0c2-f42f68d8469a",
   "metadata": {
    "tags": []
   },
   "outputs": [],
   "source": [
    "n = [True, True, False, False, True]"
   ]
  },
  {
   "cell_type": "code",
   "execution_count": 5,
   "id": "5f5f15c6-2fab-493e-808a-26d98d2fe03c",
   "metadata": {
    "tags": []
   },
   "outputs": [
    {
     "data": {
      "text/plain": [
       "3"
      ]
     },
     "execution_count": 5,
     "metadata": {},
     "output_type": "execute_result"
    }
   ],
   "source": [
    "sum(n)"
   ]
  },
  {
   "cell_type": "markdown",
   "id": "5a79396c-77ea-4e22-bd56-0e8a89063ae6",
   "metadata": {},
   "source": [
    "## 進一步說明 str"
   ]
  },
  {
   "cell_type": "markdown",
   "id": "99ed5c9f-0180-44fa-903d-81ad37c7c5e6",
   "metadata": {},
   "source": [
    "https://github.com/vcdemy/python_basics/blob/main/%E5%AD%97%E4%B8%B2.md"
   ]
  },
  {
   "cell_type": "code",
   "execution_count": 6,
   "id": "21c86b70-504f-4df8-bbeb-505622082c4c",
   "metadata": {
    "tags": []
   },
   "outputs": [
    {
     "ename": "SyntaxError",
     "evalue": "unterminated string literal (detected at line 1) (1285231099.py, line 1)",
     "output_type": "error",
     "traceback": [
      "\u001b[1;36m  Cell \u001b[1;32mIn[6], line 1\u001b[1;36m\u001b[0m\n\u001b[1;33m    s = '說明文字\"\u001b[0m\n\u001b[1;37m        ^\u001b[0m\n\u001b[1;31mSyntaxError\u001b[0m\u001b[1;31m:\u001b[0m unterminated string literal (detected at line 1)\n"
     ]
    }
   ],
   "source": [
    "s = '說明文字\""
   ]
  },
  {
   "cell_type": "code",
   "execution_count": 7,
   "id": "7c860de0-40cd-409a-8dc8-8f50a0c61f5f",
   "metadata": {
    "tags": []
   },
   "outputs": [],
   "source": [
    "s1 = \"It's my dog.\""
   ]
  },
  {
   "cell_type": "code",
   "execution_count": 8,
   "id": "a4856fbf-7396-47f2-ad0d-566446b71f2d",
   "metadata": {
    "tags": []
   },
   "outputs": [
    {
     "ename": "SyntaxError",
     "evalue": "unterminated string literal (detected at line 1) (74748037.py, line 1)",
     "output_type": "error",
     "traceback": [
      "\u001b[1;36m  Cell \u001b[1;32mIn[8], line 1\u001b[1;36m\u001b[0m\n\u001b[1;33m    s2 = 'It's my dog.'\u001b[0m\n\u001b[1;37m                      ^\u001b[0m\n\u001b[1;31mSyntaxError\u001b[0m\u001b[1;31m:\u001b[0m unterminated string literal (detected at line 1)\n"
     ]
    }
   ],
   "source": [
    "s2 = 'It's my dog.'"
   ]
  },
  {
   "cell_type": "code",
   "execution_count": 9,
   "id": "e7beaa67-70b0-445f-9517-37d751c1c63a",
   "metadata": {
    "tags": []
   },
   "outputs": [],
   "source": [
    "s3 = 'It\\'s my dog.'"
   ]
  },
  {
   "cell_type": "code",
   "execution_count": 10,
   "id": "1d0cbd98-a2db-4dce-aacf-805c9c1b5dda",
   "metadata": {
    "tags": []
   },
   "outputs": [
    {
     "data": {
      "text/plain": [
       "True"
      ]
     },
     "execution_count": 10,
     "metadata": {},
     "output_type": "execute_result"
    }
   ],
   "source": [
    "s1 == s3"
   ]
  },
  {
   "cell_type": "code",
   "execution_count": 11,
   "id": "e1d2315b-3350-406d-8fda-a4bcbe818fd6",
   "metadata": {
    "tags": []
   },
   "outputs": [],
   "source": [
    "s4 = 'my name is Victor.\\nI am from Taiwan.'"
   ]
  },
  {
   "cell_type": "code",
   "execution_count": 12,
   "id": "b34bc44b-d2c5-47de-853a-ecc97dc07d22",
   "metadata": {
    "tags": []
   },
   "outputs": [
    {
     "name": "stdout",
     "output_type": "stream",
     "text": [
      "my name is Victor.\n",
      "I am from Taiwan.\n"
     ]
    }
   ],
   "source": [
    "print(s4)"
   ]
  },
  {
   "cell_type": "markdown",
   "id": "a2e79a9c-1de6-4ccd-a8d3-9f578bd56e1d",
   "metadata": {},
   "source": [
    "## print() 的參數說明"
   ]
  },
  {
   "cell_type": "code",
   "execution_count": 14,
   "id": "1e16ec77-2daa-4bc8-b63f-da98cd794791",
   "metadata": {
    "tags": []
   },
   "outputs": [],
   "source": [
    "x = 123\n",
    "y = '123'\n",
    "z = x == y"
   ]
  },
  {
   "cell_type": "code",
   "execution_count": 15,
   "id": "a38504fd-0387-4026-9f1c-15e02809cc66",
   "metadata": {
    "tags": []
   },
   "outputs": [
    {
     "name": "stdout",
     "output_type": "stream",
     "text": [
      "123 123 False\n"
     ]
    }
   ],
   "source": [
    "print(x, y, z)"
   ]
  },
  {
   "cell_type": "code",
   "execution_count": 16,
   "id": "bb7c2bb0-76a7-47b1-be2c-a90680639f32",
   "metadata": {
    "tags": []
   },
   "outputs": [
    {
     "name": "stdout",
     "output_type": "stream",
     "text": [
      "123*123*False\n"
     ]
    }
   ],
   "source": [
    "print(x, y, z, sep='*')"
   ]
  },
  {
   "cell_type": "code",
   "execution_count": 18,
   "id": "e0b3f364-46d9-4a45-9988-748913b581cf",
   "metadata": {
    "tags": []
   },
   "outputs": [
    {
     "name": "stdout",
     "output_type": "stream",
     "text": [
      "0\n",
      "1\n",
      "2\n",
      "3\n",
      "4\n"
     ]
    }
   ],
   "source": [
    "for i in range(5):\n",
    "    print(i)"
   ]
  },
  {
   "cell_type": "code",
   "execution_count": 19,
   "id": "b8b5636a-bf21-481f-a0b8-181585294d11",
   "metadata": {
    "tags": []
   },
   "outputs": [
    {
     "name": "stdout",
     "output_type": "stream",
     "text": [
      "01234"
     ]
    }
   ],
   "source": [
    "for i in range(5):\n",
    "    print(i, end=\"\")"
   ]
  },
  {
   "cell_type": "code",
   "execution_count": 20,
   "id": "88d66cb7-1b1a-4492-9b80-759fed9f5910",
   "metadata": {
    "tags": []
   },
   "outputs": [
    {
     "name": "stdout",
     "output_type": "stream",
     "text": [
      "0+1+2+3+4+"
     ]
    }
   ],
   "source": [
    "for i in range(5):\n",
    "    print(i, end=\"+\")"
   ]
  },
  {
   "cell_type": "markdown",
   "id": "3fa07336-7a2e-4e30-a025-0058d96916ae",
   "metadata": {},
   "source": [
    "## 字串切割練習"
   ]
  },
  {
   "cell_type": "markdown",
   "id": "d3d909b4-8058-4e97-b79a-ab2a465e8a12",
   "metadata": {},
   "source": [
    "請將下列網址上面的 .jpg 檔檔名擷取出來。\n",
    "\n",
    "https://images.chinatimes.com/newsphoto/2023-03-11/1024/20230311001242.jpg"
   ]
  },
  {
   "cell_type": "code",
   "execution_count": 21,
   "id": "726f885e-a45c-4a0e-84dc-18921bdc2dfe",
   "metadata": {
    "tags": []
   },
   "outputs": [],
   "source": [
    "url = 'https://images.chinatimes.com/newsphoto/2023-03-11/1024/20230311001242.jpg'"
   ]
  },
  {
   "cell_type": "code",
   "execution_count": 22,
   "id": "f133f529-eb7a-4248-8eae-be375b9044c5",
   "metadata": {
    "tags": []
   },
   "outputs": [
    {
     "data": {
      "text/plain": [
       "['https:',\n",
       " '',\n",
       " 'images.chinatimes.com',\n",
       " 'newsphoto',\n",
       " '2023-03-11',\n",
       " '1024',\n",
       " '20230311001242.jpg']"
      ]
     },
     "execution_count": 22,
     "metadata": {},
     "output_type": "execute_result"
    }
   ],
   "source": [
    "url.split('/')"
   ]
  },
  {
   "cell_type": "code",
   "execution_count": 23,
   "id": "3087d793-cf2d-457c-b9b5-91f8d9b223c2",
   "metadata": {
    "tags": []
   },
   "outputs": [
    {
     "data": {
      "text/plain": [
       "'20230311001242.jpg'"
      ]
     },
     "execution_count": 23,
     "metadata": {},
     "output_type": "execute_result"
    }
   ],
   "source": [
    "url.split('/')[6]"
   ]
  },
  {
   "cell_type": "code",
   "execution_count": 24,
   "id": "c918e956-f672-44f5-86c9-42b05cd3abc5",
   "metadata": {
    "tags": []
   },
   "outputs": [
    {
     "data": {
      "text/plain": [
       "'20230311001242.jpg'"
      ]
     },
     "execution_count": 24,
     "metadata": {},
     "output_type": "execute_result"
    }
   ],
   "source": [
    "url.split('/')[-1]"
   ]
  },
  {
   "cell_type": "markdown",
   "id": "cac3e533-2d38-4708-9a11-b52d1df6b977",
   "metadata": {},
   "source": [
    "## 將上面的 url 的圖片抓取下來存在硬碟"
   ]
  },
  {
   "cell_type": "code",
   "execution_count": 25,
   "id": "066b533b-6b9c-4b5f-acef-d3c01d927e53",
   "metadata": {
    "tags": []
   },
   "outputs": [],
   "source": [
    "import requests"
   ]
  },
  {
   "cell_type": "code",
   "execution_count": 29,
   "id": "adf1e302-f59b-4dc3-9dfb-1bb05fa70b72",
   "metadata": {
    "tags": []
   },
   "outputs": [
    {
     "name": "stderr",
     "output_type": "stream",
     "text": [
      "C:\\Users\\victor\\anaconda3\\Lib\\site-packages\\urllib3\\connectionpool.py:1056: InsecureRequestWarning: Unverified HTTPS request is being made to host 'images.chinatimes.com'. Adding certificate verification is strongly advised. See: https://urllib3.readthedocs.io/en/1.26.x/advanced-usage.html#ssl-warnings\n",
      "  warnings.warn(\n"
     ]
    }
   ],
   "source": [
    "r = requests.get(url, verify=False)"
   ]
  },
  {
   "cell_type": "code",
   "execution_count": 30,
   "id": "86c3af47-d349-47f6-9304-45bc49eff0ec",
   "metadata": {
    "tags": []
   },
   "outputs": [],
   "source": [
    "with open('c:\\\\users\\\\victor\\\\desktop\\\\lin.jpg','wb') as f:\n",
    "    f.write(r.content)"
   ]
  },
  {
   "cell_type": "code",
   "execution_count": 31,
   "id": "e7bf5808-8c89-4717-8690-a23bb5ef0735",
   "metadata": {
    "tags": []
   },
   "outputs": [],
   "source": [
    "with open(url.split('/')[-1], 'wb') as f:\n",
    "    f.write(r.content)"
   ]
  },
  {
   "cell_type": "code",
   "execution_count": null,
   "id": "df7cf128-4dc8-40e3-af20-c051b09002e8",
   "metadata": {},
   "outputs": [],
   "source": [
    "filename = url.split('/')[-1]\n",
    "with open(filename, 'wb') as f:\n",
    "    f.write(r.content)"
   ]
  },
  {
   "cell_type": "markdown",
   "id": "acf21d19-56c0-43c6-9130-65d8cee21ce8",
   "metadata": {},
   "source": [
    "## 基礎語法\n",
    "\n",
    "* 條件式 => if statements\n",
    "* 迴圈 loops\n",
    "* 函式 functions\n",
    "* 例外處理 exception handling"
   ]
  },
  {
   "cell_type": "markdown",
   "id": "49bbb06b-4575-4ad8-85d4-519a6f6fee70",
   "metadata": {},
   "source": [
    "### if statements"
   ]
  },
  {
   "cell_type": "code",
   "execution_count": 38,
   "id": "135e6030-e7dc-4fc3-9c7a-e30b02d81f59",
   "metadata": {
    "tags": []
   },
   "outputs": [],
   "source": [
    "a = 2\n",
    "b = 2"
   ]
  },
  {
   "cell_type": "code",
   "execution_count": 35,
   "id": "3f3139f0-88eb-4144-b6f9-2c7ca7d0fde9",
   "metadata": {
    "tags": []
   },
   "outputs": [],
   "source": [
    "if a > b:\n",
    "    print(\"a > b\")"
   ]
  },
  {
   "cell_type": "code",
   "execution_count": 36,
   "id": "44a7ae40-9a74-494c-811a-4236c47a2d93",
   "metadata": {
    "tags": []
   },
   "outputs": [
    {
     "name": "stdout",
     "output_type": "stream",
     "text": [
      "a 沒有大於 b\n"
     ]
    }
   ],
   "source": [
    "if a > b:\n",
    "    print(\"a 大於 b\")\n",
    "else:\n",
    "    print(\"a 沒有大於 b\")"
   ]
  },
  {
   "cell_type": "code",
   "execution_count": 39,
   "id": "39cf93f9-5647-4819-b438-132fa575cb4c",
   "metadata": {
    "tags": []
   },
   "outputs": [
    {
     "name": "stdout",
     "output_type": "stream",
     "text": [
      "a 等於 b\n"
     ]
    }
   ],
   "source": [
    "if a > b:\n",
    "    print(\"a 大於 b\")\n",
    "elif a < b:\n",
    "    print(\"a 小於 b\")\n",
    "else:\n",
    "    print(\"a 等於 b\")"
   ]
  },
  {
   "cell_type": "markdown",
   "id": "4bb34402-2f84-4701-9510-2fd474ad7907",
   "metadata": {},
   "source": [
    "### 練習:計算BMI並返回健康狀況"
   ]
  },
  {
   "cell_type": "markdown",
   "id": "bfef2f23-4189-478d-b7da-0c64e04e8cba",
   "metadata": {},
   "source": [
    "<pre>\n",
    "$$ bmi = \\frac{體重(公斤)}{身高(公尺)^2} $$\n",
    "\n",
    "|bmi|體位狀況|\n",
    "|:--|:-:|\n",
    "|bmi<18.5|體重過輕|\n",
    "|18.5<= bmi < 24| 健康體位|\n",
    "|bmi >= 24|體重過重|\n",
    "</pre>"
   ]
  },
  {
   "cell_type": "markdown",
   "id": "39dbbdd4-a392-49cb-8dcd-f5cfe99ce4b4",
   "metadata": {},
   "source": [
    "$$ bmi = \\frac{體重(公斤)}{身高(公尺)^2} $$\n",
    "\n",
    "|bmi|體位狀況|\n",
    "|:--|:-:|\n",
    "|bmi<18.5|體重過輕|\n",
    "|18.5<= bmi < 24| 健康體位|\n",
    "|bmi >= 24|體重過重|"
   ]
  },
  {
   "cell_type": "code",
   "execution_count": 40,
   "id": "258edc85-3184-4d80-bb0b-ea69062e33c3",
   "metadata": {
    "tags": []
   },
   "outputs": [
    {
     "data": {
      "text/plain": [
       "23.888440980620498"
      ]
     },
     "execution_count": 40,
     "metadata": {},
     "output_type": "execute_result"
    }
   ],
   "source": [
    "h = 1.83\n",
    "w = 80\n",
    "bmi = w / h**2\n",
    "bmi"
   ]
  },
  {
   "cell_type": "code",
   "execution_count": 42,
   "id": "a5092acb-414a-47d6-beed-32920711b484",
   "metadata": {
    "tags": []
   },
   "outputs": [
    {
     "name": "stdout",
     "output_type": "stream",
     "text": [
      "健康體位\n"
     ]
    }
   ],
   "source": [
    "if bmi < 18.5:\n",
    "    print(\"體重過輕\")\n",
    "elif bmi >= 24:\n",
    "    print(\"體重過重\")\n",
    "else:\n",
    "    print(\"健康體位\")"
   ]
  },
  {
   "cell_type": "code",
   "execution_count": 43,
   "id": "e3bdc45f-d8be-4edc-8a27-bec674069097",
   "metadata": {
    "tags": []
   },
   "outputs": [
    {
     "name": "stdin",
     "output_type": "stream",
     "text": [
      "請輸入身高(公尺):  1.83\n",
      "請輸入體重(公斤):  80\n"
     ]
    },
    {
     "name": "stdout",
     "output_type": "stream",
     "text": [
      "健康體位\n"
     ]
    }
   ],
   "source": [
    "h = float(input(\"請輸入身高(公尺): \"))\n",
    "w = float(input(\"請輸入體重(公斤): \"))\n",
    "bmi = w / h**2\n",
    "if bmi < 18.5:\n",
    "    print(\"體重過輕\")\n",
    "elif bmi >= 24:\n",
    "    print(\"體重過重\")\n",
    "else:\n",
    "    print(\"健康體位\")"
   ]
  },
  {
   "cell_type": "code",
   "execution_count": null,
   "id": "21e19258-8002-4a15-a9c3-744123d2df05",
   "metadata": {},
   "outputs": [],
   "source": [
    "h = float(input(\"請輸入身高(公尺): \"))\n",
    "w = float(input(\"請輸入體重(公斤): \"))\n",
    "bmi = w / h**2\n",
    "if bmi < 18.5:\n",
    "    print(\"體重過輕\")\n",
    "elif 18.5 <= bmi < 24:\n",
    "    print(\"健康體位\")\n",
    "else:\n",
    "    print(\"體重過重\")"
   ]
  },
  {
   "cell_type": "code",
   "execution_count": 44,
   "id": "2910626f-9669-4dc9-abf8-222881bff541",
   "metadata": {
    "tags": []
   },
   "outputs": [],
   "source": [
    "s = 'abcde'"
   ]
  },
  {
   "cell_type": "code",
   "execution_count": 45,
   "id": "a7ed1919-286f-4e53-84be-b330cbde93b2",
   "metadata": {
    "tags": []
   },
   "outputs": [
    {
     "name": "stdout",
     "output_type": "stream",
     "text": [
      "abcde\n"
     ]
    }
   ],
   "source": [
    "if s:\n",
    "    print(s)"
   ]
  },
  {
   "cell_type": "code",
   "execution_count": 46,
   "id": "9e54681d-4ac0-464d-950a-0a834f9dc748",
   "metadata": {
    "tags": []
   },
   "outputs": [
    {
     "data": {
      "text/plain": [
       "True"
      ]
     },
     "execution_count": 46,
     "metadata": {},
     "output_type": "execute_result"
    }
   ],
   "source": [
    "bool(s)"
   ]
  },
  {
   "cell_type": "code",
   "execution_count": 47,
   "id": "6e2e60da-6c1e-4378-a842-f8e78655b9d1",
   "metadata": {
    "tags": []
   },
   "outputs": [
    {
     "data": {
      "text/plain": [
       "False"
      ]
     },
     "execution_count": 47,
     "metadata": {},
     "output_type": "execute_result"
    }
   ],
   "source": [
    "bool(\"\")"
   ]
  },
  {
   "cell_type": "code",
   "execution_count": 48,
   "id": "ac646003-79f6-4caa-82b6-808ac77cdbfb",
   "metadata": {
    "tags": []
   },
   "outputs": [],
   "source": [
    "z = []"
   ]
  },
  {
   "cell_type": "code",
   "execution_count": 49,
   "id": "f985f175-3721-484e-bc4b-8da5ead7dc93",
   "metadata": {
    "tags": []
   },
   "outputs": [
    {
     "data": {
      "text/plain": [
       "False"
      ]
     },
     "execution_count": 49,
     "metadata": {},
     "output_type": "execute_result"
    }
   ],
   "source": [
    "bool(z)"
   ]
  },
  {
   "cell_type": "markdown",
   "id": "33d4bf53-6d25-4f2f-9af5-f4257dec9cef",
   "metadata": {},
   "source": [
    "## 迴圈 (loops)\n",
    "\n",
    "* for loops\n",
    "* while loops"
   ]
  },
  {
   "cell_type": "code",
   "execution_count": 50,
   "id": "d5a04e95-fd1a-4ca2-ad36-0a57d6da5f01",
   "metadata": {
    "tags": []
   },
   "outputs": [],
   "source": [
    "z = list('abcde')"
   ]
  },
  {
   "cell_type": "code",
   "execution_count": 52,
   "id": "4a2a974c-a8c1-4662-817a-779aa9de9860",
   "metadata": {
    "tags": []
   },
   "outputs": [
    {
     "data": {
      "text/plain": [
       "['a', 'b', 'c', 'd', 'e']"
      ]
     },
     "execution_count": 52,
     "metadata": {},
     "output_type": "execute_result"
    }
   ],
   "source": [
    "z"
   ]
  },
  {
   "cell_type": "code",
   "execution_count": 51,
   "id": "7f2a8b9a-5804-4fab-a325-d2e37cdbf96a",
   "metadata": {
    "tags": []
   },
   "outputs": [
    {
     "name": "stdout",
     "output_type": "stream",
     "text": [
      "a\n",
      "b\n",
      "c\n",
      "d\n",
      "e\n"
     ]
    }
   ],
   "source": [
    "for i in z:\n",
    "    print(i)"
   ]
  },
  {
   "cell_type": "code",
   "execution_count": 53,
   "id": "8f961690-1426-4e0b-8ea4-544011176220",
   "metadata": {
    "tags": []
   },
   "outputs": [],
   "source": [
    "d = {'cat':'貓咪', 'dog':'狗狗', 'rabbit':'兔兔'}"
   ]
  },
  {
   "cell_type": "code",
   "execution_count": 54,
   "id": "214c9326-59e7-42c5-9640-a9a98b74b70b",
   "metadata": {
    "tags": []
   },
   "outputs": [
    {
     "name": "stdout",
     "output_type": "stream",
     "text": [
      "cat\n",
      "dog\n",
      "rabbit\n"
     ]
    }
   ],
   "source": [
    "for i in d:\n",
    "    print(i)"
   ]
  },
  {
   "cell_type": "code",
   "execution_count": 57,
   "id": "db8a119a-5be7-4478-8cd0-ce74734891f7",
   "metadata": {
    "tags": []
   },
   "outputs": [
    {
     "name": "stdout",
     "output_type": "stream",
     "text": [
      "cat ==> 貓咪\n",
      "dog ==> 狗狗\n",
      "rabbit ==> 兔兔\n"
     ]
    }
   ],
   "source": [
    "for i in d:\n",
    "    print(i, \"==>\", d[i])"
   ]
  },
  {
   "cell_type": "code",
   "execution_count": 62,
   "id": "bc1861a7-a240-4718-b80e-8452e582c5da",
   "metadata": {
    "tags": []
   },
   "outputs": [
    {
     "data": {
      "text/plain": [
       "['a', 'b', 'c', 'd', 'e']"
      ]
     },
     "execution_count": 62,
     "metadata": {},
     "output_type": "execute_result"
    }
   ],
   "source": [
    "z"
   ]
  },
  {
   "cell_type": "code",
   "execution_count": 61,
   "id": "66f97c70-2efd-4012-81e8-7affb4d56514",
   "metadata": {
    "tags": []
   },
   "outputs": [
    {
     "name": "stdout",
     "output_type": "stream",
     "text": [
      "0 ==> a\n",
      "1 ==> b\n",
      "2 ==> c\n",
      "3 ==> d\n",
      "4 ==> e\n"
     ]
    }
   ],
   "source": [
    "for i, x in enumerate(z):\n",
    "    print(i, \"==>\", x)"
   ]
  },
  {
   "cell_type": "code",
   "execution_count": 63,
   "id": "f111285d-1e30-4919-bec8-1ebd9c449870",
   "metadata": {
    "tags": []
   },
   "outputs": [
    {
     "data": {
      "text/plain": [
       "[(0, 'a'), (1, 'b'), (2, 'c'), (3, 'd'), (4, 'e')]"
      ]
     },
     "execution_count": 63,
     "metadata": {},
     "output_type": "execute_result"
    }
   ],
   "source": [
    "list(enumerate(z))"
   ]
  },
  {
   "cell_type": "markdown",
   "id": "9d8a72c0-69bd-4251-b63d-3d3c254fec05",
   "metadata": {},
   "source": [
    "### 練習: 使用 for 迴圈處理網頁原始碼資料"
   ]
  },
  {
   "cell_type": "markdown",
   "id": "bad99197-ee4b-47eb-8276-e3078b67c56c",
   "metadata": {},
   "source": [
    "#### 抓取網頁原始碼"
   ]
  },
  {
   "cell_type": "code",
   "execution_count": 64,
   "id": "58cd6c58-334e-48f5-9eda-3234d81cb5fe",
   "metadata": {
    "tags": []
   },
   "outputs": [],
   "source": [
    "url = \"https://vcdemy.github.io/web/\""
   ]
  },
  {
   "cell_type": "code",
   "execution_count": 65,
   "id": "3eee799a-9612-41fd-bbf4-ce07a5011c02",
   "metadata": {
    "tags": []
   },
   "outputs": [],
   "source": [
    "import requests"
   ]
  },
  {
   "cell_type": "code",
   "execution_count": 68,
   "id": "59288e67-5664-4196-874d-b6944620c601",
   "metadata": {
    "tags": []
   },
   "outputs": [
    {
     "name": "stderr",
     "output_type": "stream",
     "text": [
      "C:\\Users\\victor\\anaconda3\\Lib\\site-packages\\urllib3\\connectionpool.py:1056: InsecureRequestWarning: Unverified HTTPS request is being made to host 'vcdemy.github.io'. Adding certificate verification is strongly advised. See: https://urllib3.readthedocs.io/en/1.26.x/advanced-usage.html#ssl-warnings\n",
      "  warnings.warn(\n"
     ]
    }
   ],
   "source": [
    "r = requests.get(url, verify=False)"
   ]
  },
  {
   "cell_type": "code",
   "execution_count": 67,
   "id": "2f133ecc-99cc-4697-b228-fc37d7177627",
   "metadata": {
    "tags": []
   },
   "outputs": [
    {
     "name": "stdout",
     "output_type": "stream",
     "text": [
      "<!DOCTYPE html>\n",
      "<html>\n",
      "<head>\n",
      "    <!-- Required meta tags -->\n",
      "    <meta charset=\"utf-8\">\n",
      "    <meta name=\"viewport\" content=\"width=device-width, initial-scale=1, shrink-to-fit=no\">\n",
      "\n",
      "    <!-- Bootstrap CSS -->\n",
      "    <link rel=\"stylesheet\" href=\"https://maxcdn.bootstrapcdn.com/bootstrap/4.0.0/css/bootstrap.min.css\" integrity=\"sha384-Gn5384xqQ1aoWXA+058RXPxPg6fy4IWvTNh0E263XmFcJlSAwiGgFAW/dAiS6JXm\" crossorigin=\"anonymous\">\n",
      "    <link rel=\"stylesheet\" href=\"https://cdn.jsdelivr.net/npm/bootstrap-icons@1.5.0/font/bootstrap-icons.css\">\n",
      "    <title>範例索引</title>\n",
      "</head>\n",
      "<body>\n",
      "    <div class=\"container\">\n",
      "        <div class=\"row my-5\">\n",
      "            <div class=\"col\">\n",
      "                <h1 class=\"bg-warning p-3 rounded\">Web及爬蟲簡介課程範例</h1>\n",
      "\n",
      "                <ul class=\"list-group\">\n",
      "                    <li class=\"list-group-item\"><i class=\"bi bi-globe\"></i> <a href=\"html_only.html\">HTML 範例</a></li>\n",
      "                    <li class=\"list-group-item\"><i class=\"bi bi-globe\"></i> <a href=\"html_css.html\">HTML + CSS 範例</a></li>\n",
      "                    <li class=\"list-group-item\"><i class=\"bi bi-globe\"></i> <a href=\"html_css_javascript.html\">HTML + CSS + Javascript 範例</a></li>\n",
      "                    <li class=\"list-group-item\"><i class=\"bi bi-bug\"></i> <a href=\"example01.html\">example01.html (爬蟲抓取用範例)</a></li>\n",
      "                    <li class=\"list-group-item\"><i class=\"bi bi-bug\"></i> <a href=\"example02.html\">example02.html (爬蟲抓取用範例)</a></li>\n",
      "                    <li class=\"list-group-item\"><i class=\"bi bi-bug\"></i> <a href=\"example03.html\">example03.html (爬蟲抓取用範例)</a></li>\n",
      "                    <li class=\"list-group-item\"><i class=\"bi bi-bug\"></i> <a href=\"example04.html\">example04.html (爬蟲抓取用範例)</a></li>\n",
      "                    <li class=\"list-group-item\"><i class=\"bi bi-bug\"></i> <a href=\"example05.html\">example05.html (爬蟲抓取用範例)</a></li>\n",
      "                    <li class=\"list-group-item\"><i class=\"bi bi-bug\"></i> <a href=\"spy.html\">Classic HTML 範例 (爬蟲抓取用範例)</a></li>\n",
      "                    <li class=\"list-group-item\"><i class=\"bi bi-bug\"></i> <a href=\"spy_ajax.html\">Ajax 範例 (爬蟲抓取用範例)</a></li>\n",
      "                    <li class=\"list-group-item\"><i class=\"bi bi-bug\"></i> <a href=\"form_get.html\">HTTP GET 方法說明</a></li>\n",
      "                    <li class=\"list-group-item\"><i class=\"bi bi-bug\"></i> <a href=\"form_post.html\">HTTP POST 方法說明</a></li>\n",
      "                </ul>         \n",
      "            </div>\n",
      "    \n",
      "        </div>\n",
      "    </div>\n",
      "\n",
      "<!-- Optional JavaScript -->\n",
      "<!-- jQuery first, then Popper.js, then Bootstrap JS -->\n",
      "<script src=\"https://code.jquery.com/jquery-3.2.1.slim.min.js\" integrity=\"sha384-KJ3o2DKtIkvYIK3UENzmM7KCkRr/rE9/Qpg6aAZGJwFDMVNA/GpGFF93hXpG5KkN\" crossorigin=\"anonymous\"></script>\n",
      "<script src=\"https://cdnjs.cloudflare.com/ajax/libs/popper.js/1.12.9/umd/popper.min.js\" integrity=\"sha384-ApNbgh9B+Y1QKtv3Rn7W3mgPxhU9K/ScQsAP7hUibX39j7fakFPskvXusvfa0b4Q\" crossorigin=\"anonymous\"></script>\n",
      "<script src=\"https://maxcdn.bootstrapcdn.com/bootstrap/4.0.0/js/bootstrap.min.js\" integrity=\"sha384-JZR6Spejh4U02d8jOt6vLEHfe/JQGiRRSQQxSfFWpi1MquVdAyjUar5+76PVCmYl\" crossorigin=\"anonymous\"></script>\n",
      "\n",
      "</body>\n",
      "</html>\n"
     ]
    }
   ],
   "source": [
    "print(r.text)"
   ]
  },
  {
   "cell_type": "markdown",
   "id": "a9e0f30b-77fa-4e68-891a-01022f8e73dc",
   "metadata": {},
   "source": [
    "#### 剖析網頁原始碼"
   ]
  },
  {
   "cell_type": "code",
   "execution_count": 69,
   "id": "9f54d345-b352-438d-81f3-4421dccfc7ce",
   "metadata": {
    "tags": []
   },
   "outputs": [],
   "source": [
    "from bs4 import BeautifulSoup"
   ]
  },
  {
   "cell_type": "code",
   "execution_count": 70,
   "id": "94bc99b9-ca1f-48fc-b04b-4b3266aad71f",
   "metadata": {
    "tags": []
   },
   "outputs": [],
   "source": [
    "soup = BeautifulSoup(r.text)"
   ]
  },
  {
   "cell_type": "code",
   "execution_count": 72,
   "id": "dc2a8d1f-bacb-4fa0-a040-31a054275c85",
   "metadata": {
    "tags": []
   },
   "outputs": [
    {
     "name": "stdout",
     "output_type": "stream",
     "text": [
      " HTML 範例\n",
      " HTML + CSS 範例\n",
      " HTML + CSS + Javascript 範例\n",
      " example01.html (爬蟲抓取用範例)\n",
      " example02.html (爬蟲抓取用範例)\n",
      " example03.html (爬蟲抓取用範例)\n",
      " example04.html (爬蟲抓取用範例)\n",
      " example05.html (爬蟲抓取用範例)\n",
      " Classic HTML 範例 (爬蟲抓取用範例)\n",
      " Ajax 範例 (爬蟲抓取用範例)\n",
      " HTTP GET 方法說明\n",
      " HTTP POST 方法說明\n"
     ]
    }
   ],
   "source": [
    "for i in soup.select('li'):\n",
    "    print(i.text)"
   ]
  },
  {
   "cell_type": "markdown",
   "id": "37bd376e-94f6-4f08-b8a8-532196c02064",
   "metadata": {},
   "source": [
    "### 練習:抓取台北市YouBike2.0即時資料"
   ]
  },
  {
   "cell_type": "code",
   "execution_count": 73,
   "id": "ab6943b6-817f-43c1-82d0-5084224cd0d2",
   "metadata": {
    "tags": []
   },
   "outputs": [],
   "source": [
    "url = \"https://tcgbusfs.blob.core.windows.net/dotapp/youbike/v2/youbike_immediate.json\""
   ]
  },
  {
   "cell_type": "code",
   "execution_count": 74,
   "id": "847f54cc-2406-4dda-b16e-760a82171183",
   "metadata": {
    "tags": []
   },
   "outputs": [
    {
     "name": "stderr",
     "output_type": "stream",
     "text": [
      "C:\\Users\\victor\\anaconda3\\Lib\\site-packages\\urllib3\\connectionpool.py:1056: InsecureRequestWarning: Unverified HTTPS request is being made to host 'tcgbusfs.blob.core.windows.net'. Adding certificate verification is strongly advised. See: https://urllib3.readthedocs.io/en/1.26.x/advanced-usage.html#ssl-warnings\n",
      "  warnings.warn(\n"
     ]
    }
   ],
   "source": [
    "data = requests.get(url, verify=False).json()"
   ]
  },
  {
   "cell_type": "code",
   "execution_count": 75,
   "id": "2c031bdb-7f92-4cf7-aab6-d9acf28014a4",
   "metadata": {
    "tags": []
   },
   "outputs": [
    {
     "data": {
      "text/plain": [
       "list"
      ]
     },
     "execution_count": 75,
     "metadata": {},
     "output_type": "execute_result"
    }
   ],
   "source": [
    "type(data)"
   ]
  },
  {
   "cell_type": "code",
   "execution_count": 76,
   "id": "a1732335-3c23-4947-b906-91eceba3065c",
   "metadata": {
    "tags": []
   },
   "outputs": [
    {
     "data": {
      "text/plain": [
       "{'sno': '500101001',\n",
       " 'sna': 'YouBike2.0_捷運科技大樓站',\n",
       " 'tot': 28,\n",
       " 'sbi': 1,\n",
       " 'sarea': '大安區',\n",
       " 'mday': '2024-03-05 13:42:20',\n",
       " 'lat': 25.02605,\n",
       " 'lng': 121.5436,\n",
       " 'ar': '復興南路二段235號前',\n",
       " 'sareaen': 'Daan Dist.',\n",
       " 'snaen': 'YouBike2.0_MRT Technology Bldg. Sta.',\n",
       " 'aren': 'No.235， Sec. 2， Fuxing S. Rd.',\n",
       " 'bemp': 27,\n",
       " 'act': '1',\n",
       " 'srcUpdateTime': '2024-03-05 13:43:24',\n",
       " 'updateTime': '2024-03-05 13:43:51',\n",
       " 'infoTime': '2024-03-05 13:42:20',\n",
       " 'infoDate': '2024-03-05'}"
      ]
     },
     "execution_count": 76,
     "metadata": {},
     "output_type": "execute_result"
    }
   ],
   "source": [
    "data[0]"
   ]
  },
  {
   "cell_type": "code",
   "execution_count": 77,
   "id": "dfb217b4-6b87-4aa8-8f93-fb4e40026bf4",
   "metadata": {
    "tags": []
   },
   "outputs": [
    {
     "data": {
      "text/plain": [
       "25.02605"
      ]
     },
     "execution_count": 77,
     "metadata": {},
     "output_type": "execute_result"
    }
   ],
   "source": [
    "data[0]['lat']"
   ]
  },
  {
   "cell_type": "code",
   "execution_count": null,
   "id": "ddd4a302-478d-48c5-80e5-e00de809fd6c",
   "metadata": {},
   "outputs": [],
   "source": []
  }
 ],
 "metadata": {
  "kernelspec": {
   "display_name": "Python 3 (ipykernel)",
   "language": "python",
   "name": "python3"
  },
  "language_info": {
   "codemirror_mode": {
    "name": "ipython",
    "version": 3
   },
   "file_extension": ".py",
   "mimetype": "text/x-python",
   "name": "python",
   "nbconvert_exporter": "python",
   "pygments_lexer": "ipython3",
   "version": "3.11.5"
  }
 },
 "nbformat": 4,
 "nbformat_minor": 5
}
