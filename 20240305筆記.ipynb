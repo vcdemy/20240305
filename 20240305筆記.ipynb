{
 "cells": [
  {
   "cell_type": "markdown",
   "id": "f7a8c923-9c87-49be-adb9-1361085c758e",
   "metadata": {},
   "source": [
    "# 20240305 筆記"
   ]
  },
  {
   "cell_type": "markdown",
   "id": "6e137e50-9198-4539-9780-dc4e2f64cf4b",
   "metadata": {},
   "source": [
    "## 資料型態轉換"
   ]
  },
  {
   "cell_type": "markdown",
   "id": "00ef2ada-cd63-407a-80fa-4d66e49825e0",
   "metadata": {},
   "source": [
    "* int -> str\n",
    "* str -> int"
   ]
  },
  {
   "cell_type": "code",
   "execution_count": 1,
   "id": "49ab2ffa-e0be-4c48-a4a2-b6c446fbcb8d",
   "metadata": {
    "tags": []
   },
   "outputs": [],
   "source": [
    "x = 1"
   ]
  },
  {
   "cell_type": "code",
   "execution_count": 2,
   "id": "baf79276-63f5-4c3d-921d-f4531f47f5ab",
   "metadata": {
    "tags": []
   },
   "outputs": [
    {
     "data": {
      "text/plain": [
       "int"
      ]
     },
     "execution_count": 2,
     "metadata": {},
     "output_type": "execute_result"
    }
   ],
   "source": [
    "type(x)"
   ]
  },
  {
   "cell_type": "code",
   "execution_count": 3,
   "id": "cc68c1bb-64ad-46b7-a669-319ea52831ca",
   "metadata": {
    "tags": []
   },
   "outputs": [],
   "source": [
    "y = '2'"
   ]
  },
  {
   "cell_type": "code",
   "execution_count": 4,
   "id": "55f20ed4-000e-4991-b2e9-1855f36ade48",
   "metadata": {
    "tags": []
   },
   "outputs": [
    {
     "data": {
      "text/plain": [
       "str"
      ]
     },
     "execution_count": 4,
     "metadata": {},
     "output_type": "execute_result"
    }
   ],
   "source": [
    "type(y)"
   ]
  },
  {
   "cell_type": "code",
   "execution_count": 5,
   "id": "67b63ee5-d4ca-40a0-86d4-bdab6fa5f0ab",
   "metadata": {
    "tags": []
   },
   "outputs": [
    {
     "ename": "TypeError",
     "evalue": "unsupported operand type(s) for +: 'int' and 'str'",
     "output_type": "error",
     "traceback": [
      "\u001b[1;31m---------------------------------------------------------------------------\u001b[0m",
      "\u001b[1;31mTypeError\u001b[0m                                 Traceback (most recent call last)",
      "Cell \u001b[1;32mIn[5], line 1\u001b[0m\n\u001b[1;32m----> 1\u001b[0m x \u001b[38;5;241m+\u001b[39m y\n",
      "\u001b[1;31mTypeError\u001b[0m: unsupported operand type(s) for +: 'int' and 'str'"
     ]
    }
   ],
   "source": [
    "x + y"
   ]
  },
  {
   "cell_type": "code",
   "execution_count": 6,
   "id": "8652e17f-cac8-4ce8-8351-5e0b2d53800d",
   "metadata": {
    "tags": []
   },
   "outputs": [
    {
     "data": {
      "text/plain": [
       "3"
      ]
     },
     "execution_count": 6,
     "metadata": {},
     "output_type": "execute_result"
    }
   ],
   "source": [
    "x + int(y)"
   ]
  },
  {
   "cell_type": "code",
   "execution_count": 7,
   "id": "8297ba4d-e964-4eef-8b66-ba647a4bab4e",
   "metadata": {
    "tags": []
   },
   "outputs": [
    {
     "data": {
      "text/plain": [
       "'12'"
      ]
     },
     "execution_count": 7,
     "metadata": {},
     "output_type": "execute_result"
    }
   ],
   "source": [
    "str(x) + y"
   ]
  },
  {
   "cell_type": "markdown",
   "id": "b61e84be-a228-47af-91b4-417bcd155706",
   "metadata": {},
   "source": [
    "## input() v.s., print()"
   ]
  },
  {
   "cell_type": "markdown",
   "id": "a03b9086-2618-443d-8b0f-9e7fe898a710",
   "metadata": {},
   "source": [
    "### input()"
   ]
  },
  {
   "cell_type": "code",
   "execution_count": 8,
   "id": "63d6feaf-3eee-4fde-8ef6-b96eaec477de",
   "metadata": {
    "tags": []
   },
   "outputs": [
    {
     "data": {
      "text/plain": [
       "\u001b[1;31mSignature:\u001b[0m \u001b[0minput\u001b[0m\u001b[1;33m(\u001b[0m\u001b[0mprompt\u001b[0m\u001b[1;33m=\u001b[0m\u001b[1;34m''\u001b[0m\u001b[1;33m)\u001b[0m\u001b[1;33m\u001b[0m\u001b[1;33m\u001b[0m\u001b[0m\n",
       "\u001b[1;31mDocstring:\u001b[0m\n",
       "Forward raw_input to frontends\n",
       "\n",
       "Raises\n",
       "------\n",
       "StdinNotImplementedError if active frontend doesn't support stdin.\n",
       "\u001b[1;31mFile:\u001b[0m      c:\\users\\victor\\anaconda3\\lib\\site-packages\\ipykernel\\kernelbase.py\n",
       "\u001b[1;31mType:\u001b[0m      method"
      ]
     },
     "metadata": {},
     "output_type": "display_data"
    }
   ],
   "source": [
    "input?"
   ]
  },
  {
   "cell_type": "code",
   "execution_count": 9,
   "id": "fbdd599b-37fd-4d07-bbad-739b133e4427",
   "metadata": {
    "tags": []
   },
   "outputs": [
    {
     "ename": "SyntaxError",
     "evalue": "unterminated string literal (detected at line 1) (3601583748.py, line 1)",
     "output_type": "error",
     "traceback": [
      "\u001b[1;36m  Cell \u001b[1;32mIn[9], line 1\u001b[1;36m\u001b[0m\n\u001b[1;33m    input('請輸入一個數字\")\u001b[0m\n\u001b[1;37m          ^\u001b[0m\n\u001b[1;31mSyntaxError\u001b[0m\u001b[1;31m:\u001b[0m unterminated string literal (detected at line 1)\n"
     ]
    }
   ],
   "source": [
    "input('請輸入一個數字\")"
   ]
  },
  {
   "cell_type": "code",
   "execution_count": 10,
   "id": "d76d4b31-422a-4259-ba79-a2f97ff80f99",
   "metadata": {
    "tags": []
   },
   "outputs": [
    {
     "name": "stdin",
     "output_type": "stream",
     "text": [
      "請輸入一個數字 123\n"
     ]
    },
    {
     "data": {
      "text/plain": [
       "'123'"
      ]
     },
     "execution_count": 10,
     "metadata": {},
     "output_type": "execute_result"
    }
   ],
   "source": [
    "input('請輸入一個數字')"
   ]
  },
  {
   "cell_type": "code",
   "execution_count": 11,
   "id": "a14c8adc-8f03-4bdb-ae19-4e8b8400d9d5",
   "metadata": {
    "tags": []
   },
   "outputs": [
    {
     "name": "stdin",
     "output_type": "stream",
     "text": [
      "請輸入一個數字:  123\n"
     ]
    }
   ],
   "source": [
    "x = input('請輸入一個數字: ')"
   ]
  },
  {
   "cell_type": "code",
   "execution_count": 12,
   "id": "aee5d879-775c-4e52-bf76-dc0f20413d01",
   "metadata": {
    "tags": []
   },
   "outputs": [
    {
     "data": {
      "text/plain": [
       "str"
      ]
     },
     "execution_count": 12,
     "metadata": {},
     "output_type": "execute_result"
    }
   ],
   "source": [
    "type(x)"
   ]
  },
  {
   "cell_type": "code",
   "execution_count": 13,
   "id": "22b55f77-f403-4db3-93be-87d5b966bd2f",
   "metadata": {
    "tags": []
   },
   "outputs": [
    {
     "name": "stdin",
     "output_type": "stream",
     "text": [
      "請輸入一個數字:  123\n"
     ]
    }
   ],
   "source": [
    "y = int(input('請輸入一個數字: '))"
   ]
  },
  {
   "cell_type": "code",
   "execution_count": 14,
   "id": "a61e69ff-26f7-40b7-aa74-a39aaa6d6cfe",
   "metadata": {
    "tags": []
   },
   "outputs": [
    {
     "data": {
      "text/plain": [
       "int"
      ]
     },
     "execution_count": 14,
     "metadata": {},
     "output_type": "execute_result"
    }
   ],
   "source": [
    "type(y)"
   ]
  },
  {
   "cell_type": "code",
   "execution_count": 23,
   "id": "ffcec804-8172-443c-9b87-853cc5b04d66",
   "metadata": {
    "tags": []
   },
   "outputs": [
    {
     "name": "stdin",
     "output_type": "stream",
     "text": [
      "請輸入兩個數字:  2 3\n"
     ]
    }
   ],
   "source": [
    "m = input(\"請輸入兩個數字: \")"
   ]
  },
  {
   "cell_type": "code",
   "execution_count": 24,
   "id": "36e806dd-d4d7-425e-95ba-0bdacda4582d",
   "metadata": {
    "tags": []
   },
   "outputs": [
    {
     "data": {
      "text/plain": [
       "'2 3'"
      ]
     },
     "execution_count": 24,
     "metadata": {},
     "output_type": "execute_result"
    }
   ],
   "source": [
    "m"
   ]
  },
  {
   "cell_type": "code",
   "execution_count": 25,
   "id": "728efebe-9777-4bfd-8920-f365ffc0f2c3",
   "metadata": {
    "tags": []
   },
   "outputs": [
    {
     "data": {
      "text/plain": [
       "str"
      ]
     },
     "execution_count": 25,
     "metadata": {},
     "output_type": "execute_result"
    }
   ],
   "source": [
    "type(m)"
   ]
  },
  {
   "cell_type": "code",
   "execution_count": null,
   "id": "b6ef7975-3ceb-4a52-901b-7984103e92ec",
   "metadata": {
    "tags": []
   },
   "outputs": [],
   "source": [
    "m.split?"
   ]
  },
  {
   "cell_type": "code",
   "execution_count": 28,
   "id": "218d0b64-1abd-4f1b-acd5-83cab0696c95",
   "metadata": {
    "tags": []
   },
   "outputs": [
    {
     "data": {
      "text/plain": [
       "['2', '3']"
      ]
     },
     "execution_count": 28,
     "metadata": {},
     "output_type": "execute_result"
    }
   ],
   "source": [
    "m.split()"
   ]
  },
  {
   "cell_type": "code",
   "execution_count": null,
   "id": "331bb8cf-6a8e-40a1-9c15-a50d11414e09",
   "metadata": {},
   "outputs": [],
   "source": []
  },
  {
   "cell_type": "markdown",
   "id": "fd90185d-9b2e-45fd-bfeb-f625f4336a7f",
   "metadata": {},
   "source": [
    "### print()"
   ]
  },
  {
   "cell_type": "code",
   "execution_count": 15,
   "id": "1dc57b9a-660f-4afb-873e-bf69b637c8b8",
   "metadata": {
    "tags": []
   },
   "outputs": [
    {
     "data": {
      "text/plain": [
       "'123'"
      ]
     },
     "execution_count": 15,
     "metadata": {},
     "output_type": "execute_result"
    }
   ],
   "source": [
    "x"
   ]
  },
  {
   "cell_type": "code",
   "execution_count": 16,
   "id": "59f5928b-431a-48c0-9fab-6ef3599b763e",
   "metadata": {
    "tags": []
   },
   "outputs": [
    {
     "data": {
      "text/plain": [
       "123"
      ]
     },
     "execution_count": 16,
     "metadata": {},
     "output_type": "execute_result"
    }
   ],
   "source": [
    "y"
   ]
  },
  {
   "cell_type": "code",
   "execution_count": 17,
   "id": "14af6141-b94b-4685-ab58-43d228cef6da",
   "metadata": {
    "tags": []
   },
   "outputs": [],
   "source": [
    "z = x == y"
   ]
  },
  {
   "cell_type": "code",
   "execution_count": 18,
   "id": "3a77f87e-f738-4847-85b9-eb3a81f44054",
   "metadata": {
    "tags": []
   },
   "outputs": [
    {
     "name": "stdout",
     "output_type": "stream",
     "text": [
      "123 123 False\n"
     ]
    }
   ],
   "source": [
    "print(x, y, z)"
   ]
  },
  {
   "cell_type": "code",
   "execution_count": 19,
   "id": "ece0e4c7-4b5a-468c-926c-938e3b586c39",
   "metadata": {
    "tags": []
   },
   "outputs": [
    {
     "data": {
      "text/plain": [
       "\u001b[1;31mSignature:\u001b[0m \u001b[0mprint\u001b[0m\u001b[1;33m(\u001b[0m\u001b[1;33m*\u001b[0m\u001b[0margs\u001b[0m\u001b[1;33m,\u001b[0m \u001b[0msep\u001b[0m\u001b[1;33m=\u001b[0m\u001b[1;34m' '\u001b[0m\u001b[1;33m,\u001b[0m \u001b[0mend\u001b[0m\u001b[1;33m=\u001b[0m\u001b[1;34m'\\n'\u001b[0m\u001b[1;33m,\u001b[0m \u001b[0mfile\u001b[0m\u001b[1;33m=\u001b[0m\u001b[1;32mNone\u001b[0m\u001b[1;33m,\u001b[0m \u001b[0mflush\u001b[0m\u001b[1;33m=\u001b[0m\u001b[1;32mFalse\u001b[0m\u001b[1;33m)\u001b[0m\u001b[1;33m\u001b[0m\u001b[1;33m\u001b[0m\u001b[0m\n",
       "\u001b[1;31mDocstring:\u001b[0m\n",
       "Prints the values to a stream, or to sys.stdout by default.\n",
       "\n",
       "sep\n",
       "  string inserted between values, default a space.\n",
       "end\n",
       "  string appended after the last value, default a newline.\n",
       "file\n",
       "  a file-like object (stream); defaults to the current sys.stdout.\n",
       "flush\n",
       "  whether to forcibly flush the stream.\n",
       "\u001b[1;31mType:\u001b[0m      builtin_function_or_method"
      ]
     },
     "metadata": {},
     "output_type": "display_data"
    }
   ],
   "source": [
    "print?"
   ]
  },
  {
   "cell_type": "code",
   "execution_count": 21,
   "id": "fdb7d35d-36c9-4d9c-b3bb-7cd3d297dcb3",
   "metadata": {
    "tags": []
   },
   "outputs": [
    {
     "name": "stdout",
     "output_type": "stream",
     "text": [
      "123123False\n"
     ]
    }
   ],
   "source": [
    "print(x, y, z, sep='')"
   ]
  },
  {
   "cell_type": "code",
   "execution_count": 22,
   "id": "d68aa293-9274-448a-8ee0-96fc034090a6",
   "metadata": {
    "tags": []
   },
   "outputs": [
    {
     "name": "stdout",
     "output_type": "stream",
     "text": [
      "123+123+False\n"
     ]
    }
   ],
   "source": [
    "print(x, y, z, sep='+')"
   ]
  },
  {
   "cell_type": "markdown",
   "id": "7324b32e-cbc3-4735-a8e2-36d7354a2261",
   "metadata": {},
   "source": [
    "### Zerojudge A003"
   ]
  },
  {
   "cell_type": "code",
   "execution_count": 29,
   "id": "2f847a22-cdb1-4aee-9d6d-b245034c0722",
   "metadata": {
    "tags": []
   },
   "outputs": [
    {
     "data": {
      "text/plain": [
       "0"
      ]
     },
     "execution_count": 29,
     "metadata": {},
     "output_type": "execute_result"
    }
   ],
   "source": [
    "M = 1\n",
    "D = 1\n",
    "S = (M*2+1)%3\n",
    "S"
   ]
  },
  {
   "cell_type": "code",
   "execution_count": 30,
   "id": "2aa6535d-cbff-48e3-bb20-1bc166d5d253",
   "metadata": {
    "tags": []
   },
   "outputs": [],
   "source": [
    "luck = ['普通', '吉', '大吉']"
   ]
  },
  {
   "cell_type": "code",
   "execution_count": 31,
   "id": "e993b2ee-f626-4d80-9cbb-7b93962f1aee",
   "metadata": {
    "tags": []
   },
   "outputs": [
    {
     "data": {
      "text/plain": [
       "'普通'"
      ]
     },
     "execution_count": 31,
     "metadata": {},
     "output_type": "execute_result"
    }
   ],
   "source": [
    "luck[S]"
   ]
  },
  {
   "cell_type": "code",
   "execution_count": 32,
   "id": "71e8692b-2414-4f3b-8604-781cef8858cb",
   "metadata": {
    "tags": []
   },
   "outputs": [
    {
     "name": "stdout",
     "output_type": "stream",
     "text": [
      "普通\n"
     ]
    }
   ],
   "source": [
    "print(luck[S])"
   ]
  },
  {
   "cell_type": "markdown",
   "id": "9ee15189-6e79-4763-b206-136c88c3eeaf",
   "metadata": {},
   "source": [
    "## bool 型態轉換"
   ]
  },
  {
   "cell_type": "code",
   "execution_count": 1,
   "id": "31f3bc22-487e-4795-bfb6-d29efd51078b",
   "metadata": {
    "tags": []
   },
   "outputs": [
    {
     "data": {
      "text/plain": [
       "bool"
      ]
     },
     "execution_count": 1,
     "metadata": {},
     "output_type": "execute_result"
    }
   ],
   "source": [
    "type(True)"
   ]
  },
  {
   "cell_type": "code",
   "execution_count": 2,
   "id": "6156b23f-220b-46fa-81e6-aad5561062c2",
   "metadata": {
    "tags": []
   },
   "outputs": [
    {
     "data": {
      "text/plain": [
       "1"
      ]
     },
     "execution_count": 2,
     "metadata": {},
     "output_type": "execute_result"
    }
   ],
   "source": [
    "True + 0"
   ]
  },
  {
   "cell_type": "code",
   "execution_count": 3,
   "id": "f68a3a0f-37ad-4faf-a5aa-e6811fc73187",
   "metadata": {
    "tags": []
   },
   "outputs": [
    {
     "data": {
      "text/plain": [
       "2"
      ]
     },
     "execution_count": 3,
     "metadata": {},
     "output_type": "execute_result"
    }
   ],
   "source": [
    "True + True"
   ]
  },
  {
   "cell_type": "code",
   "execution_count": 4,
   "id": "6e645308-7a77-41b7-a0c2-f42f68d8469a",
   "metadata": {
    "tags": []
   },
   "outputs": [],
   "source": [
    "n = [True, True, False, False, True]"
   ]
  },
  {
   "cell_type": "code",
   "execution_count": 5,
   "id": "5f5f15c6-2fab-493e-808a-26d98d2fe03c",
   "metadata": {
    "tags": []
   },
   "outputs": [
    {
     "data": {
      "text/plain": [
       "3"
      ]
     },
     "execution_count": 5,
     "metadata": {},
     "output_type": "execute_result"
    }
   ],
   "source": [
    "sum(n)"
   ]
  },
  {
   "cell_type": "markdown",
   "id": "5a79396c-77ea-4e22-bd56-0e8a89063ae6",
   "metadata": {},
   "source": [
    "## 進一步說明 str"
   ]
  },
  {
   "cell_type": "markdown",
   "id": "99ed5c9f-0180-44fa-903d-81ad37c7c5e6",
   "metadata": {},
   "source": [
    "https://github.com/vcdemy/python_basics/blob/main/%E5%AD%97%E4%B8%B2.md"
   ]
  },
  {
   "cell_type": "code",
   "execution_count": 6,
   "id": "21c86b70-504f-4df8-bbeb-505622082c4c",
   "metadata": {
    "tags": []
   },
   "outputs": [
    {
     "ename": "SyntaxError",
     "evalue": "unterminated string literal (detected at line 1) (1285231099.py, line 1)",
     "output_type": "error",
     "traceback": [
      "\u001b[1;36m  Cell \u001b[1;32mIn[6], line 1\u001b[1;36m\u001b[0m\n\u001b[1;33m    s = '說明文字\"\u001b[0m\n\u001b[1;37m        ^\u001b[0m\n\u001b[1;31mSyntaxError\u001b[0m\u001b[1;31m:\u001b[0m unterminated string literal (detected at line 1)\n"
     ]
    }
   ],
   "source": [
    "s = '說明文字\""
   ]
  },
  {
   "cell_type": "code",
   "execution_count": 7,
   "id": "7c860de0-40cd-409a-8dc8-8f50a0c61f5f",
   "metadata": {
    "tags": []
   },
   "outputs": [],
   "source": [
    "s1 = \"It's my dog.\""
   ]
  },
  {
   "cell_type": "code",
   "execution_count": 8,
   "id": "a4856fbf-7396-47f2-ad0d-566446b71f2d",
   "metadata": {
    "tags": []
   },
   "outputs": [
    {
     "ename": "SyntaxError",
     "evalue": "unterminated string literal (detected at line 1) (74748037.py, line 1)",
     "output_type": "error",
     "traceback": [
      "\u001b[1;36m  Cell \u001b[1;32mIn[8], line 1\u001b[1;36m\u001b[0m\n\u001b[1;33m    s2 = 'It's my dog.'\u001b[0m\n\u001b[1;37m                      ^\u001b[0m\n\u001b[1;31mSyntaxError\u001b[0m\u001b[1;31m:\u001b[0m unterminated string literal (detected at line 1)\n"
     ]
    }
   ],
   "source": [
    "s2 = 'It's my dog.'"
   ]
  },
  {
   "cell_type": "code",
   "execution_count": 9,
   "id": "e7beaa67-70b0-445f-9517-37d751c1c63a",
   "metadata": {
    "tags": []
   },
   "outputs": [],
   "source": [
    "s3 = 'It\\'s my dog.'"
   ]
  },
  {
   "cell_type": "code",
   "execution_count": 10,
   "id": "1d0cbd98-a2db-4dce-aacf-805c9c1b5dda",
   "metadata": {
    "tags": []
   },
   "outputs": [
    {
     "data": {
      "text/plain": [
       "True"
      ]
     },
     "execution_count": 10,
     "metadata": {},
     "output_type": "execute_result"
    }
   ],
   "source": [
    "s1 == s3"
   ]
  },
  {
   "cell_type": "code",
   "execution_count": 11,
   "id": "e1d2315b-3350-406d-8fda-a4bcbe818fd6",
   "metadata": {
    "tags": []
   },
   "outputs": [],
   "source": [
    "s4 = 'my name is Victor.\\nI am from Taiwan.'"
   ]
  },
  {
   "cell_type": "code",
   "execution_count": 12,
   "id": "b34bc44b-d2c5-47de-853a-ecc97dc07d22",
   "metadata": {
    "tags": []
   },
   "outputs": [
    {
     "name": "stdout",
     "output_type": "stream",
     "text": [
      "my name is Victor.\n",
      "I am from Taiwan.\n"
     ]
    }
   ],
   "source": [
    "print(s4)"
   ]
  },
  {
   "cell_type": "markdown",
   "id": "a2e79a9c-1de6-4ccd-a8d3-9f578bd56e1d",
   "metadata": {},
   "source": [
    "## print() 的參數說明"
   ]
  },
  {
   "cell_type": "code",
   "execution_count": 14,
   "id": "1e16ec77-2daa-4bc8-b63f-da98cd794791",
   "metadata": {
    "tags": []
   },
   "outputs": [],
   "source": [
    "x = 123\n",
    "y = '123'\n",
    "z = x == y"
   ]
  },
  {
   "cell_type": "code",
   "execution_count": 15,
   "id": "a38504fd-0387-4026-9f1c-15e02809cc66",
   "metadata": {
    "tags": []
   },
   "outputs": [
    {
     "name": "stdout",
     "output_type": "stream",
     "text": [
      "123 123 False\n"
     ]
    }
   ],
   "source": [
    "print(x, y, z)"
   ]
  },
  {
   "cell_type": "code",
   "execution_count": 16,
   "id": "bb7c2bb0-76a7-47b1-be2c-a90680639f32",
   "metadata": {
    "tags": []
   },
   "outputs": [
    {
     "name": "stdout",
     "output_type": "stream",
     "text": [
      "123*123*False\n"
     ]
    }
   ],
   "source": [
    "print(x, y, z, sep='*')"
   ]
  },
  {
   "cell_type": "code",
   "execution_count": 18,
   "id": "e0b3f364-46d9-4a45-9988-748913b581cf",
   "metadata": {
    "tags": []
   },
   "outputs": [
    {
     "name": "stdout",
     "output_type": "stream",
     "text": [
      "0\n",
      "1\n",
      "2\n",
      "3\n",
      "4\n"
     ]
    }
   ],
   "source": [
    "for i in range(5):\n",
    "    print(i)"
   ]
  },
  {
   "cell_type": "code",
   "execution_count": 19,
   "id": "b8b5636a-bf21-481f-a0b8-181585294d11",
   "metadata": {
    "tags": []
   },
   "outputs": [
    {
     "name": "stdout",
     "output_type": "stream",
     "text": [
      "01234"
     ]
    }
   ],
   "source": [
    "for i in range(5):\n",
    "    print(i, end=\"\")"
   ]
  },
  {
   "cell_type": "code",
   "execution_count": 20,
   "id": "88d66cb7-1b1a-4492-9b80-759fed9f5910",
   "metadata": {
    "tags": []
   },
   "outputs": [
    {
     "name": "stdout",
     "output_type": "stream",
     "text": [
      "0+1+2+3+4+"
     ]
    }
   ],
   "source": [
    "for i in range(5):\n",
    "    print(i, end=\"+\")"
   ]
  },
  {
   "cell_type": "markdown",
   "id": "3fa07336-7a2e-4e30-a025-0058d96916ae",
   "metadata": {},
   "source": [
    "## 字串切割練習"
   ]
  },
  {
   "cell_type": "markdown",
   "id": "d3d909b4-8058-4e97-b79a-ab2a465e8a12",
   "metadata": {},
   "source": [
    "請將下列網址上面的 .jpg 檔檔名擷取出來。\n",
    "\n",
    "https://images.chinatimes.com/newsphoto/2023-03-11/1024/20230311001242.jpg"
   ]
  },
  {
   "cell_type": "code",
   "execution_count": 21,
   "id": "726f885e-a45c-4a0e-84dc-18921bdc2dfe",
   "metadata": {
    "tags": []
   },
   "outputs": [],
   "source": [
    "url = 'https://images.chinatimes.com/newsphoto/2023-03-11/1024/20230311001242.jpg'"
   ]
  },
  {
   "cell_type": "code",
   "execution_count": 22,
   "id": "f133f529-eb7a-4248-8eae-be375b9044c5",
   "metadata": {
    "tags": []
   },
   "outputs": [
    {
     "data": {
      "text/plain": [
       "['https:',\n",
       " '',\n",
       " 'images.chinatimes.com',\n",
       " 'newsphoto',\n",
       " '2023-03-11',\n",
       " '1024',\n",
       " '20230311001242.jpg']"
      ]
     },
     "execution_count": 22,
     "metadata": {},
     "output_type": "execute_result"
    }
   ],
   "source": [
    "url.split('/')"
   ]
  },
  {
   "cell_type": "code",
   "execution_count": 23,
   "id": "3087d793-cf2d-457c-b9b5-91f8d9b223c2",
   "metadata": {
    "tags": []
   },
   "outputs": [
    {
     "data": {
      "text/plain": [
       "'20230311001242.jpg'"
      ]
     },
     "execution_count": 23,
     "metadata": {},
     "output_type": "execute_result"
    }
   ],
   "source": [
    "url.split('/')[6]"
   ]
  },
  {
   "cell_type": "code",
   "execution_count": 24,
   "id": "c918e956-f672-44f5-86c9-42b05cd3abc5",
   "metadata": {
    "tags": []
   },
   "outputs": [
    {
     "data": {
      "text/plain": [
       "'20230311001242.jpg'"
      ]
     },
     "execution_count": 24,
     "metadata": {},
     "output_type": "execute_result"
    }
   ],
   "source": [
    "url.split('/')[-1]"
   ]
  },
  {
   "cell_type": "markdown",
   "id": "cac3e533-2d38-4708-9a11-b52d1df6b977",
   "metadata": {},
   "source": [
    "## 將上面的 url 的圖片抓取下來存在硬碟"
   ]
  },
  {
   "cell_type": "code",
   "execution_count": 25,
   "id": "066b533b-6b9c-4b5f-acef-d3c01d927e53",
   "metadata": {
    "tags": []
   },
   "outputs": [],
   "source": [
    "import requests"
   ]
  },
  {
   "cell_type": "code",
   "execution_count": 29,
   "id": "adf1e302-f59b-4dc3-9dfb-1bb05fa70b72",
   "metadata": {
    "tags": []
   },
   "outputs": [
    {
     "name": "stderr",
     "output_type": "stream",
     "text": [
      "C:\\Users\\victor\\anaconda3\\Lib\\site-packages\\urllib3\\connectionpool.py:1056: InsecureRequestWarning: Unverified HTTPS request is being made to host 'images.chinatimes.com'. Adding certificate verification is strongly advised. See: https://urllib3.readthedocs.io/en/1.26.x/advanced-usage.html#ssl-warnings\n",
      "  warnings.warn(\n"
     ]
    }
   ],
   "source": [
    "r = requests.get(url, verify=False)"
   ]
  },
  {
   "cell_type": "code",
   "execution_count": 30,
   "id": "86c3af47-d349-47f6-9304-45bc49eff0ec",
   "metadata": {
    "tags": []
   },
   "outputs": [],
   "source": [
    "with open('c:\\\\users\\\\victor\\\\desktop\\\\lin.jpg','wb') as f:\n",
    "    f.write(r.content)"
   ]
  },
  {
   "cell_type": "code",
   "execution_count": 31,
   "id": "e7bf5808-8c89-4717-8690-a23bb5ef0735",
   "metadata": {
    "tags": []
   },
   "outputs": [],
   "source": [
    "with open(url.split('/')[-1], 'wb') as f:\n",
    "    f.write(r.content)"
   ]
  },
  {
   "cell_type": "code",
   "execution_count": null,
   "id": "df7cf128-4dc8-40e3-af20-c051b09002e8",
   "metadata": {},
   "outputs": [],
   "source": [
    "filename = url.split('/')[-1]\n",
    "with open(filename, 'wb') as f:\n",
    "    f.write(r.content)"
   ]
  },
  {
   "cell_type": "markdown",
   "id": "acf21d19-56c0-43c6-9130-65d8cee21ce8",
   "metadata": {},
   "source": [
    "## 基礎語法\n",
    "\n",
    "* 條件式 => if statements\n",
    "* 迴圈 loops\n",
    "* 函式 functions\n",
    "* 例外處理 exception handling"
   ]
  },
  {
   "cell_type": "markdown",
   "id": "49bbb06b-4575-4ad8-85d4-519a6f6fee70",
   "metadata": {},
   "source": [
    "### if statements"
   ]
  },
  {
   "cell_type": "code",
   "execution_count": 38,
   "id": "135e6030-e7dc-4fc3-9c7a-e30b02d81f59",
   "metadata": {
    "tags": []
   },
   "outputs": [],
   "source": [
    "a = 2\n",
    "b = 2"
   ]
  },
  {
   "cell_type": "code",
   "execution_count": 35,
   "id": "3f3139f0-88eb-4144-b6f9-2c7ca7d0fde9",
   "metadata": {
    "tags": []
   },
   "outputs": [],
   "source": [
    "if a > b:\n",
    "    print(\"a > b\")"
   ]
  },
  {
   "cell_type": "code",
   "execution_count": 36,
   "id": "44a7ae40-9a74-494c-811a-4236c47a2d93",
   "metadata": {
    "tags": []
   },
   "outputs": [
    {
     "name": "stdout",
     "output_type": "stream",
     "text": [
      "a 沒有大於 b\n"
     ]
    }
   ],
   "source": [
    "if a > b:\n",
    "    print(\"a 大於 b\")\n",
    "else:\n",
    "    print(\"a 沒有大於 b\")"
   ]
  },
  {
   "cell_type": "code",
   "execution_count": 39,
   "id": "39cf93f9-5647-4819-b438-132fa575cb4c",
   "metadata": {
    "tags": []
   },
   "outputs": [
    {
     "name": "stdout",
     "output_type": "stream",
     "text": [
      "a 等於 b\n"
     ]
    }
   ],
   "source": [
    "if a > b:\n",
    "    print(\"a 大於 b\")\n",
    "elif a < b:\n",
    "    print(\"a 小於 b\")\n",
    "else:\n",
    "    print(\"a 等於 b\")"
   ]
  },
  {
   "cell_type": "markdown",
   "id": "4bb34402-2f84-4701-9510-2fd474ad7907",
   "metadata": {},
   "source": [
    "### 練習:計算BMI並返回健康狀況"
   ]
  },
  {
   "cell_type": "markdown",
   "id": "bfef2f23-4189-478d-b7da-0c64e04e8cba",
   "metadata": {},
   "source": [
    "<pre>\n",
    "$$ bmi = \\frac{體重(公斤)}{身高(公尺)^2} $$\n",
    "\n",
    "|bmi|體位狀況|\n",
    "|:--|:-:|\n",
    "|bmi<18.5|體重過輕|\n",
    "|18.5<= bmi < 24| 健康體位|\n",
    "|bmi >= 24|體重過重|\n",
    "</pre>"
   ]
  },
  {
   "cell_type": "markdown",
   "id": "39dbbdd4-a392-49cb-8dcd-f5cfe99ce4b4",
   "metadata": {},
   "source": [
    "$$ bmi = \\frac{體重(公斤)}{身高(公尺)^2} $$\n",
    "\n",
    "|bmi|體位狀況|\n",
    "|:--|:-:|\n",
    "|bmi<18.5|體重過輕|\n",
    "|18.5<= bmi < 24| 健康體位|\n",
    "|bmi >= 24|體重過重|"
   ]
  },
  {
   "cell_type": "code",
   "execution_count": 40,
   "id": "258edc85-3184-4d80-bb0b-ea69062e33c3",
   "metadata": {
    "tags": []
   },
   "outputs": [
    {
     "data": {
      "text/plain": [
       "23.888440980620498"
      ]
     },
     "execution_count": 40,
     "metadata": {},
     "output_type": "execute_result"
    }
   ],
   "source": [
    "h = 1.83\n",
    "w = 80\n",
    "bmi = w / h**2\n",
    "bmi"
   ]
  },
  {
   "cell_type": "code",
   "execution_count": 42,
   "id": "a5092acb-414a-47d6-beed-32920711b484",
   "metadata": {
    "tags": []
   },
   "outputs": [
    {
     "name": "stdout",
     "output_type": "stream",
     "text": [
      "健康體位\n"
     ]
    }
   ],
   "source": [
    "if bmi < 18.5:\n",
    "    print(\"體重過輕\")\n",
    "elif bmi >= 24:\n",
    "    print(\"體重過重\")\n",
    "else:\n",
    "    print(\"健康體位\")"
   ]
  },
  {
   "cell_type": "code",
   "execution_count": 43,
   "id": "e3bdc45f-d8be-4edc-8a27-bec674069097",
   "metadata": {
    "tags": []
   },
   "outputs": [
    {
     "name": "stdin",
     "output_type": "stream",
     "text": [
      "請輸入身高(公尺):  1.83\n",
      "請輸入體重(公斤):  80\n"
     ]
    },
    {
     "name": "stdout",
     "output_type": "stream",
     "text": [
      "健康體位\n"
     ]
    }
   ],
   "source": [
    "h = float(input(\"請輸入身高(公尺): \"))\n",
    "w = float(input(\"請輸入體重(公斤): \"))\n",
    "bmi = w / h**2\n",
    "if bmi < 18.5:\n",
    "    print(\"體重過輕\")\n",
    "elif bmi >= 24:\n",
    "    print(\"體重過重\")\n",
    "else:\n",
    "    print(\"健康體位\")"
   ]
  },
  {
   "cell_type": "code",
   "execution_count": null,
   "id": "21e19258-8002-4a15-a9c3-744123d2df05",
   "metadata": {},
   "outputs": [],
   "source": [
    "h = float(input(\"請輸入身高(公尺): \"))\n",
    "w = float(input(\"請輸入體重(公斤): \"))\n",
    "bmi = w / h**2\n",
    "if bmi < 18.5:\n",
    "    print(\"體重過輕\")\n",
    "elif 18.5 <= bmi < 24:\n",
    "    print(\"健康體位\")\n",
    "else:\n",
    "    print(\"體重過重\")"
   ]
  },
  {
   "cell_type": "code",
   "execution_count": 44,
   "id": "2910626f-9669-4dc9-abf8-222881bff541",
   "metadata": {
    "tags": []
   },
   "outputs": [],
   "source": [
    "s = 'abcde'"
   ]
  },
  {
   "cell_type": "code",
   "execution_count": 45,
   "id": "a7ed1919-286f-4e53-84be-b330cbde93b2",
   "metadata": {
    "tags": []
   },
   "outputs": [
    {
     "name": "stdout",
     "output_type": "stream",
     "text": [
      "abcde\n"
     ]
    }
   ],
   "source": [
    "if s:\n",
    "    print(s)"
   ]
  },
  {
   "cell_type": "code",
   "execution_count": 46,
   "id": "9e54681d-4ac0-464d-950a-0a834f9dc748",
   "metadata": {
    "tags": []
   },
   "outputs": [
    {
     "data": {
      "text/plain": [
       "True"
      ]
     },
     "execution_count": 46,
     "metadata": {},
     "output_type": "execute_result"
    }
   ],
   "source": [
    "bool(s)"
   ]
  },
  {
   "cell_type": "code",
   "execution_count": 47,
   "id": "6e2e60da-6c1e-4378-a842-f8e78655b9d1",
   "metadata": {
    "tags": []
   },
   "outputs": [
    {
     "data": {
      "text/plain": [
       "False"
      ]
     },
     "execution_count": 47,
     "metadata": {},
     "output_type": "execute_result"
    }
   ],
   "source": [
    "bool(\"\")"
   ]
  },
  {
   "cell_type": "code",
   "execution_count": 48,
   "id": "ac646003-79f6-4caa-82b6-808ac77cdbfb",
   "metadata": {
    "tags": []
   },
   "outputs": [],
   "source": [
    "z = []"
   ]
  },
  {
   "cell_type": "code",
   "execution_count": 49,
   "id": "f985f175-3721-484e-bc4b-8da5ead7dc93",
   "metadata": {
    "tags": []
   },
   "outputs": [
    {
     "data": {
      "text/plain": [
       "False"
      ]
     },
     "execution_count": 49,
     "metadata": {},
     "output_type": "execute_result"
    }
   ],
   "source": [
    "bool(z)"
   ]
  },
  {
   "cell_type": "markdown",
   "id": "33d4bf53-6d25-4f2f-9af5-f4257dec9cef",
   "metadata": {},
   "source": [
    "## 迴圈 (loops)\n",
    "\n",
    "* for loops\n",
    "* while loops"
   ]
  },
  {
   "cell_type": "code",
   "execution_count": 50,
   "id": "d5a04e95-fd1a-4ca2-ad36-0a57d6da5f01",
   "metadata": {
    "tags": []
   },
   "outputs": [],
   "source": [
    "z = list('abcde')"
   ]
  },
  {
   "cell_type": "code",
   "execution_count": 52,
   "id": "4a2a974c-a8c1-4662-817a-779aa9de9860",
   "metadata": {
    "tags": []
   },
   "outputs": [
    {
     "data": {
      "text/plain": [
       "['a', 'b', 'c', 'd', 'e']"
      ]
     },
     "execution_count": 52,
     "metadata": {},
     "output_type": "execute_result"
    }
   ],
   "source": [
    "z"
   ]
  },
  {
   "cell_type": "code",
   "execution_count": 51,
   "id": "7f2a8b9a-5804-4fab-a325-d2e37cdbf96a",
   "metadata": {
    "tags": []
   },
   "outputs": [
    {
     "name": "stdout",
     "output_type": "stream",
     "text": [
      "a\n",
      "b\n",
      "c\n",
      "d\n",
      "e\n"
     ]
    }
   ],
   "source": [
    "for i in z:\n",
    "    print(i)"
   ]
  },
  {
   "cell_type": "code",
   "execution_count": 53,
   "id": "8f961690-1426-4e0b-8ea4-544011176220",
   "metadata": {
    "tags": []
   },
   "outputs": [],
   "source": [
    "d = {'cat':'貓咪', 'dog':'狗狗', 'rabbit':'兔兔'}"
   ]
  },
  {
   "cell_type": "code",
   "execution_count": 54,
   "id": "214c9326-59e7-42c5-9640-a9a98b74b70b",
   "metadata": {
    "tags": []
   },
   "outputs": [
    {
     "name": "stdout",
     "output_type": "stream",
     "text": [
      "cat\n",
      "dog\n",
      "rabbit\n"
     ]
    }
   ],
   "source": [
    "for i in d:\n",
    "    print(i)"
   ]
  },
  {
   "cell_type": "code",
   "execution_count": 57,
   "id": "db8a119a-5be7-4478-8cd0-ce74734891f7",
   "metadata": {
    "tags": []
   },
   "outputs": [
    {
     "name": "stdout",
     "output_type": "stream",
     "text": [
      "cat ==> 貓咪\n",
      "dog ==> 狗狗\n",
      "rabbit ==> 兔兔\n"
     ]
    }
   ],
   "source": [
    "for i in d:\n",
    "    print(i, \"==>\", d[i])"
   ]
  },
  {
   "cell_type": "code",
   "execution_count": 62,
   "id": "bc1861a7-a240-4718-b80e-8452e582c5da",
   "metadata": {
    "tags": []
   },
   "outputs": [
    {
     "data": {
      "text/plain": [
       "['a', 'b', 'c', 'd', 'e']"
      ]
     },
     "execution_count": 62,
     "metadata": {},
     "output_type": "execute_result"
    }
   ],
   "source": [
    "z"
   ]
  },
  {
   "cell_type": "code",
   "execution_count": 61,
   "id": "66f97c70-2efd-4012-81e8-7affb4d56514",
   "metadata": {
    "tags": []
   },
   "outputs": [
    {
     "name": "stdout",
     "output_type": "stream",
     "text": [
      "0 ==> a\n",
      "1 ==> b\n",
      "2 ==> c\n",
      "3 ==> d\n",
      "4 ==> e\n"
     ]
    }
   ],
   "source": [
    "for i, x in enumerate(z):\n",
    "    print(i, \"==>\", x)"
   ]
  },
  {
   "cell_type": "code",
   "execution_count": 63,
   "id": "f111285d-1e30-4919-bec8-1ebd9c449870",
   "metadata": {
    "tags": []
   },
   "outputs": [
    {
     "data": {
      "text/plain": [
       "[(0, 'a'), (1, 'b'), (2, 'c'), (3, 'd'), (4, 'e')]"
      ]
     },
     "execution_count": 63,
     "metadata": {},
     "output_type": "execute_result"
    }
   ],
   "source": [
    "list(enumerate(z))"
   ]
  },
  {
   "cell_type": "markdown",
   "id": "9d8a72c0-69bd-4251-b63d-3d3c254fec05",
   "metadata": {},
   "source": [
    "### 練習: 使用 for 迴圈處理網頁原始碼資料"
   ]
  },
  {
   "cell_type": "markdown",
   "id": "bad99197-ee4b-47eb-8276-e3078b67c56c",
   "metadata": {},
   "source": [
    "#### 抓取網頁原始碼"
   ]
  },
  {
   "cell_type": "code",
   "execution_count": 64,
   "id": "58cd6c58-334e-48f5-9eda-3234d81cb5fe",
   "metadata": {
    "tags": []
   },
   "outputs": [],
   "source": [
    "url = \"https://vcdemy.github.io/web/\""
   ]
  },
  {
   "cell_type": "code",
   "execution_count": 65,
   "id": "3eee799a-9612-41fd-bbf4-ce07a5011c02",
   "metadata": {
    "tags": []
   },
   "outputs": [],
   "source": [
    "import requests"
   ]
  },
  {
   "cell_type": "code",
   "execution_count": 68,
   "id": "59288e67-5664-4196-874d-b6944620c601",
   "metadata": {
    "tags": []
   },
   "outputs": [
    {
     "name": "stderr",
     "output_type": "stream",
     "text": [
      "C:\\Users\\victor\\anaconda3\\Lib\\site-packages\\urllib3\\connectionpool.py:1056: InsecureRequestWarning: Unverified HTTPS request is being made to host 'vcdemy.github.io'. Adding certificate verification is strongly advised. See: https://urllib3.readthedocs.io/en/1.26.x/advanced-usage.html#ssl-warnings\n",
      "  warnings.warn(\n"
     ]
    }
   ],
   "source": [
    "r = requests.get(url, verify=False)"
   ]
  },
  {
   "cell_type": "code",
   "execution_count": 67,
   "id": "2f133ecc-99cc-4697-b228-fc37d7177627",
   "metadata": {
    "tags": []
   },
   "outputs": [
    {
     "name": "stdout",
     "output_type": "stream",
     "text": [
      "<!DOCTYPE html>\n",
      "<html>\n",
      "<head>\n",
      "    <!-- Required meta tags -->\n",
      "    <meta charset=\"utf-8\">\n",
      "    <meta name=\"viewport\" content=\"width=device-width, initial-scale=1, shrink-to-fit=no\">\n",
      "\n",
      "    <!-- Bootstrap CSS -->\n",
      "    <link rel=\"stylesheet\" href=\"https://maxcdn.bootstrapcdn.com/bootstrap/4.0.0/css/bootstrap.min.css\" integrity=\"sha384-Gn5384xqQ1aoWXA+058RXPxPg6fy4IWvTNh0E263XmFcJlSAwiGgFAW/dAiS6JXm\" crossorigin=\"anonymous\">\n",
      "    <link rel=\"stylesheet\" href=\"https://cdn.jsdelivr.net/npm/bootstrap-icons@1.5.0/font/bootstrap-icons.css\">\n",
      "    <title>範例索引</title>\n",
      "</head>\n",
      "<body>\n",
      "    <div class=\"container\">\n",
      "        <div class=\"row my-5\">\n",
      "            <div class=\"col\">\n",
      "                <h1 class=\"bg-warning p-3 rounded\">Web及爬蟲簡介課程範例</h1>\n",
      "\n",
      "                <ul class=\"list-group\">\n",
      "                    <li class=\"list-group-item\"><i class=\"bi bi-globe\"></i> <a href=\"html_only.html\">HTML 範例</a></li>\n",
      "                    <li class=\"list-group-item\"><i class=\"bi bi-globe\"></i> <a href=\"html_css.html\">HTML + CSS 範例</a></li>\n",
      "                    <li class=\"list-group-item\"><i class=\"bi bi-globe\"></i> <a href=\"html_css_javascript.html\">HTML + CSS + Javascript 範例</a></li>\n",
      "                    <li class=\"list-group-item\"><i class=\"bi bi-bug\"></i> <a href=\"example01.html\">example01.html (爬蟲抓取用範例)</a></li>\n",
      "                    <li class=\"list-group-item\"><i class=\"bi bi-bug\"></i> <a href=\"example02.html\">example02.html (爬蟲抓取用範例)</a></li>\n",
      "                    <li class=\"list-group-item\"><i class=\"bi bi-bug\"></i> <a href=\"example03.html\">example03.html (爬蟲抓取用範例)</a></li>\n",
      "                    <li class=\"list-group-item\"><i class=\"bi bi-bug\"></i> <a href=\"example04.html\">example04.html (爬蟲抓取用範例)</a></li>\n",
      "                    <li class=\"list-group-item\"><i class=\"bi bi-bug\"></i> <a href=\"example05.html\">example05.html (爬蟲抓取用範例)</a></li>\n",
      "                    <li class=\"list-group-item\"><i class=\"bi bi-bug\"></i> <a href=\"spy.html\">Classic HTML 範例 (爬蟲抓取用範例)</a></li>\n",
      "                    <li class=\"list-group-item\"><i class=\"bi bi-bug\"></i> <a href=\"spy_ajax.html\">Ajax 範例 (爬蟲抓取用範例)</a></li>\n",
      "                    <li class=\"list-group-item\"><i class=\"bi bi-bug\"></i> <a href=\"form_get.html\">HTTP GET 方法說明</a></li>\n",
      "                    <li class=\"list-group-item\"><i class=\"bi bi-bug\"></i> <a href=\"form_post.html\">HTTP POST 方法說明</a></li>\n",
      "                </ul>         \n",
      "            </div>\n",
      "    \n",
      "        </div>\n",
      "    </div>\n",
      "\n",
      "<!-- Optional JavaScript -->\n",
      "<!-- jQuery first, then Popper.js, then Bootstrap JS -->\n",
      "<script src=\"https://code.jquery.com/jquery-3.2.1.slim.min.js\" integrity=\"sha384-KJ3o2DKtIkvYIK3UENzmM7KCkRr/rE9/Qpg6aAZGJwFDMVNA/GpGFF93hXpG5KkN\" crossorigin=\"anonymous\"></script>\n",
      "<script src=\"https://cdnjs.cloudflare.com/ajax/libs/popper.js/1.12.9/umd/popper.min.js\" integrity=\"sha384-ApNbgh9B+Y1QKtv3Rn7W3mgPxhU9K/ScQsAP7hUibX39j7fakFPskvXusvfa0b4Q\" crossorigin=\"anonymous\"></script>\n",
      "<script src=\"https://maxcdn.bootstrapcdn.com/bootstrap/4.0.0/js/bootstrap.min.js\" integrity=\"sha384-JZR6Spejh4U02d8jOt6vLEHfe/JQGiRRSQQxSfFWpi1MquVdAyjUar5+76PVCmYl\" crossorigin=\"anonymous\"></script>\n",
      "\n",
      "</body>\n",
      "</html>\n"
     ]
    }
   ],
   "source": [
    "print(r.text)"
   ]
  },
  {
   "cell_type": "markdown",
   "id": "a9e0f30b-77fa-4e68-891a-01022f8e73dc",
   "metadata": {},
   "source": [
    "#### 剖析網頁原始碼"
   ]
  },
  {
   "cell_type": "code",
   "execution_count": 69,
   "id": "9f54d345-b352-438d-81f3-4421dccfc7ce",
   "metadata": {
    "tags": []
   },
   "outputs": [],
   "source": [
    "from bs4 import BeautifulSoup"
   ]
  },
  {
   "cell_type": "code",
   "execution_count": 70,
   "id": "94bc99b9-ca1f-48fc-b04b-4b3266aad71f",
   "metadata": {
    "tags": []
   },
   "outputs": [],
   "source": [
    "soup = BeautifulSoup(r.text)"
   ]
  },
  {
   "cell_type": "code",
   "execution_count": 72,
   "id": "dc2a8d1f-bacb-4fa0-a040-31a054275c85",
   "metadata": {
    "tags": []
   },
   "outputs": [
    {
     "name": "stdout",
     "output_type": "stream",
     "text": [
      " HTML 範例\n",
      " HTML + CSS 範例\n",
      " HTML + CSS + Javascript 範例\n",
      " example01.html (爬蟲抓取用範例)\n",
      " example02.html (爬蟲抓取用範例)\n",
      " example03.html (爬蟲抓取用範例)\n",
      " example04.html (爬蟲抓取用範例)\n",
      " example05.html (爬蟲抓取用範例)\n",
      " Classic HTML 範例 (爬蟲抓取用範例)\n",
      " Ajax 範例 (爬蟲抓取用範例)\n",
      " HTTP GET 方法說明\n",
      " HTTP POST 方法說明\n"
     ]
    }
   ],
   "source": [
    "for i in soup.select('li'):\n",
    "    print(i.text)"
   ]
  },
  {
   "cell_type": "markdown",
   "id": "37bd376e-94f6-4f08-b8a8-532196c02064",
   "metadata": {},
   "source": [
    "### 練習:抓取台北市YouBike2.0即時資料"
   ]
  },
  {
   "cell_type": "code",
   "execution_count": 73,
   "id": "ab6943b6-817f-43c1-82d0-5084224cd0d2",
   "metadata": {
    "tags": []
   },
   "outputs": [],
   "source": [
    "url = \"https://tcgbusfs.blob.core.windows.net/dotapp/youbike/v2/youbike_immediate.json\""
   ]
  },
  {
   "cell_type": "code",
   "execution_count": 74,
   "id": "847f54cc-2406-4dda-b16e-760a82171183",
   "metadata": {
    "tags": []
   },
   "outputs": [
    {
     "name": "stderr",
     "output_type": "stream",
     "text": [
      "C:\\Users\\victor\\anaconda3\\Lib\\site-packages\\urllib3\\connectionpool.py:1056: InsecureRequestWarning: Unverified HTTPS request is being made to host 'tcgbusfs.blob.core.windows.net'. Adding certificate verification is strongly advised. See: https://urllib3.readthedocs.io/en/1.26.x/advanced-usage.html#ssl-warnings\n",
      "  warnings.warn(\n"
     ]
    }
   ],
   "source": [
    "data = requests.get(url, verify=False).json()"
   ]
  },
  {
   "cell_type": "code",
   "execution_count": 75,
   "id": "2c031bdb-7f92-4cf7-aab6-d9acf28014a4",
   "metadata": {
    "tags": []
   },
   "outputs": [
    {
     "data": {
      "text/plain": [
       "list"
      ]
     },
     "execution_count": 75,
     "metadata": {},
     "output_type": "execute_result"
    }
   ],
   "source": [
    "type(data)"
   ]
  },
  {
   "cell_type": "code",
   "execution_count": 76,
   "id": "a1732335-3c23-4947-b906-91eceba3065c",
   "metadata": {
    "tags": []
   },
   "outputs": [
    {
     "data": {
      "text/plain": [
       "{'sno': '500101001',\n",
       " 'sna': 'YouBike2.0_捷運科技大樓站',\n",
       " 'tot': 28,\n",
       " 'sbi': 1,\n",
       " 'sarea': '大安區',\n",
       " 'mday': '2024-03-05 13:42:20',\n",
       " 'lat': 25.02605,\n",
       " 'lng': 121.5436,\n",
       " 'ar': '復興南路二段235號前',\n",
       " 'sareaen': 'Daan Dist.',\n",
       " 'snaen': 'YouBike2.0_MRT Technology Bldg. Sta.',\n",
       " 'aren': 'No.235， Sec. 2， Fuxing S. Rd.',\n",
       " 'bemp': 27,\n",
       " 'act': '1',\n",
       " 'srcUpdateTime': '2024-03-05 13:43:24',\n",
       " 'updateTime': '2024-03-05 13:43:51',\n",
       " 'infoTime': '2024-03-05 13:42:20',\n",
       " 'infoDate': '2024-03-05'}"
      ]
     },
     "execution_count": 76,
     "metadata": {},
     "output_type": "execute_result"
    }
   ],
   "source": [
    "data[0]"
   ]
  },
  {
   "cell_type": "code",
   "execution_count": 77,
   "id": "dfb217b4-6b87-4aa8-8f93-fb4e40026bf4",
   "metadata": {
    "tags": []
   },
   "outputs": [
    {
     "data": {
      "text/plain": [
       "25.02605"
      ]
     },
     "execution_count": 77,
     "metadata": {},
     "output_type": "execute_result"
    }
   ],
   "source": [
    "data[0]['lat']"
   ]
  },
  {
   "cell_type": "code",
   "execution_count": 79,
   "id": "7a4e67f5-731e-4622-b6da-20ec5f57463d",
   "metadata": {
    "tags": []
   },
   "outputs": [
    {
     "data": {
      "text/plain": [
       "'YouBike2.0_捷運科技大樓站'"
      ]
     },
     "execution_count": 79,
     "metadata": {},
     "output_type": "execute_result"
    }
   ],
   "source": [
    "data[0]['sna']"
   ]
  },
  {
   "cell_type": "code",
   "execution_count": 78,
   "id": "ddd4a302-478d-48c5-80e5-e00de809fd6c",
   "metadata": {
    "collapsed": true,
    "jupyter": {
     "outputs_hidden": true
    },
    "tags": []
   },
   "outputs": [
    {
     "name": "stdout",
     "output_type": "stream",
     "text": [
      "YouBike2.0_捷運科技大樓站\n",
      "YouBike2.0_復興南路二段273號前\n",
      "YouBike2.0_國北教大實小東側門\n",
      "YouBike2.0_和平公園東側\n",
      "YouBike2.0_辛亥復興路口西北側\n",
      "YouBike2.0_復興南路二段280號前\n",
      "YouBike2.0_復興南路二段340巷口\n",
      "YouBike2.0_新生南路三段52號前\n",
      "YouBike2.0_新生南路三段66號前\n",
      "YouBike2.0_新生南路三段82號前\n",
      "YouBike2.0_辛亥路一段30號前\n",
      "YouBike2.0_和平復興路口西北側\n",
      "YouBike2.0_羅斯福路三段311號前\n",
      "YouBike2.0_大安運動中心停車場\n",
      "YouBike2.0_羅斯福路三段245號前\n",
      "YouBike2.0_溫州公園\n",
      "YouBike2.0_和平臥龍街口\n",
      "YouBike2.0_溫州停車場\n",
      "YouBike2.0_銘傳國小側門\n",
      "YouBike2.0_捷運公館站(2號出口)\n",
      "YouBike2.0_第二學生活動中心\n",
      "YouBike2.0_臺灣科技大學正門\n",
      "YouBike2.0_臺灣科技大學側門\n",
      "YouBike2.0_公館公園\n",
      "YouBike2.0_臺灣科技大學後門\n",
      "YouBike2.0_臺大醫學院附設癌醫中心\n",
      "YouBike2.0_臺大環研大樓\n",
      "YouBike2.0_臺大永齡生醫工程館\n",
      "YouBike2.0_臺大男七舍前\n",
      "YouBike2.0_臺大男一舍前\n",
      "YouBike2.0_臺大男六舍前\n",
      "YouBike2.0_臺大動物醫院前\n",
      "YouBike2.0_臺大土木研究大樓前\n",
      "YouBike2.0_臺大萬才館前\n",
      "YouBike2.0_臺大國青大樓宿舍前\n",
      "YouBike2.0_臺大社科院圖書館前\n",
      "YouBike2.0_臺大法人語言訓練中心前\n",
      "YouBike2.0_臺大綜合體育館停車場前\n",
      "YouBike2.0_辛亥新生路口東南側\n",
      "YouBike2.0_基隆長興路口東側\n",
      "YouBike2.0_國北教大側門南側\n",
      "YouBike2.0_和平實小東北側\n",
      "YouBike2.0_大安區健康服務中心\n",
      "YouBike2.0_辛亥泰順街口\n",
      "YouBike2.0_芳和國中\n",
      "YouBike2.0_臥龍樂業街口\n",
      "YouBike2.0_臥龍公園\n",
      "YouBike2.0_嘉興公園\n",
      "YouBike2.0_捷運麟光站(2號出口)\n",
      "YouBike2.0_捷運六張犁站\n",
      "YouBike2.0_喬治工商\n",
      "YouBike2.0_法治公園\n",
      "YouBike2.0_捷運臺電大樓站(2號出口)\n",
      "YouBike2.0_和平金山路口\n",
      "YouBike2.0_和平龍泉街口\n",
      "YouBike2.0_和平泰順街口\n",
      "YouBike2.0_臺灣師範大學(圖書館)\n",
      "YouBike2.0_捷運古亭站(6號出口)\n",
      "YouBike2.0_捷運古亭站(5號出口)\n",
      "YouBike2.0_臺北市立圖書館(總館)\n",
      "YouBike2.0_新生和平路口東北側\n",
      "YouBike2.0_建國和平路口西北側\n",
      "YouBike2.0_金華公園\n",
      "YouBike2.0_捷運東門站(3號出口)\n",
      "YouBike2.0_金甌女中\n",
      "YouBike2.0_金杭公園\n",
      "YouBike2.0_愛國金山路口\n",
      "YouBike2.0_敦化南路二段293巷口南側\n",
      "YouBike2.0_敦化基隆路口\n",
      "YouBike2.0_安和路二段181巷口\n",
      "YouBike2.0_臨江街夜市(通化街101巷口)\n",
      "YouBike2.0_臨江街夜市(基隆路)\n",
      "YouBike2.0_台北科技大學億光大樓\n",
      "YouBike2.0_新生南路一段119巷口\n",
      "YouBike2.0_幸安國小(仁愛路)\n",
      "YouBike2.0_民榮公園\n",
      "YouBike2.0_復興南路1段340巷口\n",
      "YouBike2.0_建國濟南路口\n",
      "YouBike2.0_捷運忠孝復興站(2號出口)\n",
      "YouBike2.0_捷運大安站(4號出口)\n",
      "YouBike2.0_捷運大安站(2號出口)\n",
      "YouBike2.0_信義大安路口(信維大樓)\n",
      "YouBike2.0_龍門廣場\n",
      "YouBike2.0_仁愛安和路口\n",
      "YouBike2.0_信義敦化路口\n",
      "YouBike2.0_仁愛國中\n",
      "YouBike2.0_捷運信義安和站(2號出口)\n",
      "YouBike2.0_八德市場\n",
      "YouBike2.0_昌隆公園\n",
      "YouBike2.0_捷運大安森林公園站(2號出口)\n",
      "YouBike2.0_信義延吉街口\n",
      "YouBike2.0_光信公園(光復南路456巷)\n",
      "YouBike2.0_僑安地下停車場(2號出口)東南側\n",
      "YouBike2.0_建國南路一段279巷口\n",
      "YouBike2.0_捷運忠孝新生站(6號出口)\n",
      "YouBike2.0_捷運忠孝新生站(4號出口)\n",
      "YouBike2.0_大安高工\n",
      "YouBike2.0_捷運忠孝新生站(3號出口)\n",
      "YouBike2.0_瑠公公園\n",
      "YouBike2.0_敦化市民路口\n",
      "YouBike2.0_捷運大安森林公園站(5號出口)\n",
      "YouBike2.0_信義建國路口\n",
      "YouBike2.0_東豐公園\n",
      "YouBike2.0_德安公園(四維路66巷)\n",
      "YouBike2.0_捷運忠孝復興站(5號出口)\n",
      "YouBike2.0_捷運忠孝敦化站(2號出口)\n",
      "YouBike2.0_捷運忠孝敦化站(7號出口)\n",
      "YouBike2.0_瑞安街208巷\n",
      "YouBike2.0_樂利路21巷口\n",
      "YouBike2.0_捷運科技大樓站(台北教育大學)\n",
      "YouBike2.0_捷運國父紀念館站(2號出口)\n",
      "YouBike2.0_仁愛醫院\n",
      "YouBike2.0_捷運信義安和站(4號出口)\n",
      "YouBike2.0_成功國宅\n",
      "YouBike2.0_仁愛延吉街口\n",
      "YouBike2.0_捷運信義安和站(1號出口)\n",
      "YouBike2.0_敦化南路二段103巷口\n",
      "YouBike2.0_復興南路二段128巷口\n",
      "YouBike2.0_和平東建國南路口\n",
      "YouBike2.0_芳蘭山莊\n",
      "YouBike2.0_復興南路一段126巷口\n",
      "YouBike2.0_捷運東門站(5號出口)\n",
      "YouBike2.0_仁愛路四段48巷口\n",
      "YouBike2.0_捷運公館站(3號出口)\n",
      "YouBike2.0_臺北科技大學(電機工程系)\n",
      "YouBike2.0_忠孝東路三段217巷口\n",
      "YouBike2.0_新生南路三段94巷口\n",
      "YouBike2.0_辛亥新生路口西北側\n",
      "YouBike2.0_捷運大安站(6號出口)\n",
      "YouBike2.0_臥龍街195巷口\n",
      "YouBike2.0_辛亥路三段157巷口\n",
      "YouBike2.0_臥龍基隆路口\n",
      "YouBike2.0_敦親公園\n",
      "YouBike2.0_大安運動中心\n",
      "YouBike2.0_和平敦化路口\n",
      "YouBike2.0_基隆長興路口\n",
      "YouBike2.0_仁愛路四段122巷口\n",
      "YouBike2.0_市民敦化路口\n",
      "YouBike2.0_忠孝東路四段49巷口\n",
      "YouBike2.0_市民復興路口(東南側)\n",
      "YouBike2.0_和平新生路口西南側\n",
      "YouBike2.0_全安公園\n",
      "YouBike2.0_信義路三段134巷口\n",
      "YouBike2.0_仁愛敦南圓環(東南側)\n",
      "YouBike2.0_臺北遠企購物中心\n",
      "YouBike2.0_外交部外交及國際事務學院\n",
      "YouBike2.0_四維路170巷口\n",
      "YouBike2.0_捷運大安站(3號出口)\n",
      "YouBike2.0_捷運臺電大樓站(2號出口)_1\n",
      "YouBike2.0_信義路四段199巷\n",
      "YouBike2.0_臺大資訊大樓\n",
      "YouBike2.0_敦化南路二段81巷\n",
      "YouBike2.0_原臺北刑務所官舍\n",
      "YouBike2.0_捷運國父紀念館站(1號出口)\n",
      "YouBike2.0_懷生國中\n",
      "YouBike2.0_仁愛敦南圓環(西北側)\n",
      "YouBike2.0_立人國小\n",
      "YouBike2.0_和平東路二段18巷口\n",
      "YouBike2.0_捷運大安站(5號出口)\n",
      "YouBike2.0_臨江公園\n",
      "YouBike2.0_羅斯福路四段113巷19弄口\n",
      "YouBike2.0_忠孝東路四段248巷口\n",
      "YouBike2.0_仁愛延吉路口(西北側)\n",
      "YouBike2.0_樂利路101巷口\n",
      "YouBike2.0_羅斯福浦城街口\n",
      "YouBike2.0_敦化南路一段295巷口\n",
      "YouBike2.0_通安區民活動中心\n",
      "YouBike2.0_復興忠孝東路口(東南側)\n",
      "YouBike2.0_仁愛大安路口(東北側)\n",
      "YouBike2.0_臺灣師範大學(浦城街)\n",
      "YouBike2.0_安和路二段69巷口\n",
      "YouBike2.0_大安國小\n",
      "YouBike2.0_延平國宅\n",
      "YouBike2.0_臺北市立圖書館大同分館\n",
      "YouBike2.0_合昌宮\n",
      "YouBike2.0_民族延平路口\n",
      "YouBike2.0_重慶酒泉街口\n",
      "YouBike2.0_樹德公園\n",
      "YouBike2.0_陳天來故居\n",
      "YouBike2.0_臺北孔廟\n",
      "YouBike2.0_捷運圓山站(1號出口)\n",
      "YouBike2.0_酒泉延平路口\n",
      "YouBike2.0_重慶國中\n",
      "YouBike2.0_重慶北路三段383巷口\n",
      "YouBike2.0_台北數位產業園區\n",
      "YouBike2.0_民權延平路口(西北側)\n",
      "YouBike2.0_民權迪化街口\n",
      "YouBike2.0_大稻埕公園\n",
      "YouBike2.0_大龍老人住宅\n",
      "YouBike2.0_大龍峒社會住宅\n",
      "YouBike2.0_捷運大橋頭站(2號出口)\n",
      "YouBike2.0_捷運大橋頭站(1A出口)\n",
      "YouBike2.0_捷運民權西路站(2號出口)\n",
      "YouBike2.0_捷運雙連站(2號出口)\n",
      "YouBike2.0_捷運北門站(3號出口)\n",
      "YouBike2.0_朝陽公園\n",
      "YouBike2.0_永樂市場\n",
      "YouBike2.0_大龍公園\n",
      "YouBike2.0_重慶涼州街口\n",
      "YouBike2.0_圓山線形公園\n",
      "YouBike2.0_圓環站\n",
      "YouBike2.0_重慶民族路口\n",
      "YouBike2.0_承德路三段8巷口\n",
      "YouBike2.0_太原廣場\n",
      "YouBike2.0_國順公園\n",
      "YouBike2.0_聯合醫院中興院區\n",
      "YouBike2.0_蔣渭水紀念公園\n",
      "YouBike2.0_迪化休閒運動公園\n",
      "YouBike2.0_大同運動中心\n",
      "YouBike2.0_重慶保安街口(家樂福重慶店)\n",
      "YouBike2.0_大稻埕碼頭\n",
      "YouBike2.0_歸綏戲曲公園\n",
      "YouBike2.0_民權國中(民權西路)\n",
      "YouBike2.0_承德民權路口\n",
      "YouBike2.0_南京太原路口\n",
      "YouBike2.0_承德民生西路口\n",
      "YouBike2.0_太原五原路口\n",
      "YouBike2.0_臺北轉運站(華陰街)\n",
      "YouBike2.0_捷運民權西路站(3號出口)\n",
      "YouBike2.0_捷運中山站(5號出口)\n",
      "YouBike2.0_重慶長安路口\n",
      "YouBike2.0_承德昌吉街口\n",
      "YouBike2.0_大同16號廣場\n",
      "YouBike2.0_捷運圓山站(2號出口)\n",
      "YouBike2.0_樹德公園_1\n",
      "YouBike2.0_承德鄭州路口(市民高架下)\n",
      "YouBike2.0_成淵高中\n",
      "YouBike2.0_雙蓮國小\n",
      "YouBike2.0_寧夏涼州街口\n",
      "YouBike2.0_延平涼州街口\n",
      "YouBike2.0_大同行政中心\n",
      "YouBike2.0_大龍市場\n",
      "YouBike2.0_劍潭抽水站\n",
      "YouBike2.0_通河東街大南路口\n",
      "YouBike2.0_福港街停車場\n",
      "YouBike2.0_百齡國小\n",
      "YouBike2.0_雨聲街165巷口\n",
      "YouBike2.0_天和公園\n",
      "YouBike2.0_中山天母路口\n",
      "YouBike2.0_天母運動公園\n",
      "YouBike2.0_臺北市立大學(天母校區)\n",
      "YouBike2.0_忠誠路二段53巷\n",
      "YouBike2.0_天母棒球場\n",
      "YouBike2.0_天母北天玉街口\n",
      "YouBike2.0_蘭興公園\n",
      "YouBike2.0_明勝公園\n",
      "YouBike2.0_劍潭海外青年活動中心\n",
      "YouBike2.0_忠誠路一段173巷口\n",
      "YouBike2.0_雨農國小\n",
      "YouBike2.0_忠誠公園\n",
      "YouBike2.0_芝山抽水站\n",
      "YouBike2.0_至誠路一段305巷口\n",
      "YouBike2.0_華齡公園\n",
      "YouBike2.0_前港公園(福德宮)\n",
      "YouBike2.0_華齡街185巷口\n",
      "YouBike2.0_前港公園(前港街)\n",
      "YouBike2.0_百齡高中\n",
      "YouBike2.0_捷運芝山站(2號出口)\n",
      "YouBike2.0_臺灣戲曲中心\n",
      "YouBike2.0_捷運劍潭站(2號出口)\n",
      "YouBike2.0_劍潭基河路口\n",
      "YouBike2.0_志成公園\n",
      "YouBike2.0_福林國小\n",
      "YouBike2.0_中山中正路口\n",
      "YouBike2.0_士林運動中心\n",
      "YouBike2.0_陽明高中\n",
      "YouBike2.0_兒童新樂園\n",
      "YouBike2.0_臺北市立天文館\n",
      "YouBike2.0_華聲公園\n",
      "YouBike2.0_福林公園\n",
      "YouBike2.0_捷運士林站(2號出口)\n",
      "YouBike2.0_銘傳大學\n",
      "YouBike2.0_士林高商\n",
      "YouBike2.0_蘭雅公園\n",
      "YouBike2.0_聯合醫院陽明院區\n",
      "YouBike2.0_捷運芝山站(1號出口)\n",
      "YouBike2.0_至誠公園\n",
      "YouBike2.0_原住民文化主題公園\n",
      "YouBike2.0_通河東街2段10巷口\n",
      "YouBike2.0_梅林新村\n",
      "YouBike2.0_延平北中正路口\n",
      "YouBike2.0_重慶北路四段190巷口\n",
      "YouBike2.0_重慶北葫東街口\n",
      "YouBike2.0_葫蘆國小\n",
      "YouBike2.0_士林3號廣場\n",
      "YouBike2.0_社正公園\n",
      "YouBike2.0_社子國小\n",
      "YouBike2.0_社中街384巷口\n",
      "YouBike2.0_忠誠路一段138號\n",
      "YouBike2.0_社子公園\n",
      "YouBike2.0_國立故宮博物院\n",
      "YouBike2.0_泰北高中\n",
      "YouBike2.0_後港公園\n",
      "YouBike2.0_重慶北路四段117號\n",
      "YouBike2.0_社子島島頭公園\n",
      "YouBike2.0_延平北路八段133巷口\n",
      "YouBike2.0_坤天亭\n",
      "YouBike2.0_社子島濕地解說小築\n",
      "YouBike2.0_福安國中\n",
      "YouBike2.0_福安消防分隊\n",
      "YouBike2.0_聖山綠地\n",
      "YouBike2.0_芝山國小\n",
      "YouBike2.0_士林新天地\n",
      "YouBike2.0_蘭雅國小\n",
      "YouBike2.0_中正基河路口\n",
      "YouBike2.0_福林公園(中正路)\n",
      "YouBike2.0_至善臨溪路口\n",
      "YouBike2.0_市立圖書館葫蘆堵分館\n",
      "YouBike2.0_東山路110巷口\n",
      "YouBike2.0_永平社會住宅\n",
      "YouBike2.0_雨農橋\n",
      "YouBike2.0_通河街76巷/承德路四段10巷口\n",
      "YouBike2.0_芝山聖佑宮\n",
      "YouBike2.0_至誠雨聲街口\n",
      "YouBike2.0_捷運線型公園(後街)\n",
      "YouBike2.0_天母公園\n",
      "YouBike2.0_基河文林路口\n",
      "YouBike2.0_文林福華路口\n",
      "YouBike2.0_劍潭海外青年活動中心_1\n",
      "YouBike2.0_社子國小_1\n",
      "YouBike2.0_捷運劍潭站(1號出口)\n",
      "YouBike2.0_德行東山路口\n",
      "YouBike2.0_重慶北通河西街口\n",
      "YouBike2.0_葫蘆國小(延平北路五段285巷)\n",
      "YouBike2.0_社子市場\n",
      "YouBike2.0_士林區農會社子分部\n",
      "YouBike2.0_承德劍潭路口\n",
      "YouBike2.0_文林路101巷口\n",
      "YouBike2.0_延平北路五段257巷15弄口\n",
      "YouBike2.0_延平北路五段257巷4弄口\n",
      "YouBike2.0_啟明學校\n",
      "YouBike2.0_中山福國路口\n",
      "YouBike2.0_德行公園\n",
      "YouBike2.0_承德後港街口\n",
      "YouBike2.0_中山北路五段698巷口\n",
      "YouBike2.0_捷運士林站(1號出口)\n",
      "YouBike2.0_捷運芝山站(2號出口)_1\n",
      "YouBike2.0_銘傳大學(中山北路五段280巷口)\n",
      "YouBike2.0_海光公園南側\n",
      "YouBike2.0_士商路40巷口\n",
      "YouBike2.0_劍潭郵局\n",
      "YouBike2.0_士東路91巷口\n",
      "YouBike2.0_美崙公園\n",
      "YouBike2.0_臺北市立大學(忠誠路二段207巷)\n",
      "YouBike2.0_天母東路8巷/忠誠路二段154巷口\n",
      "YouBike2.0_美崙公園(東北側)\n",
      "YouBike2.0_福安河濱公園\n",
      "YouBike2.0_忠誠忠義街口(北側)\n",
      "YouBike2.0_忠誠忠義街口(南側)\n",
      "YouBike2.0_士林國小\n",
      "YouBike2.0_台北花木批發市場\n",
      "YouBike2.0_捷運萬隆站(4號出口)\n",
      "YouBike2.0_捷運萬隆站(1號出口)\n",
      "YouBike2.0_萬和二號公園\n",
      "YouBike2.0_捷運萬隆站(2號出口)\n",
      "YouBike2.0_景仁公園\n",
      "YouBike2.0_捷運景美站(2號出口)\n",
      "YouBike2.0_羅斯福景隆街口\n",
      "YouBike2.0_景福街/羅斯福路6段142巷口\n",
      "YouBike2.0_興旺公園\n",
      "YouBike2.0_興福國中\n",
      "YouBike2.0_興隆路2段203巷\n",
      "YouBike2.0_景美運動公園\n",
      "YouBike2.0_景美醫院\n",
      "YouBike2.0_師範大學公館校區\n",
      "YouBike2.0_景華街128巷口\n",
      "YouBike2.0_仙跡岩登山口(景興路)\n",
      "YouBike2.0_國立政治大學\n",
      "YouBike2.0_捷運動物園站\n",
      "YouBike2.0_捷運木柵站\n",
      "YouBike2.0_捷運萬芳社區站\n",
      "YouBike2.0_文山運動中心\n",
      "YouBike2.0_捷運辛亥站\n",
      "YouBike2.0_興豐公園\n",
      "YouBike2.0_木柵光輝路口\n",
      "YouBike2.0_考試院\n",
      "YouBike2.0_和興路26巷口\n",
      "YouBike2.0_世新大學\n",
      "YouBike2.0_一壽橋\n",
      "YouBike2.0_臺北市立景美女中\n",
      "YouBike2.0_永安藝文館-表演36房\n",
      "YouBike2.0_忠順區民活動中心\n",
      "YouBike2.0_景文中學\n",
      "YouBike2.0_老泉街籃球場\n",
      "YouBike2.0_文山行政中心\n",
      "YouBike2.0_木柵公園\n",
      "YouBike2.0_興隆公共住宅D2區\n",
      "YouBike2.0_木新路3段95巷口\n",
      "YouBike2.0_樟腳里公園\n",
      "YouBike2.0_實踐國中\n",
      "YouBike2.0_指南路3段2巷\n",
      "YouBike2.0_萊茵公園\n",
      "YouBike2.0_木柵社會住宅\n",
      "YouBike2.0_秀明路一段185巷口\n",
      "YouBike2.0_秀明路一段129巷口\n",
      "YouBike2.0_恆光橋(老泉街)\n",
      "YouBike2.0_萬有3號公園\n",
      "YouBike2.0_捷運萬芳醫院站(興隆路三段115巷)\n",
      "YouBike2.0_興得閱覽室\n",
      "YouBike2.0_辛亥生態公園\n",
      "YouBike2.0_博嘉運動公園\n",
      "YouBike2.0_國立政治大學(萬壽路)\n",
      "YouBike2.0_仙岩公園\n",
      "YouBike2.0_政大一街口\n",
      "YouBike2.0_文山第二行政中心\n",
      "YouBike2.0_移民署訓練中心\n",
      "YouBike2.0_海巡署(南側)\n",
      "YouBike2.0_明道國小東南側\n",
      "YouBike2.0_木南公園\n",
      "YouBike2.0_實踐國中(木新路三段310巷口)\n",
      "YouBike2.0_師範大學公館校區_1\n",
      "YouBike2.0_捷運動物園站(2號出口)\n",
      "YouBike2.0_政大水岸電梯\n",
      "YouBike2.0_敦南山林\n",
      "YouBike2.0_景美污水抽水站\n",
      "YouBike2.0_萬和三號公園(北側)\n",
      "YouBike2.0_景興國中\n",
      "YouBike2.0_景仁公園_1\n",
      "YouBike2.0_師大公館校區學二舍\n",
      "YouBike2.0_景行公園\n",
      "YouBike2.0_萬興國小\n",
      "YouBike2.0_辛亥路四段77巷口\n",
      "YouBike2.0_景興路42巷口\n",
      "YouBike2.0_木柵路三段48巷\n",
      "YouBike2.0_木柵路二段109巷\n",
      "YouBike2.0_試院公園\n",
      "YouBike2.0_樟樹公園\n",
      "YouBike2.0_萬美萬安街口\n",
      "YouBike2.0_興隆路二段203巷(敦南)\n",
      "YouBike2.0_新光秀明路口\n",
      "YouBike2.0_光輝路134巷口\n",
      "YouBike2.0_光輝公園\n",
      "YouBike2.0_木新公園\n",
      "YouBike2.0_興隆路二段275巷1弄口\n",
      "YouBike2.0_中國科技大學\n",
      "YouBike2.0_樟新街8巷\n",
      "YouBike2.0_仙岩路22巷口\n",
      "YouBike2.0_木柵萬芳路口\n",
      "YouBike2.0_福興路78巷\n",
      "YouBike2.0_臺北自來水事業處\n",
      "YouBike2.0_汀州思源街口東南側\n",
      "YouBike2.0_捷運公館站(1號出口)\n",
      "YouBike2.0_捷運公館站(4號出口)\n",
      "YouBike2.0_捷運古亭站(9號出口)\n",
      "YouBike2.0_捷運古亭站(2號出口)\n",
      "YouBike2.0_捷運臺電大樓站(1號出口)\n",
      "YouBike2.0_客家文化主題公園\n",
      "YouBike2.0_河堤國小\n",
      "YouBike2.0_紀州庵\n",
      "YouBike2.0_捷運臺電大樓站(5號出口)\n",
      "YouBike2.0_捷運臺電大樓站(4號出口)\n",
      "YouBike2.0_羅斯福三段金門街口\n",
      "YouBike2.0_牯嶺公園\n",
      "YouBike2.0_捷運古亭站(8號出口)\n",
      "YouBike2.0_捷運古亭站(7號出口)\n",
      "YouBike2.0_南昌公園\n",
      "YouBike2.0_和平重慶路口\n",
      "YouBike2.0_孫立人將軍官邸\n",
      "YouBike2.0_羅斯福路二段6巷口\n",
      "YouBike2.0_金華杭州南路口\n",
      "YouBike2.0_捷運中正紀念堂站(3號出口)\n",
      "YouBike2.0_捷運中正紀念堂站(4號出口)\n",
      "YouBike2.0_螢橋國小\n",
      "YouBike2.0_古亭智慧圖書館\n",
      "YouBike2.0_永昌公園\n",
      "YouBike2.0_中華路二段409巷口\n",
      "YouBike2.0_南機場夜市(中華路二段)\n",
      "YouBike2.0_南海和平路口西南側\n",
      "YouBike2.0_莒光和平路口\n",
      "YouBike2.0_水源路11-1號旁\n",
      "YouBike2.0_南門國中\n",
      "YouBike2.0_捷運小南門站(2號出口)\n",
      "YouBike2.0_介壽公園\n",
      "YouBike2.0_中華貴陽街口\n",
      "YouBike2.0_華山文創園區\n",
      "YouBike2.0_捷運善導寺站(1號出口)\n",
      "YouBike2.0_濟南紹興路口\n",
      "YouBike2.0_林森仁愛路口\n",
      "YouBike2.0_中正運動中心\n",
      "YouBike2.0_信義杭州路口\n",
      "YouBike2.0_捷運善導寺站(3號出口)\n",
      "YouBike2.0_捷運小南門站(1號出口)\n",
      "YouBike2.0_延平南路133巷口\n",
      "YouBike2.0_捷運西門站(2號出口)\n",
      "YouBike2.0_寶慶博愛路口\n",
      "YouBike2.0_法務部\n",
      "YouBike2.0_臺北市立大學(博愛校區)\n",
      "YouBike2.0_國家圖書館\n",
      "YouBike2.0_市民金山路口\n",
      "YouBike2.0_聯合醫院和平院區\n",
      "YouBike2.0_中山堂\n",
      "YouBike2.0_中華漢口街口\n",
      "YouBike2.0_中華路一段21巷口\n",
      "YouBike2.0_捷運臺大醫院站(4號出口)\n",
      "YouBike2.0_寶藏巖觀音亭\n",
      "YouBike2.0_師大水源路口\n",
      "YouBike2.0_中山徐州路口\n",
      "YouBike2.0_信義連雲街口\n",
      "YouBike2.0_臺北轉運站\n",
      "YouBike2.0_莒光大埔街口\n",
      "YouBike2.0_捷運忠孝新生站(2號出口)\n",
      "YouBike2.0_光華商場\n",
      "YouBike2.0_中山青島路口\n",
      "YouBike2.0_捷運中正紀念堂站(5號出口)\n",
      "YouBike2.0_北平東杭州北路口\n",
      "YouBike2.0_王貫英先生紀念圖書館\n",
      "YouBike2.0_金山信義路口\n",
      "YouBike2.0_林森徐州路口\n",
      "YouBike2.0_徐州杭州路口\n",
      "YouBike2.0_捷運中正紀念堂站(6號出口)\n",
      "YouBike2.0_捷運臺北車站(M2出口)\n",
      "YouBike2.0_臺北市國父史蹟館(逸仙公園)\n",
      "YouBike2.0_捷運西門站(5號出口)\n",
      "YouBike2.0_弘道國中\n",
      "YouBike2.0_臺北市第一女子高級中學\n",
      "YouBike2.0_台北市替代役中心\n",
      "YouBike2.0_紹興徐州路口\n",
      "YouBike2.0_羅斯福寧波東街口\n",
      "YouBike2.0_自來水園區\n",
      "YouBike2.0_仁愛林森路口\n",
      "YouBike2.0_捷運西門站(3號出口)\n",
      "YouBike2.0_仁愛金山路口\n",
      "YouBike2.0_杭州南路一段101巷口\n",
      "YouBike2.0_仁愛杭州路口\n",
      "YouBike2.0_龍興里活動中心\n",
      "YouBike2.0_植物園\n",
      "YouBike2.0_郵政博物館\n",
      "YouBike2.0_林森北平路口\n",
      "YouBike2.0_北平紹興路口\n",
      "YouBike2.0_天津北平路口\n",
      "YouBike2.0_捷運忠孝新生站(1號出口)\n",
      "YouBike2.0_捷運忠孝新生站(5號出口)\n",
      "YouBike2.0_捷運臺大醫院站(1號出口)\n",
      "YouBike2.0_臺大醫院兒童醫院\n",
      "YouBike2.0_林森濟南路口(東北側)\n",
      "YouBike2.0_仁愛紹興街口(南側)\n",
      "YouBike2.0_中華南海路口\n",
      "YouBike2.0_立法院台北會館\n",
      "YouBike2.0_捷運善導寺站(3號出口)(忠孝東路側)\n",
      "YouBike2.0_國家音樂廳\n",
      "YouBike2.0_忠孝西重慶南路口\n",
      "YouBike2.0_濟南路二段8巷口\n",
      "YouBike2.0_仁愛金山路口(東南側)\n",
      "YouBike2.0_臺灣文學基地\n",
      "YouBike2.0_重慶南詔安街口\n",
      "YouBike2.0_文光公園\n",
      "YouBike2.0_捷運中正紀念堂站(2號出口)\n",
      "YouBike2.0_螢圃里小公園\n",
      "YouBike2.0_螢橋公園\n",
      "YouBike2.0_泉州寧波西街口\n",
      "YouBike2.0_和平西路二段98巷口\n",
      "YouBike2.0_仁愛新生路口(西南側)\n",
      "YouBike2.0_幸安市場\n",
      "YouBike2.0_通北街65巷口\n",
      "YouBike2.0_圓山風景區\n",
      "YouBike2.0_樂群二堤頂大道口\n",
      "YouBike2.0_劍潭社區\n",
      "YouBike2.0_培英公園\n",
      "YouBike2.0_樂群二明水路口\n",
      "YouBike2.0_北安大直街口\n",
      "YouBike2.0_捷運劍南路站(2號出口)\n",
      "YouBike2.0_樂群二敬業三路口\n",
      "YouBike2.0_樂群二敬業四路口\n",
      "YouBike2.0_捷運大直站(3號出口)\n",
      "YouBike2.0_復興市民路口\n",
      "YouBike2.0_南京遼寧街口\n",
      "YouBike2.0_伊通長安路口\n",
      "YouBike2.0_新生長安路口\n",
      "YouBike2.0_市民林森路口\n",
      "YouBike2.0_南京新生路口\n",
      "YouBike2.0_一江公園\n",
      "YouBike2.0_松江公園\n",
      "YouBike2.0_新生長春路口\n",
      "YouBike2.0_第二果菜批發市場\n",
      "YouBike2.0_民生建國路口\n",
      "YouBike2.0_興安華城\n",
      "YouBike2.0_捷運中山國中站\n",
      "YouBike2.0_龍江錦州街口\n",
      "YouBike2.0_建國長春路口\n",
      "YouBike2.0_南京建國路口\n",
      "YouBike2.0_捷運松江南京站(7號出口)\n",
      "YouBike2.0_朱崙商場\n",
      "YouBike2.0_中吉公園\n",
      "YouBike2.0_華山公園\n",
      "YouBike2.0_建國北路一段17巷\n",
      "YouBike2.0_江寧公園\n",
      "YouBike2.0_民權龍江路口\n",
      "YouBike2.0_捷運中山國小站(2號出口)\n",
      "YouBike2.0_捷運行天宮站(3號出口)\n",
      "YouBike2.0_林森農安街口\n",
      "YouBike2.0_捷運中山國小站(4號出口)\n",
      "YouBike2.0_農安雙城街口\n",
      "YouBike2.0_新生德惠街口\n",
      "YouBike2.0_民族林森路口\n",
      "YouBike2.0_臺北市立美術館\n",
      "YouBike2.0_中山民族路口\n",
      "YouBike2.0_新生高架停車場(林森北路107巷口)\n",
      "YouBike2.0_南京林森路口(東南側)\n",
      "YouBike2.0_仁德公園\n",
      "YouBike2.0_中原公園\n",
      "YouBike2.0_下埤公園\n",
      "YouBike2.0_五常國中\n",
      "YouBike2.0_榮星花園\n",
      "YouBike2.0_民權建國路口\n",
      "YouBike2.0_松江路431巷口\n",
      "YouBike2.0_新喜公園\n",
      "YouBike2.0_吉林路407巷口\n",
      "YouBike2.0_民族松江路口\n",
      "YouBike2.0_林安泰古厝\n",
      "YouBike2.0_中山公民會館\n",
      "YouBike2.0_渭水八德路口\n",
      "YouBike2.0_捷運中山站(2號出口)\n",
      "YouBike2.0_撫順公園\n",
      "YouBike2.0_新生公園\n",
      "YouBike2.0_捷運行天宮站(1號出口)\n",
      "YouBike2.0_林森長春路口\n",
      "YouBike2.0_建國農安街口\n",
      "YouBike2.0_松江路77巷口\n",
      "YouBike2.0_建國長安路口\n",
      "YouBike2.0_市民新生路口\n",
      "YouBike2.0_民權吉林路口\n",
      "YouBike2.0_中山農安街口\n",
      "YouBike2.0_捷運行政大樓\n",
      "YouBike2.0_中吉公園(松江路188巷)\n",
      "YouBike2.0_吉林路123巷口\n",
      "YouBike2.0_中原民生路口\n",
      "YouBike2.0_國立臺北大學(臺北校區)\n",
      "YouBike2.0_錦州吉林路口\n",
      "YouBike2.0_中山北路二段59巷口\n",
      "YouBike2.0_永盛公園(民生東路一段23巷)\n",
      "YouBike2.0_新生錦州街口\n",
      "YouBike2.0_濱江街199巷口\n",
      "YouBike2.0_大佳社區公園\n",
      "YouBike2.0_濱江果菜市場\n",
      "YouBike2.0_興安合江路口\n",
      "YouBike2.0_復興北路514巷口東側\n",
      "YouBike2.0_台泥大樓\n",
      "YouBike2.0_植福樂群路口\n",
      "YouBike2.0_新興公園\n",
      "YouBike2.0_南京伊通街口\n",
      "YouBike2.0_南京龍江路口\n",
      "YouBike2.0_撫順街41巷(崇德宮前)\n",
      "YouBike2.0_臺北市立圖書館大直分館\n",
      "YouBike2.0_捷運大直站(1號出口)\n",
      "YouBike2.0_捷運松江南京站(4號出口)\n",
      "YouBike2.0_中429公園\n",
      "YouBike2.0_長春路137巷口\n",
      "YouBike2.0_松江民生路口\n",
      "YouBike2.0_松江路132巷口\n",
      "YouBike2.0_長春吉林路口\n",
      "YouBike2.0_長春一江街口\n",
      "YouBike2.0_捷運松江南京站(8號出口)\n",
      "YouBike2.0_南京一江街口\n",
      "YouBike2.0_松江長春路口\n",
      "YouBike2.0_經國七海文化園區\n",
      "YouBike2.0_民族玉門街口\n",
      "YouBike2.0_新生農安街口\n",
      "YouBike2.0_稻江高級護理家事職業學校\n",
      "YouBike2.0_捷運大直站(3號出口)_1\n",
      "YouBike2.0_樂群二明水路口_1\n",
      "YouBike2.0_民權吉林路口(南側)\n",
      "YouBike2.0_長春龍江路口\n",
      "YouBike2.0_民權新生路口\n",
      "YouBike2.0_建國長春路口(北側)\n",
      "YouBike2.0_中山行政中心\n",
      "YouBike2.0_臺北市立美術館_1\n",
      "YouBike2.0_劍潭社區_1\n",
      "YouBike2.0_濱江國小游泳池\n",
      "YouBike2.0_林森公園\n",
      "YouBike2.0_中428公園\n",
      "YouBike2.0_復華公園\n",
      "YouBike2.0_新生民族路口(西南側)\n",
      "YouBike2.0_捷運南京復興站(1號出口)\n",
      "YouBike2.0_八德市場(北側)\n",
      "YouBike2.0_龍江朱崙街口\n",
      "YouBike2.0_大直街94巷\n",
      "YouBike2.0_捷運南京復興站(8號出口)\n",
      "YouBike2.0_民權建國路口(南側)\n",
      "YouBike2.0_林森德惠街口\n",
      "YouBike2.0_新生濱江街口(東南側)\n",
      "YouBike2.0_新生北路一段62巷口\n",
      "YouBike2.0_新生長春路口(東北側)\n",
      "YouBike2.0_捷運劍南路站(1號出口)\n",
      "YouBike2.0_敬業三樂群三路口(西北側)\n",
      "YouBike2.0_長春路258巷2弄口\n",
      "YouBike2.0_長寧大廈社區(南側)\n",
      "YouBike2.0_建國五常街口\n",
      "YouBike2.0_中山北路二段62巷口\n",
      "YouBike2.0_市民安東街口\n",
      "YouBike2.0_市民大道二段5巷口\n",
      "YouBike2.0_捷運中山站(3號出口)\n",
      "YouBike2.0_建國北路高架橋下停車場G區\n",
      "YouBike2.0_朱崙公園\n",
      "YouBike2.0_朱崙復興北路口\n",
      "YouBike2.0_捷運行天宮站(4號出口)\n",
      "YouBike2.0_文湖街21巷118弄口\n",
      "YouBike2.0_北勢湖環保公園\n",
      "YouBike2.0_洲子一號公園\n",
      "YouBike2.0_西康公園\n",
      "YouBike2.0_文湖國小\n",
      "YouBike2.0_文湖街81巷10號西側\n",
      "YouBike2.0_德明財經科技大學\n",
      "YouBike2.0_麗山國小\n",
      "YouBike2.0_麗山高中\n",
      "YouBike2.0_港華五號公園\n",
      "YouBike2.0_大湖國小\n",
      "YouBike2.0_安湖三號公園\n",
      "YouBike2.0_東湖路113巷95弄\n",
      "YouBike2.0_瑞光計程車服務站\n",
      "YouBike2.0_文德三號公園(江南街71巷16弄)\n",
      "YouBike2.0_捷運大湖公園站(2號出口)\n",
      "YouBike2.0_康寧星雲街口\n",
      "YouBike2.0_星雲街47號\n",
      "YouBike2.0_捷運西湖站(1號出口)\n",
      "YouBike2.0_捷運西湖站(2號出口)\n",
      "YouBike2.0_洲子二號公園\n",
      "YouBike2.0_港都公園\n",
      "YouBike2.0_環山路二段26巷口\n",
      "YouBike2.0_成功金龍路口\n",
      "YouBike2.0_碧山公園\n",
      "YouBike2.0_金瑞公園\n",
      "YouBike2.0_捷運文德站(2號出口)\n",
      "YouBike2.0_陽光公園\n",
      "YouBike2.0_文德二號公園(南側)\n",
      "YouBike2.0_文德二號公園(北側)\n",
      "YouBike2.0_瑞陽公園\n",
      "YouBike2.0_湖光國宅\n",
      "YouBike2.0_潭美街213號\n",
      "YouBike2.0_南京東路六段180號\n",
      "YouBike2.0_潭美國小(南京舊宗路口)\n",
      "YouBike2.0_新明路343號\n",
      "YouBike2.0_週美里活動廣場\n",
      "YouBike2.0_內湖行政中心\n",
      "YouBike2.0_樂康公園\n",
      "YouBike2.0_安康路32巷24弄\n",
      "YouBike2.0_明美公園\n",
      "YouBike2.0_南京東路六段368巷\n",
      "YouBike2.0_新明成功路口\n",
      "YouBike2.0_民權瑞光路口\n",
      "YouBike2.0_瑞光公共住宅(瑞光路)\n",
      "YouBike2.0_民權東路六段15巷\n",
      "YouBike2.0_扶輪親恩公園\n",
      "YouBike2.0_新湖三民善街口\n",
      "YouBike2.0_內湖119號綠地\n",
      "YouBike2.0_行善公園\n",
      "YouBike2.0_三軍總醫院\n",
      "YouBike2.0_福華商場\n",
      "YouBike2.0_臺北市網球中心\n",
      "YouBike2.0_捷運葫洲站(1號出口)\n",
      "YouBike2.0_麗湖國小\n",
      "YouBike2.0_金湖路347巷125弄口\n",
      "YouBike2.0_碧湖公園\n",
      "YouBike2.0_碧湖公園(內湖路二段103巷)\n",
      "YouBike2.0_貿七社區\n",
      "YouBike2.0_內湖區農會\n",
      "YouBike2.0_捷運內湖站(2號出口)\n",
      "YouBike2.0_康寧金湖路口\n",
      "YouBike2.0_康寧路一段156巷20弄口\n",
      "YouBike2.0_安康公園\n",
      "YouBike2.0_安泰街83巷\n",
      "YouBike2.0_內溝溪生態展示館\n",
      "YouBike2.0_捷運港墘站(2號出口)\n",
      "YouBike2.0_東湖國中\n",
      "YouBike2.0_石潭公園(安康路)\n",
      "YouBike2.0_內湖垃圾焚化廠\n",
      "YouBike2.0_康寧公園(北側)\n",
      "YouBike2.0_康寧路三段54巷口\n",
      "YouBike2.0_行善路25巷口\n",
      "YouBike2.0_新明路460巷口\n",
      "YouBike2.0_下灣公園\n",
      "YouBike2.0_民權東路六段245巷口\n",
      "YouBike2.0_東湖國小\n",
      "YouBike2.0_捷運內湖站(1號出口)\n",
      "YouBike2.0_瑞光港墘路口\n",
      "YouBike2.0_瑞湖陽光街口\n",
      "YouBike2.0_金龍公園\n",
      "YouBike2.0_星雲街138巷1弄口\n",
      "YouBike2.0_東湖一號公園\n",
      "YouBike2.0_東湖二號公園\n",
      "YouBike2.0_康湖二號公園(康寧醫院)\n",
      "YouBike2.0_堤頂大道新湖一路口\n",
      "YouBike2.0_下灣公園(成功路)\n",
      "YouBike2.0_舊宗行善路口\n",
      "YouBike2.0_新湖二路250巷口\n",
      "YouBike2.0_成功路四段41巷口\n",
      "YouBike2.0_金湖星雲街口\n",
      "YouBike2.0_國防醫學院\n",
      "YouBike2.0_民權東路六段190巷117弄口\n",
      "YouBike2.0_內湖運動中心\n",
      "YouBike2.0_九華公園\n",
      "YouBike2.0_內湖路二段179巷口\n",
      "YouBike2.0_行善行愛路口\n",
      "YouBike2.0_民善新湖二路口(家樂福內湖店)\n",
      "YouBike2.0_統振大樓\n",
      "YouBike2.0_陽光街161巷口\n",
      "YouBike2.0_潭美公園(南京東路六段368巷)\n",
      "YouBike2.0_西康二號公園\n",
      "YouBike2.0_三民國中(民權東路六段47巷)\n",
      "YouBike2.0_瑞光路76巷口\n",
      "YouBike2.0_捷運東湖站\n",
      "YouBike2.0_新湖國小\n",
      "YouBike2.0_碧山內湖路口\n",
      "YouBike2.0_民權東路六段413巷\n",
      "YouBike2.0_宏匯瑞光廣場(瑞光路)\n",
      "YouBike2.0_宏匯瑞光廣場(港墘路)\n",
      "YouBike2.0_康樂街151巷\n",
      "YouBike2.0_內湖路一段360巷\n",
      "YouBike2.0_成功路三段83號前\n",
      "YouBike2.0_內湖路一段47巷\n",
      "YouBike2.0_陽光舊宗路口\n",
      "YouBike2.0_安湖公園\n",
      "YouBike2.0_湖興公園\n",
      "YouBike2.0_安泰街(康樂橋下)\n",
      "YouBike2.0_康樂綠地\n",
      "YouBike2.0_捷運港墘站(1號出口)\n",
      "YouBike2.0_明美公園(行善路333巷)\n",
      "YouBike2.0_行善路383巷\n",
      "YouBike2.0_舊宗新湖三路口\n",
      "YouBike2.0_內湖運動公園\n",
      "YouBike2.0_內湖路三段326巷口\n",
      "YouBike2.0_成功公園\n",
      "YouBike2.0_康寧路三段189巷93弄口\n",
      "YouBike2.0_中國醫藥大學附設醫院臺北分院\n",
      "YouBike2.0_康樂抽水站\n",
      "YouBike2.0_環山路三段16巷口\n",
      "YouBike2.0_文德一號綠地\n",
      "YouBike2.0_臺北花市\n",
      "YouBike2.0_行善社會住宅\n",
      "YouBike2.0_康寧路三段99巷17弄口\n",
      "YouBike2.0_堤頂大道二段407巷口\n",
      "YouBike2.0_海德堡科技大樓\n",
      "YouBike2.0_致伸科技大樓\n",
      "YouBike2.0_內湖路一段288巷口\n",
      "YouBike2.0_大都會客運內湖站\n",
      "YouBike2.0_瑞湖公園\n",
      "YouBike2.0_台灣世曦大樓\n",
      "YouBike2.0_遠雄時代總部\n",
      "YouBike2.0_瑞光路358巷口\n",
      "YouBike2.0_大港墘公園(洲子街)\n",
      "YouBike2.0_世紀經貿\n",
      "YouBike2.0_民權東路六段56巷口\n",
      "YouBike2.0_新湖三行忠路72巷口\n",
      "YouBike2.0_新湖三新湖二146巷口\n",
      "YouBike2.0_舊宗新湖二路口\n",
      "YouBike2.0_新光基湖大樓\n",
      "YouBike2.0_內湖路一段120巷15弄\n",
      "YouBike2.0_北勢湖環保公園(堤頂大道側)\n",
      "YouBike2.0_達爾文大樓\n",
      "YouBike2.0_東湖四號公園\n",
      "YouBike2.0_加瑪科技中心\n",
      "YouBike2.0_福壽公園\n",
      "YouBike2.0_捷運西湖站(1號出口)內湖路側\n",
      "YouBike2.0_威剛科技總部\n",
      "YouBike2.0_太陽科技廣場\n",
      "YouBike2.0_瑞光路316巷\n",
      "YouBike2.0_承德路七段304巷口\n",
      "YouBike2.0_洲美運動公園\n",
      "YouBike2.0_榮華二明德路口\n",
      "YouBike2.0_捷運明德站(1號出口)\n",
      "YouBike2.0_文林建民路口\n",
      "YouBike2.0_永欣綠地\n",
      "YouBike2.0_關渡宮\n",
      "YouBike2.0_關渡自然公園\n",
      "YouBike2.0_關渡醫院\n",
      "YouBike2.0_捷運忠義站(1號出口)\n",
      "YouBike2.0_捷運關渡站(1號出口)\n",
      "YouBike2.0_捷運關渡站(2號出口)\n",
      "YouBike2.0_中央北路四段540巷口\n",
      "YouBike2.0_大度立德路口\n",
      "YouBike2.0_捷運復興崗站(1號出口)\n",
      "YouBike2.0_捷運復興崗站旅客服務中心\n",
      "YouBike2.0_豐年公園\n",
      "YouBike2.0_稻香重三路口\n",
      "YouBike2.0_國防大學政治作戰學院\n",
      "YouBike2.0_秀山區民活動中心\n",
      "YouBike2.0_大業大同街口\n",
      "YouBike2.0_捷運新北投站\n",
      "YouBike2.0_捷運北投站\n",
      "YouBike2.0_捷運奇岩站(三合街)\n",
      "YouBike2.0_八仙里辦公處\n",
      "YouBike2.0_清江國小\n",
      "YouBike2.0_大業路300巷口\n",
      "YouBike2.0_立農公園\n",
      "YouBike2.0_北投奇岩長青樂活大樓\n",
      "YouBike2.0_捷運唭哩岸站(2號出口)\n",
      "YouBike2.0_北投運動中心\n",
      "YouBike2.0_陽明大學\n",
      "YouBike2.0_捷運石牌站(2號出口)\n",
      "YouBike2.0_台北護理大學\n",
      "YouBike2.0_捷運石牌站(1號出口)\n",
      "YouBike2.0_振興醫院\n",
      "YouBike2.0_石牌國小\n",
      "YouBike2.0_振興公園\n",
      "YouBike2.0_立農國小\n",
      "YouBike2.0_承德路七段280巷口\n",
      "YouBike2.0_致遠一路二段11巷\n",
      "YouBike2.0_榮富公園\n",
      "YouBike2.0_中正高中\n",
      "YouBike2.0_立功立德路口\n",
      "YouBike2.0_中央北路四段30巷口\n",
      "YouBike2.0_陽明交大圖書館\n",
      "YouBike2.0_捷運新北投站(2號出口)\n",
      "YouBike2.0_復興公園\n",
      "YouBike2.0_承德石牌路口\n",
      "YouBike2.0_承德路七段188巷口\n",
      "YouBike2.0_捷運明德站(3號出口)\n",
      "YouBike2.0_大豐公園\n",
      "YouBike2.0_洲美公園\n",
      "YouBike2.0_中和街455巷11弄\n",
      "YouBike2.0_洲美蜆仔港公園\n",
      "YouBike2.0_文化三杏林一路口\n",
      "YouBike2.0_珠海復興一路口\n",
      "YouBike2.0_裕民二路33巷\n",
      "YouBike2.0_新奇岩社會住宅\n",
      "YouBike2.0_泉源公園\n",
      "YouBike2.0_奇岩4號綠地\n",
      "YouBike2.0_臺北健康護理大學(教研大樓)\n",
      "YouBike2.0_奇岩一號公園\n",
      "YouBike2.0_福星公園\n",
      "YouBike2.0_中庸公園\n",
      "YouBike2.0_豐年公園_1\n",
      "YouBike2.0_光明溫泉路口\n",
      "YouBike2.0_和信治癌中心醫院\n",
      "YouBike2.0_致遠新村\n",
      "YouBike2.0_北投公園露天溫泉\n",
      "YouBike2.0_中和街493巷9弄口\n",
      "YouBike2.0_捷運北投站(1號出口)\n",
      "YouBike2.0_石牌立農街口\n",
      "YouBike2.0_捷運唭哩岸站(1號出口)\n",
      "YouBike2.0_大興光明路2巷口\n",
      "YouBike2.0_捷運忠義站(2號出口)\n",
      "YouBike2.0_福國承德路口\n",
      "YouBike2.0_捷運北投站(1號出口)(北投路側)\n",
      "YouBike2.0_華固創富中心\n",
      "YouBike2.0_崇仰公園(公舘路255巷)\n",
      "YouBike2.0_北投文化公園(北側)\n",
      "YouBike2.0_中和綠地\n",
      "YouBike2.0_大業路65巷口\n",
      "YouBike2.0_公舘承德路口\n",
      "YouBike2.0_文林北明德路口(東北側)\n",
      "YouBike2.0_永興路一段32巷口\n",
      "YouBike2.0_捷運松山站(4號出口)\n",
      "YouBike2.0_塔悠八德路口\n",
      "YouBike2.0_鵬程公園\n",
      "YouBike2.0_中崙高中\n",
      "YouBike2.0_捷運南京三民站(2號出口)\n",
      "YouBike2.0_捷運南京三民站(1號出口)\n",
      "YouBike2.0_光復北路11巷口\n",
      "YouBike2.0_捷運南京三民站(4號出口)\n",
      "YouBike2.0_西松高中\n",
      "YouBike2.0_民權復興路口\n",
      "YouBike2.0_民福三號綠地\n",
      "YouBike2.0_民有一號公園\n",
      "YouBike2.0_民生敦化路口\n",
      "YouBike2.0_松基公園\n",
      "YouBike2.0_三民路166巷口\n",
      "YouBike2.0_民生活動中心\n",
      "YouBike2.0_捷運小巨蛋站(2號出口)\n",
      "YouBike2.0_臺北市藝文推廣處\n",
      "YouBike2.0_民生國小(敦化北路199巷)\n",
      "YouBike2.0_敦北公園\n",
      "YouBike2.0_民權運動公園\n",
      "YouBike2.0_新東公園\n",
      "YouBike2.0_民生光復路口\n",
      "YouBike2.0_三民公園\n",
      "YouBike2.0_八德路三段74巷口\n",
      "YouBike2.0_八德路三段8巷口\n",
      "YouBike2.0_三軍總醫院(松山分院)\n",
      "YouBike2.0_平安新城\n",
      "YouBike2.0_健康社會住宅\n",
      "YouBike2.0_民權光復路口(東北側)\n",
      "YouBike2.0_市民東興路口\n",
      "YouBike2.0_光復南路22巷口\n",
      "YouBike2.0_光復南路58巷\n",
      "YouBike2.0_松山新城\n",
      "YouBike2.0_內政部營建署\n",
      "YouBike2.0_南京光復路口\n",
      "YouBike2.0_民生立體停車場\n",
      "YouBike2.0_健康新城\n",
      "YouBike2.0_健安新城\n",
      "YouBike2.0_復盛公園\n",
      "YouBike2.0_中崙福成宮\n",
      "YouBike2.0_捷運南京復興站(7號出口)\n",
      "YouBike2.0_捷運南京復興站(5號出口)\n",
      "YouBike2.0_塔悠疏散門\n",
      "YouBike2.0_臺北田徑場\n",
      "YouBike2.0_捷運小巨蛋站(5號出口)\n",
      "YouBike2.0_敦化長春路口\n",
      "YouBike2.0_饒河疏散門(基四號疏散門)\n",
      "YouBike2.0_捷運松山站(2號出口)\n",
      "YouBike2.0_民權東路三段106巷口\n",
      "YouBike2.0_南京東路五段59巷口\n",
      "YouBike2.0_三民公園(塔悠路)\n",
      "YouBike2.0_寶清公園\n",
      "YouBike2.0_西松公園\n",
      "YouBike2.0_長壽公園\n",
      "YouBike2.0_復源公園\n",
      "YouBike2.0_南京東路四段179巷口\n",
      "YouBike2.0_臺北田徑場(北寧路側)\n",
      "YouBike2.0_西松高中(健康路325巷)\n",
      "YouBike2.0_南京東興路口\n",
      "YouBike2.0_捷運松山站(3號出口)\n",
      "YouBike2.0_介壽國中\n",
      "YouBike2.0_敦化南京路口(東北側)\n",
      "YouBike2.0_敦化八德路口\n",
      "YouBike2.0_新東街51巷口\n",
      "YouBike2.0_八德立體停車場\n",
      "YouBike2.0_長春慶城街口\n",
      "YouBike2.0_八德路四段652巷口\n",
      "YouBike2.0_捷運松山站(1號出口)\n",
      "YouBike2.0_捷運小巨蛋站(3號出口)\n",
      "YouBike2.0_捷運小巨蛋站(5號出口)_1\n",
      "YouBike2.0_敦化北路155巷口\n",
      "YouBike2.0_民生復興路口\n",
      "YouBike2.0_市民延吉街口\n",
      "YouBike2.0_龍城市場\n",
      "YouBike2.0_捷運南京三民站(3號出口)\n",
      "YouBike2.0_塔悠基隆路口(麥帥一橋下)\n",
      "YouBike2.0_五常街370巷\n",
      "YouBike2.0_延壽街119巷口\n",
      "YouBike2.0_市民東寧路口\n",
      "YouBike2.0_民福簡易綠地\n",
      "YouBike2.0_三民國小(撫遠街)\n",
      "YouBike2.0_民生郵局\n",
      "YouBike2.0_南港公園(東新街)\n",
      "YouBike2.0_南港公園(福德街)\n",
      "YouBike2.0_捷運昆陽站(1號出口)\n",
      "YouBike2.0_忠孝東路六段225巷口\n",
      "YouBike2.0_捷運後山埤站(1號出口)\n",
      "YouBike2.0_合樂公園\n",
      "YouBike2.0_合心廣場\n",
      "YouBike2.0_成德國中\n",
      "YouBike2.0_玉成公園\n",
      "YouBike2.0_研究院舊莊街口\n",
      "YouBike2.0_中研院綜合體育館東側\n",
      "YouBike2.0_國家生技園區\n",
      "YouBike2.0_捷運南港展覽館站(5號出口)\n",
      "YouBike2.0_中研公園\n",
      "YouBike2.0_福山公園\n",
      "YouBike2.0_舊莊區民活動中心\n",
      "YouBike2.0_凌雲市場\n",
      "YouBike2.0_市民大道八段532號\n",
      "YouBike2.0_捷運南港軟體園區(2號出口)\n",
      "YouBike2.0_南港國小\n",
      "YouBike2.0_興中立體停車場(興中路)\n",
      "YouBike2.0_臺北市立圖書館南港分館\n",
      "YouBike2.0_東陽公園\n",
      "YouBike2.0_向陽南港路口\n",
      "YouBike2.0_南港車站(忠孝東路七段415巷)\n",
      "YouBike2.0_捷運南港站(2號出口)\n",
      "YouBike2.0_捷運南港站(1號出口)\n",
      "YouBike2.0_東新國小\n",
      "YouBike2.0_中華科技大學\n",
      "YouBike2.0_六福公園\n",
      "YouBike2.0_南港加壓站\n",
      "YouBike2.0_臺北流行音樂中心(南港路)\n",
      "YouBike2.0_興南公園\n",
      "YouBike2.0_臺北流行音樂中心(市民大道)\n",
      "YouBike2.0_南港車站(市民大道)\n",
      "YouBike2.0_忠孝東路七段527巷口\n",
      "YouBike2.0_南港軟體園區(新民街)\n",
      "YouBike2.0_世貿公園\n",
      "YouBike2.0_凌雲五村(研究院路三段8巷)\n",
      "YouBike2.0_新新公園(昆陽街60巷)\n",
      "YouBike2.0_南港高中(昆陽街)\n",
      "YouBike2.0_南港路三段290巷口\n",
      "YouBike2.0_南港路三段220巷口\n",
      "YouBike2.0_南港東新街口\n",
      "YouBike2.0_八德中坡路口\n",
      "YouBike2.0_捷運後山埤站(3號出口)\n",
      "YouBike2.0_玉成公園運動中心\n",
      "YouBike2.0_百福公園\n",
      "YouBike2.0_南湖大橋(經貿二路255巷)\n",
      "YouBike2.0_園區重陽路口\n",
      "YouBike2.0_南港車站B棟(市民大道)\n",
      "YouBike2.0_胡適公園\n",
      "YouBike2.0_南港抽水站\n",
      "YouBike2.0_經貿公園\n",
      "YouBike2.0_育成高中\n",
      "YouBike2.0_捷運南港展覽館站(7號出口)\n",
      "YouBike2.0_力行橋(南港)\n",
      "YouBike2.0_舊莊國小(舊莊街一段)\n",
      "YouBike2.0_向陽公園\n",
      "YouBike2.0_小彎社會住宅\n",
      "YouBike2.0_捷運南港展覽館站(6號出口)\n",
      "YouBike2.0_捷運南港展覽館站(4號出口)\n",
      "YouBike2.0_成德綠地\n",
      "YouBike2.0_南港公園(東新街170巷)\n",
      "YouBike2.0_中坡市民路口(東北側)\n",
      "YouBike2.0_昆陽公園\n",
      "YouBike2.0_南港路二段178巷口\n",
      "YouBike2.0_南港車站(忠孝東路)\n",
      "YouBike2.0_南港車站(興華路)\n",
      "YouBike2.0_玉成公園(成福路178巷口)\n",
      "YouBike2.0_玉東公園(東新街)\n",
      "YouBike2.0_南港出租國宅社區\n",
      "YouBike2.0_成福路197巷口\n",
      "YouBike2.0_南港疏散門(基三號疏散門)\n",
      "YouBike2.0_成德立體停車場\n",
      "YouBike2.0_南港展覽館2館\n",
      "YouBike2.0_舊莊派出所\n",
      "YouBike2.0_南港路三段80巷\n",
      "YouBike2.0_捷運昆陽站(4號出口)\n",
      "YouBike2.0_忠孝東路六段278巷口\n",
      "YouBike2.0_中研院人文社會科學館\n",
      "YouBike2.0_南港路三段130巷口\n",
      "YouBike2.0_南港路三段190巷口\n",
      "YouBike2.0_忠孝東路六段212巷口\n",
      "YouBike2.0_新富公園\n",
      "YouBike2.0_東新街63巷口\n",
      "YouBike2.0_中興公園\n",
      "YouBike2.0_內湖機廠(港東街)\n",
      "YouBike2.0_黎忠區民活動中心\n",
      "YouBike2.0_基隆路二段159巷口\n",
      "YouBike2.0_嘉興街175巷口\n",
      "YouBike2.0_和平東路三段631巷口\n",
      "YouBike2.0_和平東路三段530巷口\n",
      "YouBike2.0_景勤二號公園\n",
      "YouBike2.0_臺北醫學大學\n",
      "YouBike2.0_三興公園\n",
      "YouBike2.0_松德站\n",
      "YouBike2.0_捷運象山站(2號出口)\n",
      "YouBike2.0_象山公園\n",
      "YouBike2.0_松仁路253巷3弄\n",
      "YouBike2.0_興雅國中\n",
      "YouBike2.0_捷運象山站(1號出口)\n",
      "YouBike2.0_松德路200巷\n",
      "YouBike2.0_中全公園\n",
      "YouBike2.0_台北市災害應變中心\n",
      "YouBike2.0_信義運動中心\n",
      "YouBike2.0_捷運台北101/世貿站(3號出口)\n",
      "YouBike2.0_景新公園\n",
      "YouBike2.0_光復信義路口東南側\n",
      "YouBike2.0_三張犁\n",
      "YouBike2.0_仁愛路四段496巷口\n",
      "YouBike2.0_松山工農\n",
      "YouBike2.0_松友公園\n",
      "YouBike2.0_林口公園\n",
      "YouBike2.0_松山家商\n",
      "YouBike2.0_永春陂濕地公園\n",
      "YouBike2.0_臺北市政府\n",
      "YouBike2.0_松智松壽路口\n",
      "YouBike2.0_市府松壽路口\n",
      "YouBike2.0_市府松高路口\n",
      "YouBike2.0_市民廣場\n",
      "YouBike2.0_信義廣場(台北101)\n",
      "YouBike2.0_捷運台北101/世貿站(5號出口)\n",
      "YouBike2.0_春光公園\n",
      "YouBike2.0_松仁路121巷口\n",
      "YouBike2.0_福德國小\n",
      "YouBike2.0_福德公園\n",
      "YouBike2.0_松高路(信義新天地A4館)\n",
      "YouBike2.0_興雅松仁路口\n",
      "YouBike2.0_福祥公園\n",
      "YouBike2.0_吳興公車總站\n",
      "YouBike2.0_泰和公園\n",
      "YouBike2.0_興雅國小(基隆路一段37巷)\n",
      "YouBike2.0_雅祥公園(松信路50巷口)\n",
      "YouBike2.0_松山車站\n",
      "YouBike2.0_五常公園\n",
      "YouBike2.0_永吉松信路口\n",
      "YouBike2.0_三興國小\n",
      "YouBike2.0_市民松信路口\n",
      "YouBike2.0_松山高中\n",
      "YouBike2.0_基隆光復路口\n",
      "YouBike2.0_基隆忠孝路口西南側\n",
      "YouBike2.0_泰和里民活動中心\n",
      "YouBike2.0_捷運後山埤站(2號出口)\n",
      "YouBike2.0_虎林永吉路口\n",
      "YouBike2.0_永吉公園\n",
      "YouBike2.0_永吉路321巷口\n",
      "YouBike2.0_松山永吉路口\n",
      "YouBike2.0_松山路292巷口\n",
      "YouBike2.0_捷運象山站(3號出口)\n",
      "YouBike2.0_松德公園\n",
      "YouBike2.0_世貿三館\n",
      "YouBike2.0_松德虎林街口\n",
      "YouBike2.0_富台公園\n",
      "YouBike2.0_基隆路一段101巷口\n",
      "YouBike2.0_捷運永春站(2號出口)\n",
      "YouBike2.0_吳興街260巷\n",
      "YouBike2.0_松山家商(林口街)\n",
      "YouBike2.0_仁愛逸仙路口\n",
      "YouBike2.0_安強公園\n",
      "YouBike2.0_信義基隆路口\n",
      "YouBike2.0_捷運台北101/世貿站(2號出口)\n",
      "YouBike2.0_吳興街284巷36弄口\n",
      "YouBike2.0_協和祐德高級中學\n",
      "YouBike2.0_福德國小公車站\n",
      "YouBike2.0_松仁路95巷口\n",
      "YouBike2.0_臺北南山廣場_1\n",
      "YouBike2.0_景聯廣場\n",
      "YouBike2.0_景平公園\n",
      "YouBike2.0_捷運市政府站(3號出口)\n",
      "YouBike2.0_五分埔公園\n",
      "YouBike2.0_松仁路305號\n",
      "YouBike2.0_吳興街394巷口\n",
      "YouBike2.0_忠孝東路五段215巷口\n",
      "YouBike2.0_松勤莊敬路口\n",
      "YouBike2.0_松仁松平路口\n",
      "YouBike2.0_信義松德路口\n",
      "YouBike2.0_捷運市政府站(4號出口)\n",
      "YouBike2.0_吳興街284巷(廣安宮)\n",
      "YouBike2.0_景勤二號公園(西南側)\n",
      "YouBike2.0_克勤新村\n",
      "YouBike2.0_和平東路三段291號\n",
      "YouBike2.0_永吉路468巷口\n",
      "YouBike2.0_廣慈博愛園區(西側)\n",
      "YouBike2.0_和平東路三段341巷口\n",
      "YouBike2.0_革新公園\n",
      "YouBike2.0_黎雙公園\n",
      "YouBike2.0_臺北文化體育園區辦公大樓\n",
      "YouBike2.0_捷運國父紀念館站(5號出口)\n",
      "YouBike2.0_光復南菸廠路口\n",
      "YouBike2.0_中坡北永吉路口\n",
      "YouBike2.0_德昌寶興街口(西北角)\n",
      "YouBike2.0_寶興長泰街口(西南角)\n",
      "YouBike2.0_萬大路486巷口\n",
      "YouBike2.0_國興中華路口\n",
      "YouBike2.0_古亭國中\n",
      "YouBike2.0_國興水源路口\n",
      "YouBike2.0_青年公園高爾夫球場\n",
      "YouBike2.0_國興青年路口\n",
      "YouBike2.0_青年公園棒球場\n",
      "YouBike2.0_青年公園籃球場\n",
      "YouBike2.0_復華花園新城\n",
      "YouBike2.0_新和國小\n",
      "YouBike2.0_莒光郵局\n",
      "YouBike2.0_莒光立體停車場\n",
      "YouBike2.0_艋舺大道146巷口\n",
      "YouBike2.0_東園國小\n",
      "YouBike2.0_華中疏散門\n",
      "YouBike2.0_錦德公園\n",
      "YouBike2.0_忠德公園\n",
      "YouBike2.0_華江高中\n",
      "YouBike2.0_西園艋舺路口\n",
      "YouBike2.0_雙園國中\n",
      "YouBike2.0_長順區民活動中心\n",
      "YouBike2.0_華江國小\n",
      "YouBike2.0_華江八號公園\n",
      "YouBike2.0_環河南雙園街口\n",
      "YouBike2.0_大理高中\n",
      "YouBike2.0_糖廍文化園區\n",
      "YouBike2.0_兩棵樹公園\n",
      "YouBike2.0_萬華青年公宅\n",
      "YouBike2.0_開封西寧路口\n",
      "YouBike2.0_峨眉停車場\n",
      "YouBike2.0_長沙公園\n",
      "YouBike2.0_貓公園(中興橋頭)\n",
      "YouBike2.0_西本願寺廣場\n",
      "YouBike2.0_中華桂林路口\n",
      "YouBike2.0_捷運龍山寺站(1號出口)\n",
      "YouBike2.0_龍山國小\n",
      "YouBike2.0_華西公園\n",
      "YouBike2.0_老松國小\n",
      "YouBike2.0_萬華火車站\n",
      "YouBike2.0_萬華火車站(D2廣場)\n",
      "YouBike2.0_捷運龍山寺站(3號出口)\n",
      "YouBike2.0_臺北市電影主題公園(峨眉街)\n",
      "YouBike2.0_臺北市電影主題公園(康定路)\n",
      "YouBike2.0_中華峨眉街口\n",
      "YouBike2.0_萬華266號綠地\n",
      "YouBike2.0_萬大國小(萬大路344巷口)\n",
      "YouBike2.0_德昌街10巷口\n",
      "YouBike2.0_環河南和平西路口\n",
      "YouBike2.0_長順街60巷口\n",
      "YouBike2.0_西園公園\n",
      "YouBike2.0_華江污水廠\n",
      "YouBike2.0_柳鄉公園\n",
      "YouBike2.0_綠堤社區公園\n",
      "YouBike2.0_長順艋舺大道口\n",
      "YouBike2.0_富民路145巷口\n",
      "YouBike2.0_環南綜合市場\n",
      "YouBike2.0_龍山國中\n",
      "YouBike2.0_洛陽停車場\n",
      "YouBike2.0_桂林昆明街口\n",
      "YouBike2.0_萬華國中_1\n",
      "YouBike2.0_青年公園3號出口\n",
      "YouBike2.0_捷運龍山寺站(1號出口)_1\n",
      "YouBike2.0_莒光社會住宅\n",
      "YouBike2.0_艋舺西藏路口\n",
      "YouBike2.0_萬大路493巷\n",
      "YouBike2.0_雙園國中地下停車場\n",
      "YouBike2.0_青年路152巷口\n",
      "YouBike2.0_和平西路二段190巷口\n",
      "YouBike2.0_萬大路424巷口\n",
      "YouBike2.0_臺大水源舍區A棟\n",
      "YouBike2.0_臺大卓越研究大樓\n",
      "YouBike2.0_臺大水源修齊會館\n",
      "YouBike2.0_臺大檔案展示館\n",
      "YouBike2.0_臺大水源舍區B棟\n",
      "YouBike2.0_臺大男八舍東側\n",
      "YouBike2.0_臺大禮賢樓東南側\n",
      "YouBike2.0_臺大農業陳列館北側\n",
      "YouBike2.0_臺大管理學院二館北側\n",
      "YouBike2.0_臺大土木系館\n",
      "YouBike2.0_臺大大一女舍北側\n",
      "YouBike2.0_臺大女九舍西南側\n",
      "YouBike2.0_臺大小福樓東側\n",
      "YouBike2.0_臺大立體機車停車場\n",
      "YouBike2.0_臺大工綜館南側\n",
      "YouBike2.0_臺大天文數學館南側\n",
      "YouBike2.0_臺大心理系館南側\n",
      "YouBike2.0_臺大樂學館東側\n",
      "YouBike2.0_臺大農化新館西側\n",
      "YouBike2.0_臺大五號館西側\n",
      "YouBike2.0_臺大舊體育館西側\n",
      "YouBike2.0_臺大共同教室北側\n",
      "YouBike2.0_臺大共同教室東南側\n",
      "YouBike2.0_臺大鹿鳴堂東側\n",
      "YouBike2.0_臺大公館停車場西北側\n",
      "YouBike2.0_臺大第二行政大樓南側\n",
      "YouBike2.0_臺大明達館機車停車場\n",
      "YouBike2.0_臺大二號館\n",
      "YouBike2.0_臺大凝態館南側\n",
      "YouBike2.0_臺大社科院西側\n",
      "YouBike2.0_臺大社會系館南側\n",
      "YouBike2.0_臺大思亮館東南側\n",
      "YouBike2.0_臺大椰林小舖\n",
      "YouBike2.0_臺大計資中心南側\n",
      "YouBike2.0_臺大原分所北側\n",
      "YouBike2.0_臺大生命科學館西北側\n",
      "YouBike2.0_臺大第一活動中心西南側\n",
      "YouBike2.0_臺大博理館西側\n",
      "YouBike2.0_臺大博雅館西側\n",
      "YouBike2.0_臺大森林館北側\n",
      "YouBike2.0_臺大一號館\n",
      "YouBike2.0_臺大小小福西南側\n",
      "YouBike2.0_臺大教研館北側\n",
      "YouBike2.0_臺大四號館東北側\n",
      "YouBike2.0_臺大新生教室南側\n",
      "YouBike2.0_臺大鄭江樓北側\n",
      "YouBike2.0_臺大電機二館東南側\n",
      "YouBike2.0_臺大圖資系館北側\n",
      "YouBike2.0_臺大總圖書館西南側\n",
      "YouBike2.0_臺大黑森林西側\n",
      "YouBike2.0_臺大獸醫館南側\n",
      "YouBike2.0_臺大新體育館東南側\n",
      "YouBike2.0_臺大明達館北側(員工宿舍)\n"
     ]
    }
   ],
   "source": [
    "for i in data:\n",
    "    print(i['sna'])"
   ]
  },
  {
   "cell_type": "code",
   "execution_count": 80,
   "id": "37c522c9-5a45-4b3e-a1e3-fb7247930a7b",
   "metadata": {
    "collapsed": true,
    "jupyter": {
     "outputs_hidden": true
    },
    "tags": []
   },
   "outputs": [
    {
     "name": "stdout",
     "output_type": "stream",
     "text": [
      "YouBike2.0_捷運科技大樓站 ==> 25.02605 121.5436\n",
      "YouBike2.0_復興南路二段273號前 ==> 25.02565 121.54357\n",
      "YouBike2.0_國北教大實小東側門 ==> 25.02429 121.54124\n",
      "YouBike2.0_和平公園東側 ==> 25.02351 121.54282\n",
      "YouBike2.0_辛亥復興路口西北側 ==> 25.02153 121.54299\n",
      "YouBike2.0_復興南路二段280號前 ==> 25.02429 121.54328\n",
      "YouBike2.0_復興南路二段340巷口 ==> 25.02253 121.54326\n",
      "YouBike2.0_新生南路三段52號前 ==> 25.02112 121.53407\n",
      "YouBike2.0_新生南路三段66號前 ==> 25.01976 121.53384\n",
      "YouBike2.0_新生南路三段82號前 ==> 25.01894 121.53361\n",
      "YouBike2.0_辛亥路一段30號前 ==> 25.01986 121.52982\n",
      "YouBike2.0_和平復興路口西北側 ==> 25.02543 121.54332\n",
      "YouBike2.0_羅斯福路三段311號前 ==> 25.01717 121.53202\n",
      "YouBike2.0_大安運動中心停車場 ==> 25.020348 121.546446\n",
      "YouBike2.0_羅斯福路三段245號前 ==> 25.01927 121.52989\n",
      "YouBike2.0_溫州公園 ==> 25.01895 121.53156\n",
      "YouBike2.0_和平臥龍街口 ==> 25.024461 121.546705\n",
      "YouBike2.0_溫州停車場 ==> 25.02093 121.5331\n",
      "YouBike2.0_銘傳國小側門 ==> 25.01385 121.53549\n",
      "YouBike2.0_捷運公館站(2號出口) ==> 25.01491 121.53438\n",
      "YouBike2.0_第二學生活動中心 ==> 25.01244 121.53661\n",
      "YouBike2.0_臺灣科技大學正門 ==> 25.01451 121.54142\n",
      "YouBike2.0_臺灣科技大學側門 ==> 25.01295 121.53973\n",
      "YouBike2.0_公館公園 ==> 25.01137 121.54062\n",
      "YouBike2.0_臺灣科技大學後門 ==> 25.01182 121.54165\n",
      "YouBike2.0_臺大醫學院附設癌醫中心 ==> 25.01426 121.54382\n",
      "YouBike2.0_臺大環研大樓 ==> 25.01234 121.54503\n",
      "YouBike2.0_臺大永齡生醫工程館 ==> 25.0136 121.54656\n",
      "YouBike2.0_臺大男七舍前 ==> 25.01537 121.54698\n",
      "YouBike2.0_臺大男一舍前 ==> 25.01637 121.54535\n",
      "YouBike2.0_臺大男六舍前 ==> 25.01664 121.5452\n",
      "YouBike2.0_臺大動物醫院前 ==> 25.01576 121.54291\n",
      "YouBike2.0_臺大土木研究大樓前 ==> 25.01787 121.5476\n",
      "YouBike2.0_臺大萬才館前 ==> 25.02032 121.54497\n",
      "YouBike2.0_臺大國青大樓宿舍前 ==> 25.02076 121.54432\n",
      "YouBike2.0_臺大社科院圖書館前 ==> 25.02101 121.54284\n",
      "YouBike2.0_臺大法人語言訓練中心前 ==> 25.02104 121.54081\n",
      "YouBike2.0_臺大綜合體育館停車場前 ==> 25.0222 121.53626\n",
      "YouBike2.0_辛亥新生路口東南側 ==> 25.02218 121.53474\n",
      "YouBike2.0_基隆長興路口東側 ==> 25.01727 121.54471\n",
      "YouBike2.0_國北教大側門南側 ==> 25.022864 121.546622\n",
      "YouBike2.0_和平實小東北側 ==> 25.021641 121.54704\n",
      "YouBike2.0_大安區健康服務中心 ==> 25.021469 121.544069\n",
      "YouBike2.0_辛亥泰順街口 ==> 25.02193 121.53165\n",
      "YouBike2.0_芳和國中 ==> 25.0189 121.55013\n",
      "YouBike2.0_臥龍樂業街口 ==> 25.01856 121.55558\n",
      "YouBike2.0_臥龍公園 ==> 25.01623 121.55037\n",
      "YouBike2.0_嘉興公園 ==> 25.021 121.55211\n",
      "YouBike2.0_捷運麟光站(2號出口) ==> 25.0181 121.55929\n",
      "YouBike2.0_捷運六張犁站 ==> 25.02397 121.55266\n",
      "YouBike2.0_喬治工商 ==> 25.02705 121.55551\n",
      "YouBike2.0_法治公園 ==> 25.02694 121.55325\n",
      "YouBike2.0_捷運臺電大樓站(2號出口) ==> 25.02021 121.52942\n",
      "YouBike2.0_和平金山路口 ==> 25.02669 121.52529\n",
      "YouBike2.0_和平龍泉街口 ==> 25.02638 121.52971\n",
      "YouBike2.0_和平泰順街口 ==> 25.02621 121.53171\n",
      "YouBike2.0_臺灣師範大學(圖書館) ==> 25.0266 121.52973\n",
      "YouBike2.0_捷運古亭站(6號出口) ==> 25.0276 121.52217\n",
      "YouBike2.0_捷運古亭站(5號出口) ==> 25.02715 121.52293\n",
      "YouBike2.0_臺北市立圖書館(總館) ==> 25.02895 121.5379\n",
      "YouBike2.0_新生和平路口東北側 ==> 25.02657 121.53515\n",
      "YouBike2.0_建國和平路口西北側 ==> 25.02606 121.53738\n",
      "YouBike2.0_金華公園 ==> 25.02984 121.53107\n",
      "YouBike2.0_捷運東門站(3號出口) ==> 25.03383 121.52815\n",
      "YouBike2.0_金甌女中 ==> 25.03519 121.5245\n",
      "YouBike2.0_金杭公園 ==> 25.03325 121.52436\n",
      "YouBike2.0_愛國金山路口 ==> 25.03164 121.52661\n",
      "YouBike2.0_敦化南路二段293巷口南側 ==> 25.0237 121.54899\n",
      "YouBike2.0_敦化基隆路口 ==> 25.02215 121.54839\n",
      "YouBike2.0_安和路二段181巷口 ==> 25.02721 121.54988\n",
      "YouBike2.0_臨江街夜市(通化街101巷口) ==> 25.02952 121.55406\n",
      "YouBike2.0_臨江街夜市(基隆路) ==> 25.02931 121.55721\n",
      "YouBike2.0_台北科技大學億光大樓 ==> 25.04177 121.53833\n",
      "YouBike2.0_新生南路一段119巷口 ==> 25.04003 121.53299\n",
      "YouBike2.0_幸安國小(仁愛路) ==> 25.03753 121.53523\n",
      "YouBike2.0_民榮公園 ==> 25.03534 121.5354\n",
      "YouBike2.0_復興南路1段340巷口 ==> 25.03701 121.54348\n",
      "YouBike2.0_建國濟南路口 ==> 25.03935 121.53828\n",
      "YouBike2.0_捷運忠孝復興站(2號出口) ==> 25.04035 121.5436\n",
      "YouBike2.0_捷運大安站(4號出口) ==> 25.0332 121.5439\n",
      "YouBike2.0_捷運大安站(2號出口) ==> 25.03358 121.54141\n",
      "YouBike2.0_信義大安路口(信維大樓) ==> 25.03317 121.54639\n",
      "YouBike2.0_龍門廣場 ==> 25.04092 121.54825\n",
      "YouBike2.0_仁愛安和路口 ==> 25.03754 121.55285\n",
      "YouBike2.0_信義敦化路口 ==> 25.03333 121.54977\n",
      "YouBike2.0_仁愛國中 ==> 25.03706 121.55166\n",
      "YouBike2.0_捷運信義安和站(2號出口) ==> 25.03304 121.55171\n",
      "YouBike2.0_八德市場 ==> 25.04463 121.53665\n",
      "YouBike2.0_昌隆公園 ==> 25.04448 121.53946\n",
      "YouBike2.0_捷運大安森林公園站(2號出口) ==> 25.03332 121.53435\n",
      "YouBike2.0_信義延吉街口 ==> 25.03318 121.55725\n",
      "YouBike2.0_光信公園(光復南路456巷) ==> 25.03513 121.5561\n",
      "YouBike2.0_僑安地下停車場(2號出口)東南側 ==> 25.0391 121.5569\n",
      "YouBike2.0_建國南路一段279巷口 ==> 25.03635 121.53833\n",
      "YouBike2.0_捷運忠孝新生站(6號出口) ==> 25.04091 121.53295\n",
      "YouBike2.0_捷運忠孝新生站(4號出口) ==> 25.04239 121.53324\n",
      "YouBike2.0_大安高工 ==> 25.03126 121.54339\n",
      "YouBike2.0_捷運忠孝新生站(3號出口) ==> 25.04189 121.53376\n",
      "YouBike2.0_瑠公公園 ==> 25.04201 121.54612\n",
      "YouBike2.0_敦化市民路口 ==> 25.04405 121.5486\n",
      "YouBike2.0_捷運大安森林公園站(5號出口) ==> 25.03336 121.5364\n",
      "YouBike2.0_信義建國路口 ==> 25.0328 121.53746\n",
      "YouBike2.0_東豐公園 ==> 25.03569 121.5451\n",
      "YouBike2.0_德安公園(四維路66巷) ==> 25.03473 121.54767\n",
      "YouBike2.0_捷運忠孝復興站(5號出口) ==> 25.04262 121.54443\n",
      "YouBike2.0_捷運忠孝敦化站(2號出口) ==> 25.04153 121.5524\n",
      "YouBike2.0_捷運忠孝敦化站(7號出口) ==> 25.04159 121.54937\n",
      "YouBike2.0_瑞安街208巷 ==> 25.02979 121.54053\n",
      "YouBike2.0_樂利路21巷口 ==> 25.0277 121.55132\n",
      "YouBike2.0_捷運科技大樓站(台北教育大學) ==> 25.02469 121.54459\n",
      "YouBike2.0_捷運國父紀念館站(2號出口) ==> 25.04122 121.55745\n",
      "YouBike2.0_仁愛醫院 ==> 25.03756 121.54587\n",
      "YouBike2.0_捷運信義安和站(4號出口) ==> 25.03305 121.55378\n",
      "YouBike2.0_成功國宅 ==> 25.02681 121.54668\n",
      "YouBike2.0_仁愛延吉街口 ==> 25.03748 121.55564\n",
      "YouBike2.0_捷運信義安和站(1號出口) ==> 25.03331 121.55265\n",
      "YouBike2.0_敦化南路二段103巷口 ==> 25.0287 121.54904\n",
      "YouBike2.0_復興南路二段128巷口 ==> 25.02861 121.54336\n",
      "YouBike2.0_和平東建國南路口 ==> 25.02575 121.5377\n",
      "YouBike2.0_芳蘭山莊 ==> 25.01223 121.54788\n",
      "YouBike2.0_復興南路一段126巷口 ==> 25.04311 121.54313\n",
      "YouBike2.0_捷運東門站(5號出口) ==> 25.03363 121.52962\n",
      "YouBike2.0_仁愛路四段48巷口 ==> 25.03609 121.54709\n",
      "YouBike2.0_捷運公館站(3號出口) ==> 25.01551 121.53374\n",
      "YouBike2.0_臺北科技大學(電機工程系) ==> 25.04196 121.53653\n",
      "YouBike2.0_忠孝東路三段217巷口 ==> 25.04176 121.54027\n",
      "YouBike2.0_新生南路三段94巷口 ==> 25.01744 121.53334\n",
      "YouBike2.0_辛亥新生路口西北側 ==> 25.02267 121.5341\n",
      "YouBike2.0_捷運大安站(6號出口) ==> 25.03479 121.54376\n",
      "YouBike2.0_臥龍街195巷口 ==> 25.01783 121.55224\n",
      "YouBike2.0_辛亥路三段157巷口 ==> 25.01727 121.54904\n",
      "YouBike2.0_臥龍基隆路口 ==> 25.02039 121.54853\n",
      "YouBike2.0_敦親公園 ==> 25.02347 121.54108\n",
      "YouBike2.0_大安運動中心 ==> 25.02054 121.54561\n",
      "YouBike2.0_和平敦化路口 ==> 25.02444 121.54908\n",
      "YouBike2.0_基隆長興路口 ==> 25.01705 121.54435\n",
      "YouBike2.0_仁愛路四段122巷口 ==> 25.03762 121.55009\n",
      "YouBike2.0_市民敦化路口 ==> 25.04464 121.54944\n",
      "YouBike2.0_忠孝東路四段49巷口 ==> 25.04172 121.54541\n",
      "YouBike2.0_市民復興路口(東南側) ==> 25.04472 121.54401\n",
      "YouBike2.0_和平新生路口西南側 ==> 25.02598 121.53454\n",
      "YouBike2.0_全安公園 ==> 25.02535 121.55101\n",
      "YouBike2.0_信義路三段134巷口 ==> 25.03333 121.53968\n",
      "YouBike2.0_仁愛敦南圓環(東南側) ==> 25.03715 121.54936\n",
      "YouBike2.0_臺北遠企購物中心 ==> 25.02709 121.54902\n",
      "YouBike2.0_外交部外交及國際事務學院 ==> 25.0371 121.54839\n",
      "YouBike2.0_四維路170巷口 ==> 25.02821 121.54864\n",
      "YouBike2.0_捷運大安站(3號出口) ==> 25.03328 121.5425\n",
      "YouBike2.0_捷運臺電大樓站(2號出口)_1 ==> 25.02055 121.52855\n",
      "YouBike2.0_信義路四段199巷 ==> 25.03459 121.55164\n",
      "YouBike2.0_臺大資訊大樓 ==> 25.02101 121.54153\n",
      "YouBike2.0_敦化南路二段81巷 ==> 25.03002 121.54893\n",
      "YouBike2.0_原臺北刑務所官舍 ==> 25.03054 121.52466\n",
      "YouBike2.0_捷運國父紀念館站(1號出口) ==> 25.04205 121.55657\n",
      "YouBike2.0_懷生國中 ==> 25.0401 121.54122\n",
      "YouBike2.0_仁愛敦南圓環(西北側) ==> 25.03827 121.54802\n",
      "YouBike2.0_立人國小 ==> 25.02974 121.55146\n",
      "YouBike2.0_和平東路二段18巷口 ==> 25.02268 121.53608\n",
      "YouBike2.0_捷運大安站(5號出口) ==> 25.03303 121.54372\n",
      "YouBike2.0_臨江公園 ==> 25.02832 121.55592\n",
      "YouBike2.0_羅斯福路四段113巷19弄口 ==> 25.01027 121.53998\n",
      "YouBike2.0_忠孝東路四段248巷口 ==> 25.04132 121.55393\n",
      "YouBike2.0_仁愛延吉路口(西北側) ==> 25.03795 121.55466\n",
      "YouBike2.0_樂利路101巷口 ==> 25.02528 121.55224\n",
      "YouBike2.0_羅斯福浦城街口 ==> 25.02208 121.52678\n",
      "YouBike2.0_敦化南路一段295巷口 ==> 25.03551 121.54951\n",
      "YouBike2.0_通安區民活動中心 ==> 25.02942 121.55294\n",
      "YouBike2.0_復興忠孝東路口(東南側) ==> 25.04061 121.54389\n",
      "YouBike2.0_仁愛大安路口(東北側) ==> 25.03813 121.54631\n",
      "YouBike2.0_臺灣師範大學(浦城街) ==> 25.02476 121.52803\n",
      "YouBike2.0_安和路二段69巷口 ==> 25.03056 121.55252\n",
      "YouBike2.0_大安國小 ==> 25.02014 121.55084\n",
      "YouBike2.0_延平國宅 ==> 25.07894 121.51121\n",
      "YouBike2.0_臺北市立圖書館大同分館 ==> 25.0741 121.51349\n",
      "YouBike2.0_合昌宮 ==> 25.07717 121.50934\n",
      "YouBike2.0_民族延平路口 ==> 25.06864 121.5107\n",
      "YouBike2.0_重慶酒泉街口 ==> 25.07158 121.51368\n",
      "YouBike2.0_樹德公園 ==> 25.06647 121.5165\n",
      "YouBike2.0_陳天來故居 ==> 25.05601 121.50895\n",
      "YouBike2.0_臺北孔廟 ==> 25.07378 121.51583\n",
      "YouBike2.0_捷運圓山站(1號出口) ==> 25.07133 121.52024\n",
      "YouBike2.0_酒泉延平路口 ==> 25.0722 121.51057\n",
      "YouBike2.0_重慶國中 ==> 25.07567 121.51862\n",
      "YouBike2.0_重慶北路三段383巷口 ==> 25.07598 121.51409\n",
      "YouBike2.0_台北數位產業園區 ==> 25.07447 121.52003\n",
      "YouBike2.0_民權延平路口(西北側) ==> 25.06326 121.51099\n",
      "YouBike2.0_民權迪化街口 ==> 25.06327 121.50943\n",
      "YouBike2.0_大稻埕公園 ==> 25.05915 121.51033\n",
      "YouBike2.0_大龍老人住宅 ==> 25.06853 121.51729\n",
      "YouBike2.0_大龍峒社會住宅 ==> 25.0708 121.51826\n",
      "YouBike2.0_捷運大橋頭站(2號出口) ==> 25.06314 121.51308\n",
      "YouBike2.0_捷運大橋頭站(1A出口) ==> 25.06325 121.51162\n",
      "YouBike2.0_捷運民權西路站(2號出口) ==> 25.06174 121.51969\n",
      "YouBike2.0_捷運雙連站(2號出口) ==> 25.05826 121.52063\n",
      "YouBike2.0_捷運北門站(3號出口) ==> 25.04991 121.5104\n",
      "YouBike2.0_朝陽公園 ==> 25.05592 121.51367\n",
      "YouBike2.0_永樂市場 ==> 25.05454 121.51052\n",
      "YouBike2.0_大龍公園 ==> 25.07049 121.51596\n",
      "YouBike2.0_重慶涼州街口 ==> 25.06054 121.51338\n",
      "YouBike2.0_圓山線形公園 ==> 25.06867 121.51993\n",
      "YouBike2.0_圓環站 ==> 25.05369 121.51418\n",
      "YouBike2.0_重慶民族路口 ==> 25.06853 121.51359\n",
      "YouBike2.0_承德路三段8巷口 ==> 25.06407 121.51822\n",
      "YouBike2.0_太原廣場 ==> 25.04925 121.51468\n",
      "YouBike2.0_國順公園 ==> 25.06594 121.51078\n",
      "YouBike2.0_聯合醫院中興院區 ==> 25.05205 121.50818\n",
      "YouBike2.0_蔣渭水紀念公園 ==> 25.06011 121.51729\n",
      "YouBike2.0_迪化休閒運動公園 ==> 25.07491 121.5115\n",
      "YouBike2.0_大同運動中心 ==> 25.06496 121.51608\n",
      "YouBike2.0_重慶保安街口(家樂福重慶店) ==> 25.05918 121.51373\n",
      "YouBike2.0_大稻埕碼頭 ==> 25.05662 121.50783\n",
      "YouBike2.0_歸綏戲曲公園 ==> 25.05805 121.51353\n",
      "YouBike2.0_民權國中(民權西路) ==> 25.06322 121.5144\n",
      "YouBike2.0_承德民權路口 ==> 25.06247 121.51839\n",
      "YouBike2.0_南京太原路口 ==> 25.05366 121.51638\n",
      "YouBike2.0_承德民生西路口 ==> 25.05756 121.51828\n",
      "YouBike2.0_太原五原路口 ==> 25.05646 121.51698\n",
      "YouBike2.0_臺北轉運站(華陰街) ==> 25.04937 121.51914\n",
      "YouBike2.0_捷運民權西路站(3號出口) ==> 25.06129 121.52021\n",
      "YouBike2.0_捷運中山站(5號出口) ==> 25.05296 121.51938\n",
      "YouBike2.0_重慶長安路口 ==> 25.0515 121.51398\n",
      "YouBike2.0_承德昌吉街口 ==> 25.06587 121.51847\n",
      "YouBike2.0_大同16號廣場 ==> 25.05658 121.50826\n",
      "YouBike2.0_捷運圓山站(2號出口) ==> 25.07182 121.51929\n",
      "YouBike2.0_樹德公園_1 ==> 25.06669 121.51615\n",
      "YouBike2.0_承德鄭州路口(市民高架下) ==> 25.04879 121.51626\n",
      "YouBike2.0_成淵高中 ==> 25.06036 121.51996\n",
      "YouBike2.0_雙蓮國小 ==> 25.06157 121.51683\n",
      "YouBike2.0_寧夏涼州街口 ==> 25.06095 121.51428\n",
      "YouBike2.0_延平涼州街口 ==> 25.06092 121.51126\n",
      "YouBike2.0_大同行政中心 ==> 25.06603 121.51481\n",
      "YouBike2.0_大龍市場 ==> 25.07473 121.51451\n",
      "YouBike2.0_劍潭抽水站 ==> 25.08128 121.51784\n",
      "YouBike2.0_通河東街大南路口 ==> 25.08914 121.51542\n",
      "YouBike2.0_福港街停車場 ==> 25.08695 121.51901\n",
      "YouBike2.0_百齡國小 ==> 25.08521 121.51918\n",
      "YouBike2.0_雨聲街165巷口 ==> 25.10277 121.53357\n",
      "YouBike2.0_天和公園 ==> 25.12001 121.53342\n",
      "YouBike2.0_中山天母路口 ==> 25.11856 121.52964\n",
      "YouBike2.0_天母運動公園 ==> 25.11633 121.53414\n",
      "YouBike2.0_臺北市立大學(天母校區) ==> 25.11356 121.53718\n",
      "YouBike2.0_忠誠路二段53巷 ==> 25.11127 121.53244\n",
      "YouBike2.0_天母棒球場 ==> 25.11341 121.53195\n",
      "YouBike2.0_天母北天玉街口 ==> 25.12011 121.52652\n",
      "YouBike2.0_蘭興公園 ==> 25.11184 121.52589\n",
      "YouBike2.0_明勝公園 ==> 25.08009 121.51895\n",
      "YouBike2.0_劍潭海外青年活動中心 ==> 25.07994 121.52426\n",
      "YouBike2.0_忠誠路一段173巷口 ==> 25.10813 121.5304\n",
      "YouBike2.0_雨農國小 ==> 25.1054 121.5295\n",
      "YouBike2.0_忠誠公園 ==> 25.10399 121.52593\n",
      "YouBike2.0_芝山抽水站 ==> 25.10155 121.52832\n",
      "YouBike2.0_至誠路一段305巷口 ==> 25.10186 121.53083\n",
      "YouBike2.0_華齡公園 ==> 25.08302 121.52069\n",
      "YouBike2.0_前港公園(福德宮) ==> 25.08671 121.52096\n",
      "YouBike2.0_華齡街185巷口 ==> 25.08828 121.51985\n",
      "YouBike2.0_前港公園(前港街) ==> 25.0848 121.52125\n",
      "YouBike2.0_百齡高中 ==> 25.08736 121.52272\n",
      "YouBike2.0_捷運芝山站(2號出口) ==> 25.10364 121.52219\n",
      "YouBike2.0_臺灣戲曲中心 ==> 25.10208 121.51979\n",
      "YouBike2.0_捷運劍潭站(2號出口) ==> 25.08388 121.52535\n",
      "YouBike2.0_劍潭基河路口 ==> 25.08403 121.5249\n",
      "YouBike2.0_志成公園 ==> 25.09667 121.53206\n",
      "YouBike2.0_福林國小 ==> 25.09896 121.53025\n",
      "YouBike2.0_中山中正路口 ==> 25.09651 121.52753\n",
      "YouBike2.0_士林運動中心 ==> 25.08911 121.52154\n",
      "YouBike2.0_陽明高中 ==> 25.09164 121.51706\n",
      "YouBike2.0_兒童新樂園 ==> 25.09631 121.51449\n",
      "YouBike2.0_臺北市立天文館 ==> 25.09598 121.51776\n",
      "YouBike2.0_華聲公園 ==> 25.09619 121.5223\n",
      "YouBike2.0_福林公園 ==> 25.09419 121.52833\n",
      "YouBike2.0_捷運士林站(2號出口) ==> 25.09343 121.52642\n",
      "YouBike2.0_銘傳大學 ==> 25.08771 121.52677\n",
      "YouBike2.0_士林高商 ==> 25.09435 121.51702\n",
      "YouBike2.0_蘭雅公園 ==> 25.10991 121.53039\n",
      "YouBike2.0_聯合醫院陽明院區 ==> 25.10455 121.53195\n",
      "YouBike2.0_捷運芝山站(1號出口) ==> 25.10225 121.52286\n",
      "YouBike2.0_至誠公園 ==> 25.10143 121.53585\n",
      "YouBike2.0_原住民文化主題公園 ==> 25.10113 121.55159\n",
      "YouBike2.0_通河東街2段10巷口 ==> 25.09106 121.51502\n",
      "YouBike2.0_梅林新村 ==> 25.09755 121.54036\n",
      "YouBike2.0_延平北中正路口 ==> 25.08678 121.50948\n",
      "YouBike2.0_重慶北路四段190巷口 ==> 25.08505 121.51166\n",
      "YouBike2.0_重慶北葫東街口 ==> 25.08393 121.51169\n",
      "YouBike2.0_葫蘆國小 ==> 25.08254 121.5075\n",
      "YouBike2.0_士林3號廣場 ==> 25.10459 121.52417\n",
      "YouBike2.0_社正公園 ==> 25.08824 121.51054\n",
      "YouBike2.0_社子國小 ==> 25.09058 121.50142\n",
      "YouBike2.0_社中街384巷口 ==> 25.09346 121.50376\n",
      "YouBike2.0_忠誠路一段138號 ==> 25.10641 121.52944\n",
      "YouBike2.0_社子公園 ==> 25.0902 121.50622\n",
      "YouBike2.0_國立故宮博物院 ==> 25.09833 121.54788\n",
      "YouBike2.0_泰北高中 ==> 25.09763 121.53402\n",
      "YouBike2.0_後港公園 ==> 25.09312 121.51419\n",
      "YouBike2.0_重慶北路四段117號 ==> 25.08279 121.51219\n",
      "YouBike2.0_社子島島頭公園 ==> 25.10893 121.46639\n",
      "YouBike2.0_延平北路八段133巷口 ==> 25.10304 121.48297\n",
      "YouBike2.0_坤天亭 ==> 25.1064 121.4836\n",
      "YouBike2.0_社子島濕地解說小築 ==> 25.11314 121.48974\n",
      "YouBike2.0_福安國中 ==> 25.10261 121.48819\n",
      "YouBike2.0_福安消防分隊 ==> 25.09669 121.49706\n",
      "YouBike2.0_聖山綠地 ==> 25.10696 121.53234\n",
      "YouBike2.0_芝山國小 ==> 25.11044 121.53595\n",
      "YouBike2.0_士林新天地 ==> 25.08899 121.51751\n",
      "YouBike2.0_蘭雅國小 ==> 25.10775 121.52312\n",
      "YouBike2.0_中正基河路口 ==> 25.0933 121.51962\n",
      "YouBike2.0_福林公園(中正路) ==> 25.09609 121.53006\n",
      "YouBike2.0_至善臨溪路口 ==> 25.09709 121.54229\n",
      "YouBike2.0_市立圖書館葫蘆堵分館 ==> 25.08217 121.51074\n",
      "YouBike2.0_東山路110巷口 ==> 25.11306 121.53945\n",
      "YouBike2.0_永平社會住宅 ==> 25.08887 121.50314\n",
      "YouBike2.0_雨農橋 ==> 25.10012 121.53253\n",
      "YouBike2.0_通河街76巷/承德路四段10巷口 ==> 25.08019 121.5202\n",
      "YouBike2.0_芝山聖佑宮 ==> 25.10455 121.53025\n",
      "YouBike2.0_至誠雨聲街口 ==> 25.10199 121.52927\n",
      "YouBike2.0_捷運線型公園(後街) ==> 25.09812 121.52449\n",
      "YouBike2.0_天母公園 ==> 25.12408 121.53003\n",
      "YouBike2.0_基河文林路口 ==> 25.08637 121.5247\n",
      "YouBike2.0_文林福華路口 ==> 25.10094 121.52243\n",
      "YouBike2.0_劍潭海外青年活動中心_1 ==> 25.0796 121.5237\n",
      "YouBike2.0_社子國小_1 ==> 25.09029 121.50189\n",
      "YouBike2.0_捷運劍潭站(1號出口) ==> 25.08577 121.52531\n",
      "YouBike2.0_德行東山路口 ==> 25.1107 121.53999\n",
      "YouBike2.0_重慶北通河西街口 ==> 25.08756 121.51177\n",
      "YouBike2.0_葫蘆國小(延平北路五段285巷) ==> 25.08406 121.5067\n",
      "YouBike2.0_社子市場 ==> 25.0881 121.50873\n",
      "YouBike2.0_士林區農會社子分部 ==> 25.08912 121.5049\n",
      "YouBike2.0_承德劍潭路口 ==> 25.0841 121.52341\n",
      "YouBike2.0_文林路101巷口 ==> 25.08761 121.52608\n",
      "YouBike2.0_延平北路五段257巷15弄口 ==> 25.08408 121.50959\n",
      "YouBike2.0_延平北路五段257巷4弄口 ==> 25.08471 121.5089\n",
      "YouBike2.0_啟明學校 ==> 25.11742 121.53472\n",
      "YouBike2.0_中山福國路口 ==> 25.10203 121.52561\n",
      "YouBike2.0_德行公園 ==> 25.10585 121.52376\n",
      "YouBike2.0_承德後港街口 ==> 25.08238 121.52309\n",
      "YouBike2.0_中山北路五段698巷口 ==> 25.09765 121.52757\n",
      "YouBike2.0_捷運士林站(1號出口) ==> 25.09561 121.52552\n",
      "YouBike2.0_捷運芝山站(2號出口)_1 ==> 25.10336 121.52263\n",
      "YouBike2.0_銘傳大學(中山北路五段280巷口) ==> 25.08762 121.52711\n",
      "YouBike2.0_海光公園南側 ==> 25.08036 121.5084\n",
      "YouBike2.0_士商路40巷口 ==> 25.09013 121.52054\n",
      "YouBike2.0_劍潭郵局 ==> 25.08182 121.52431\n",
      "YouBike2.0_士東路91巷口 ==> 25.11247 121.52914\n",
      "YouBike2.0_美崙公園 ==> 25.09677 121.51931\n",
      "YouBike2.0_臺北市立大學(忠誠路二段207巷) ==> 25.11642 121.53743\n",
      "YouBike2.0_天母東路8巷/忠誠路二段154巷口 ==> 25.11579 121.53113\n",
      "YouBike2.0_美崙公園(東北側) ==> 25.09886 121.51835\n",
      "YouBike2.0_福安河濱公園 ==> 25.09646 121.49358\n",
      "YouBike2.0_忠誠忠義街口(北側) ==> 25.10566 121.52922\n",
      "YouBike2.0_忠誠忠義街口(南側) ==> 25.10519 121.52869\n",
      "YouBike2.0_士林國小 ==> 25.09204 121.52472\n",
      "YouBike2.0_台北花木批發市場 ==> 25.00402 121.54074\n",
      "YouBike2.0_捷運萬隆站(4號出口) ==> 25.0027 121.53861\n",
      "YouBike2.0_捷運萬隆站(1號出口) ==> 25.00115 121.53916\n",
      "YouBike2.0_萬和二號公園 ==> 25.00154 121.5364\n",
      "YouBike2.0_捷運萬隆站(2號出口) ==> 25.00144 121.53983\n",
      "YouBike2.0_景仁公園 ==> 24.99621 121.54043\n",
      "YouBike2.0_捷運景美站(2號出口) ==> 24.99366 121.54124\n",
      "YouBike2.0_羅斯福景隆街口 ==> 24.99898 121.5403\n",
      "YouBike2.0_景福街/羅斯福路6段142巷口 ==> 24.99812 121.53663\n",
      "YouBike2.0_興旺公園 ==> 25.00587 121.55012\n",
      "YouBike2.0_興福國中 ==> 25.00465 121.54916\n",
      "YouBike2.0_興隆路2段203巷 ==> 25.00346 121.54709\n",
      "YouBike2.0_景美運動公園 ==> 25.00219 121.54454\n",
      "YouBike2.0_景美醫院 ==> 24.99136 121.54008\n",
      "YouBike2.0_師範大學公館校區 ==> 25.00792 121.53731\n",
      "YouBike2.0_景華街128巷口 ==> 24.99543 121.54725\n",
      "YouBike2.0_仙跡岩登山口(景興路) ==> 24.99118 121.5436\n",
      "YouBike2.0_國立政治大學 ==> 24.98737 121.57726\n",
      "YouBike2.0_捷運動物園站 ==> 24.99873 121.57985\n",
      "YouBike2.0_捷運木柵站 ==> 24.99798 121.57455\n",
      "YouBike2.0_捷運萬芳社區站 ==> 24.99886 121.56769\n",
      "YouBike2.0_文山運動中心 ==> 24.99676 121.5596\n",
      "YouBike2.0_捷運辛亥站 ==> 25.00467 121.55684\n",
      "YouBike2.0_興豐公園 ==> 24.99982 121.54761\n",
      "YouBike2.0_木柵光輝路口 ==> 24.98816 121.55528\n",
      "YouBike2.0_考試院 ==> 24.98747 121.54984\n",
      "YouBike2.0_和興路26巷口 ==> 24.98573 121.54532\n",
      "YouBike2.0_世新大學 ==> 24.98859 121.54336\n",
      "YouBike2.0_一壽橋 ==> 24.97837 121.55548\n",
      "YouBike2.0_臺北市立景美女中 ==> 24.98058 121.55624\n",
      "YouBike2.0_永安藝文館-表演36房 ==> 24.98414 121.56907\n",
      "YouBike2.0_忠順區民活動中心 ==> 24.98471 121.56332\n",
      "YouBike2.0_景文中學 ==> 24.98574 121.56745\n",
      "YouBike2.0_老泉街籃球場 ==> 24.97619 121.5583\n",
      "YouBike2.0_文山行政中心 ==> 24.98959 121.56959\n",
      "YouBike2.0_木柵公園 ==> 24.98718 121.56059\n",
      "YouBike2.0_興隆公共住宅D2區 ==> 24.98814 121.56356\n",
      "YouBike2.0_木新路3段95巷口 ==> 24.98088 121.56313\n",
      "YouBike2.0_樟腳里公園 ==> 24.98181 121.56567\n",
      "YouBike2.0_實踐國中 ==> 24.98301 121.55404\n",
      "YouBike2.0_指南路3段2巷 ==> 24.98537 121.57959\n",
      "YouBike2.0_萊茵公園 ==> 24.98642 121.56514\n",
      "YouBike2.0_木柵社會住宅 ==> 24.98935 121.56651\n",
      "YouBike2.0_秀明路一段185巷口 ==> 24.99151 121.56836\n",
      "YouBike2.0_秀明路一段129巷口 ==> 24.99111 121.56703\n",
      "YouBike2.0_恆光橋(老泉街) ==> 24.97989 121.56753\n",
      "YouBike2.0_萬有3號公園 ==> 24.99889 121.5433\n",
      "YouBike2.0_捷運萬芳醫院站(興隆路三段115巷) ==> 24.99939 121.55848\n",
      "YouBike2.0_興得閱覽室 ==> 24.99579 121.55498\n",
      "YouBike2.0_辛亥生態公園 ==> 25.00348 121.55642\n",
      "YouBike2.0_博嘉運動公園 ==> 25.00079 121.57534\n",
      "YouBike2.0_國立政治大學(萬壽路) ==> 24.98841 121.57649\n",
      "YouBike2.0_仙岩公園 ==> 24.99797 121.54982\n",
      "YouBike2.0_政大一街口 ==> 24.98543 121.58006\n",
      "YouBike2.0_文山第二行政中心 ==> 25.00115 121.55142\n",
      "YouBike2.0_移民署訓練中心 ==> 24.99271 121.55865\n",
      "YouBike2.0_海巡署(南側) ==> 24.99472 121.55949\n",
      "YouBike2.0_明道國小東南側 ==> 24.98695 121.56456\n",
      "YouBike2.0_木南公園 ==> 24.98662 121.57071\n",
      "YouBike2.0_實踐國中(木新路三段310巷口) ==> 24.98339 121.55645\n",
      "YouBike2.0_師範大學公館校區_1 ==> 25.00753 121.53719\n",
      "YouBike2.0_捷運動物園站(2號出口) ==> 24.99766 121.57875\n",
      "YouBike2.0_政大水岸電梯 ==> 24.982 121.5717\n",
      "YouBike2.0_敦南山林 ==> 25.00264 121.5768\n",
      "YouBike2.0_景美污水抽水站 ==> 25.01076 121.53637\n",
      "YouBike2.0_萬和三號公園(北側) ==> 25.00345 121.53636\n",
      "YouBike2.0_景興國中 ==> 24.99609 121.54284\n",
      "YouBike2.0_景仁公園_1 ==> 24.9966 121.5403\n",
      "YouBike2.0_師大公館校區學二舍 ==> 25.00825 121.53419\n",
      "YouBike2.0_景行公園 ==> 24.99279 121.54255\n",
      "YouBike2.0_萬興國小 ==> 24.98939 121.57682\n",
      "YouBike2.0_辛亥路四段77巷口 ==> 25.00743 121.55877\n",
      "YouBike2.0_景興路42巷口 ==> 24.99696 121.54454\n",
      "YouBike2.0_木柵路三段48巷 ==> 24.98768 121.56565\n",
      "YouBike2.0_木柵路二段109巷 ==> 24.98944 121.56195\n",
      "YouBike2.0_試院公園 ==> 24.98808 121.54723\n",
      "YouBike2.0_樟樹公園 ==> 24.9825 121.55949\n",
      "YouBike2.0_萬美萬安街口 ==> 25.00223 121.57039\n",
      "YouBike2.0_興隆路二段203巷(敦南) ==> 25.00198 121.54856\n",
      "YouBike2.0_新光秀明路口 ==> 24.99197 121.57371\n",
      "YouBike2.0_光輝路134巷口 ==> 24.98532 121.55831\n",
      "YouBike2.0_光輝公園 ==> 24.98655 121.5552\n",
      "YouBike2.0_木新公園 ==> 24.98217 121.55782\n",
      "YouBike2.0_興隆路二段275巷1弄口 ==> 25.00268 121.55277\n",
      "YouBike2.0_中國科技大學 ==> 24.99925 121.55553\n",
      "YouBike2.0_樟新街8巷 ==> 24.97932 121.55406\n",
      "YouBike2.0_仙岩路22巷口 ==> 24.99892 121.54887\n",
      "YouBike2.0_木柵萬芳路口 ==> 24.99509 121.57199\n",
      "YouBike2.0_福興路78巷 ==> 25.00437 121.55048\n",
      "YouBike2.0_臺北自來水事業處 ==> 25.013741 121.53068\n",
      "YouBike2.0_汀州思源街口東南側 ==> 25.014697 121.531908\n",
      "YouBike2.0_捷運公館站(1號出口) ==> 25.014529 121.534374\n",
      "YouBike2.0_捷運公館站(4號出口) ==> 25.015069 121.533828\n",
      "YouBike2.0_捷運古亭站(9號出口) ==> 25.02694 121.52224\n",
      "YouBike2.0_捷運古亭站(2號出口) ==> 25.0255 121.52346\n",
      "YouBike2.0_捷運臺電大樓站(1號出口) ==> 25.0197 121.529\n",
      "YouBike2.0_客家文化主題公園 ==> 25.02069 121.52456\n",
      "YouBike2.0_河堤國小 ==> 25.02277 121.52289\n",
      "YouBike2.0_紀州庵 ==> 25.02092 121.52049\n",
      "YouBike2.0_捷運臺電大樓站(5號出口) ==> 25.02075 121.52771\n",
      "YouBike2.0_捷運臺電大樓站(4號出口) ==> 25.02102 121.52751\n",
      "YouBike2.0_羅斯福三段金門街口 ==> 25.02345 121.52498\n",
      "YouBike2.0_牯嶺公園 ==> 25.02338 121.51889\n",
      "YouBike2.0_捷運古亭站(8號出口) ==> 25.02701 121.52164\n",
      "YouBike2.0_捷運古亭站(7號出口) ==> 25.02805 121.52155\n",
      "YouBike2.0_南昌公園 ==> 25.02698 121.52081\n",
      "YouBike2.0_和平重慶路口 ==> 25.02723 121.51659\n",
      "YouBike2.0_孫立人將軍官邸 ==> 25.02933 121.51854\n",
      "YouBike2.0_羅斯福路二段6巷口 ==> 25.02923 121.52058\n",
      "YouBike2.0_金華杭州南路口 ==> 25.031 121.52211\n",
      "YouBike2.0_捷運中正紀念堂站(3號出口) ==> 25.03239 121.51866\n",
      "YouBike2.0_捷運中正紀念堂站(4號出口) ==> 25.03376 121.51772\n",
      "YouBike2.0_螢橋國小 ==> 25.02609 121.51389\n",
      "YouBike2.0_古亭智慧圖書館 ==> 25.02543 121.51052\n",
      "YouBike2.0_永昌公園 ==> 25.02643 121.50936\n",
      "YouBike2.0_中華路二段409巷口 ==> 25.02598 121.50806\n",
      "YouBike2.0_南機場夜市(中華路二段) ==> 25.02886 121.50518\n",
      "YouBike2.0_南海和平路口西南側 ==> 25.03024 121.50904\n",
      "YouBike2.0_莒光和平路口 ==> 25.03132 121.50745\n",
      "YouBike2.0_水源路11-1號旁 ==> 25.01602 121.52565\n",
      "YouBike2.0_南門國中 ==> 25.03543 121.50834\n",
      "YouBike2.0_捷運小南門站(2號出口) ==> 25.03567 121.51006\n",
      "YouBike2.0_介壽公園 ==> 25.03907 121.5138\n",
      "YouBike2.0_中華貴陽街口 ==> 25.03938 121.50772\n",
      "YouBike2.0_華山文創園區 ==> 25.04367 121.52849\n",
      "YouBike2.0_捷運善導寺站(1號出口) ==> 25.04527 121.5222\n",
      "YouBike2.0_濟南紹興路口 ==> 25.04193 121.52459\n",
      "YouBike2.0_林森仁愛路口 ==> 25.03915 121.52163\n",
      "YouBike2.0_中正運動中心 ==> 25.03786 121.51985\n",
      "YouBike2.0_信義杭州路口 ==> 25.0357 121.5241\n",
      "YouBike2.0_捷運善導寺站(3號出口) ==> 25.04428 121.52336\n",
      "YouBike2.0_捷運小南門站(1號出口) ==> 25.03648 121.50951\n",
      "YouBike2.0_延平南路133巷口 ==> 25.03792 121.50846\n",
      "YouBike2.0_捷運西門站(2號出口) ==> 25.0416 121.50842\n",
      "YouBike2.0_寶慶博愛路口 ==> 25.04129 121.5112\n",
      "YouBike2.0_法務部 ==> 25.03705 121.51249\n",
      "YouBike2.0_臺北市立大學(博愛校區) ==> 25.03545 121.51327\n",
      "YouBike2.0_國家圖書館 ==> 25.03763 121.51709\n",
      "YouBike2.0_市民金山路口 ==> 25.0459 121.53068\n",
      "YouBike2.0_聯合醫院和平院區 ==> 25.03516 121.50641\n",
      "YouBike2.0_中山堂 ==> 25.04412 121.51025\n",
      "YouBike2.0_中華漢口街口 ==> 25.04533 121.50944\n",
      "YouBike2.0_中華路一段21巷口 ==> 25.04677 121.50989\n",
      "YouBike2.0_捷運臺大醫院站(4號出口) ==> 25.04297 121.51643\n",
      "YouBike2.0_寶藏巖觀音亭 ==> 25.01027 121.5331\n",
      "YouBike2.0_師大水源路口 ==> 25.0203 121.52302\n",
      "YouBike2.0_中山徐州路口 ==> 25.04178 121.51907\n",
      "YouBike2.0_信義連雲街口 ==> 25.03377 121.53041\n",
      "YouBike2.0_臺北轉運站 ==> 25.04842 121.51994\n",
      "YouBike2.0_莒光大埔街口 ==> 25.03132 121.50519\n",
      "YouBike2.0_捷運忠孝新生站(2號出口) ==> 25.04235 121.53222\n",
      "YouBike2.0_光華商場 ==> 25.04478 121.53274\n",
      "YouBike2.0_中山青島路口 ==> 25.04503 121.51968\n",
      "YouBike2.0_捷運中正紀念堂站(5號出口) ==> 25.03526 121.5168\n",
      "YouBike2.0_北平東杭州北路口 ==> 25.04553 121.52736\n",
      "YouBike2.0_王貫英先生紀念圖書館 ==> 25.02266 121.52362\n",
      "YouBike2.0_金山信義路口 ==> 25.03443 121.52721\n",
      "YouBike2.0_林森徐州路口 ==> 25.04094 121.52215\n",
      "YouBike2.0_徐州杭州路口 ==> 25.04023 121.52565\n",
      "YouBike2.0_捷運中正紀念堂站(6號出口) ==> 25.03615 121.5166\n",
      "YouBike2.0_捷運臺北車站(M2出口) ==> 25.04821 121.51903\n",
      "YouBike2.0_臺北市國父史蹟館(逸仙公園) ==> 25.04779 121.52042\n",
      "YouBike2.0_捷運西門站(5號出口) ==> 25.04244 121.50864\n",
      "YouBike2.0_弘道國中 ==> 25.03828 121.51524\n",
      "YouBike2.0_臺北市第一女子高級中學 ==> 25.0385 121.51288\n",
      "YouBike2.0_台北市替代役中心 ==> 25.01808 121.5275\n",
      "YouBike2.0_紹興徐州路口 ==> 25.04051 121.52401\n",
      "YouBike2.0_羅斯福寧波東街口 ==> 25.03145 121.51941\n",
      "YouBike2.0_自來水園區 ==> 25.01328 121.53004\n",
      "YouBike2.0_仁愛林森路口 ==> 25.03895 121.52233\n",
      "YouBike2.0_捷運西門站(3號出口) ==> 25.04178 121.50869\n",
      "YouBike2.0_仁愛金山路口 ==> 25.0384 121.52801\n",
      "YouBike2.0_杭州南路一段101巷口 ==> 25.03746 121.52799\n",
      "YouBike2.0_仁愛杭州路口 ==> 25.03846 121.52497\n",
      "YouBike2.0_龍興里活動中心 ==> 25.02815 121.51108\n",
      "YouBike2.0_植物園 ==> 25.0299 121.51033\n",
      "YouBike2.0_郵政博物館 ==> 25.03158 121.51464\n",
      "YouBike2.0_林森北平路口 ==> 25.04659 121.52377\n",
      "YouBike2.0_北平紹興路口 ==> 25.04597 121.52579\n",
      "YouBike2.0_天津北平路口 ==> 25.04692 121.52208\n",
      "YouBike2.0_捷運忠孝新生站(1號出口) ==> 25.04272 121.53207\n",
      "YouBike2.0_捷運忠孝新生站(5號出口) ==> 25.04113 121.53273\n",
      "YouBike2.0_捷運臺大醫院站(1號出口) ==> 25.04074 121.51586\n",
      "YouBike2.0_臺大醫院兒童醫院 ==> 25.04461 121.5188\n",
      "YouBike2.0_林森濟南路口(東北側) ==> 25.0425 121.5227\n",
      "YouBike2.0_仁愛紹興街口(南側) ==> 25.03837 121.52345\n",
      "YouBike2.0_中華南海路口 ==> 25.02703 121.50686\n",
      "YouBike2.0_立法院台北會館 ==> 25.03371 121.51068\n",
      "YouBike2.0_捷運善導寺站(3號出口)(忠孝東路側) ==> 25.04467 121.52357\n",
      "YouBike2.0_國家音樂廳 ==> 25.03788 121.51904\n",
      "YouBike2.0_忠孝西重慶南路口 ==> 25.04724 121.51272\n",
      "YouBike2.0_濟南路二段8巷口 ==> 25.04127 121.52697\n",
      "YouBike2.0_仁愛金山路口(東南側) ==> 25.03811 121.52855\n",
      "YouBike2.0_臺灣文學基地 ==> 25.04148 121.5287\n",
      "YouBike2.0_重慶南詔安街口 ==> 25.02507 121.51645\n",
      "YouBike2.0_文光公園 ==> 25.03898 121.53058\n",
      "YouBike2.0_捷運中正紀念堂站(2號出口) ==> 25.03212 121.51861\n",
      "YouBike2.0_螢圃里小公園 ==> 25.02484 121.51973\n",
      "YouBike2.0_螢橋公園 ==> 25.02682 121.51737\n",
      "YouBike2.0_泉州寧波西街口 ==> 25.02965 121.51415\n",
      "YouBike2.0_和平西路二段98巷口 ==> 25.0289 121.5097\n",
      "YouBike2.0_仁愛新生路口(西南側) ==> 25.03796 121.53261\n",
      "YouBike2.0_幸安市場 ==> 25.04032 121.53141\n",
      "YouBike2.0_通北街65巷口 ==> 25.08251 121.54004\n",
      "YouBike2.0_圓山風景區 ==> 25.07805 121.5295\n",
      "YouBike2.0_樂群二堤頂大道口 ==> 25.0803 121.56251\n",
      "YouBike2.0_劍潭社區 ==> 25.08524 121.53748\n",
      "YouBike2.0_培英公園 ==> 25.08258 121.54462\n",
      "YouBike2.0_樂群二明水路口 ==> 25.08009 121.55226\n",
      "YouBike2.0_北安大直街口 ==> 25.08474 121.54968\n",
      "YouBike2.0_捷運劍南路站(2號出口) ==> 25.08401 121.55535\n",
      "YouBike2.0_樂群二敬業三路口 ==> 25.07985 121.55609\n",
      "YouBike2.0_樂群二敬業四路口 ==> 25.07976 121.55813\n",
      "YouBike2.0_捷運大直站(3號出口) ==> 25.07923 121.5473\n",
      "YouBike2.0_復興市民路口 ==> 25.04585 121.54375\n",
      "YouBike2.0_南京遼寧街口 ==> 25.05176 121.54217\n",
      "YouBike2.0_伊通長安路口 ==> 25.04833 121.53469\n",
      "YouBike2.0_新生長安路口 ==> 25.04861 121.52935\n",
      "YouBike2.0_市民林森路口 ==> 25.04796 121.52439\n",
      "YouBike2.0_南京新生路口 ==> 25.05194 121.52766\n",
      "YouBike2.0_一江公園 ==> 25.05316 121.53146\n",
      "YouBike2.0_松江公園 ==> 25.05025 121.53273\n",
      "YouBike2.0_新生長春路口 ==> 25.05639 121.52752\n",
      "YouBike2.0_第二果菜批發市場 ==> 25.06642 121.53735\n",
      "YouBike2.0_民生建國路口 ==> 25.05778 121.53692\n",
      "YouBike2.0_興安華城 ==> 25.05606 121.54175\n",
      "YouBike2.0_捷運中山國中站 ==> 25.06106 121.54406\n",
      "YouBike2.0_龍江錦州街口 ==> 25.06045 121.54077\n",
      "YouBike2.0_建國長春路口 ==> 25.05469 121.53686\n",
      "YouBike2.0_南京建國路口 ==> 25.05214 121.5368\n",
      "YouBike2.0_捷運松江南京站(7號出口) ==> 25.05246 121.5332\n",
      "YouBike2.0_朱崙商場 ==> 25.04762 121.54043\n",
      "YouBike2.0_中吉公園 ==> 25.05604 121.53166\n",
      "YouBike2.0_華山公園 ==> 25.0471 121.5277\n",
      "YouBike2.0_建國北路一段17巷 ==> 25.04699 121.53735\n",
      "YouBike2.0_江寧公園 ==> 25.0614 121.53929\n",
      "YouBike2.0_民權龍江路口 ==> 25.06225 121.54107\n",
      "YouBike2.0_捷運中山國小站(2號出口) ==> 25.06246 121.52705\n",
      "YouBike2.0_捷運行天宮站(3號出口) ==> 25.05992 121.5333\n",
      "YouBike2.0_林森農安街口 ==> 25.06531 121.52565\n",
      "YouBike2.0_捷運中山國小站(4號出口) ==> 25.06283 121.52697\n",
      "YouBike2.0_農安雙城街口 ==> 25.06491 121.52449\n",
      "YouBike2.0_新生德惠街口 ==> 25.06652 121.52762\n",
      "YouBike2.0_民族林森路口 ==> 25.06847 121.52559\n",
      "YouBike2.0_臺北市立美術館 ==> 25.06987 121.52291\n",
      "YouBike2.0_中山民族路口 ==> 25.06816 121.52265\n",
      "YouBike2.0_新生高架停車場(林森北路107巷口) ==> 25.04983 121.52853\n",
      "YouBike2.0_南京林森路口(東南側) ==> 25.05201 121.52556\n",
      "YouBike2.0_仁德公園 ==> 25.05337 121.5289\n",
      "YouBike2.0_中原公園 ==> 25.05583 121.52821\n",
      "YouBike2.0_下埤公園 ==> 25.06682 121.54213\n",
      "YouBike2.0_五常國中 ==> 25.06505 121.54366\n",
      "YouBike2.0_榮星花園 ==> 25.06424 121.54037\n",
      "YouBike2.0_民權建國路口 ==> 25.06251 121.53765\n",
      "YouBike2.0_松江路431巷口 ==> 25.06585 121.53338\n",
      "YouBike2.0_新喜公園 ==> 25.06533 121.53177\n",
      "YouBike2.0_吉林路407巷口 ==> 25.06595 121.53041\n",
      "YouBike2.0_民族松江路口 ==> 25.06833 121.5328\n",
      "YouBike2.0_林安泰古厝 ==> 25.07154 121.53058\n",
      "YouBike2.0_中山公民會館 ==> 25.06185 121.5226\n",
      "YouBike2.0_渭水八德路口 ==> 25.04573 121.53508\n",
      "YouBike2.0_捷運中山站(2號出口) ==> 25.05228 121.52176\n",
      "YouBike2.0_撫順公園 ==> 25.06416 121.52203\n",
      "YouBike2.0_新生公園 ==> 25.06839 121.53032\n",
      "YouBike2.0_捷運行天宮站(1號出口) ==> 25.05867 121.53305\n",
      "YouBike2.0_林森長春路口 ==> 25.05497 121.52536\n",
      "YouBike2.0_建國農安街口 ==> 25.06503 121.53678\n",
      "YouBike2.0_松江路77巷口 ==> 25.04985 121.53312\n",
      "YouBike2.0_建國長安路口 ==> 25.04836 121.53669\n",
      "YouBike2.0_市民新生路口 ==> 25.04611 121.53193\n",
      "YouBike2.0_民權吉林路口 ==> 25.06269 121.53061\n",
      "YouBike2.0_中山農安街口 ==> 25.0651 121.5224\n",
      "YouBike2.0_捷運行政大樓 ==> 25.05575 121.52168\n",
      "YouBike2.0_中吉公園(松江路188巷) ==> 25.0568 121.53191\n",
      "YouBike2.0_吉林路123巷口 ==> 25.05731 121.53021\n",
      "YouBike2.0_中原民生路口 ==> 25.05808 121.52887\n",
      "YouBike2.0_國立臺北大學(臺北校區) ==> 25.05794 121.54244\n",
      "YouBike2.0_錦州吉林路口 ==> 25.06028 121.52991\n",
      "YouBike2.0_中山北路二段59巷口 ==> 25.05606 121.5229\n",
      "YouBike2.0_永盛公園(民生東路一段23巷) ==> 25.05873 121.52488\n",
      "YouBike2.0_新生錦州街口 ==> 25.05955 121.52744\n",
      "YouBike2.0_濱江街199巷口 ==> 25.0734 121.53985\n",
      "YouBike2.0_大佳社區公園 ==> 25.07275 121.5373\n",
      "YouBike2.0_濱江果菜市場 ==> 25.06807 121.53673\n",
      "YouBike2.0_興安合江路口 ==> 25.05619 121.53949\n",
      "YouBike2.0_復興北路514巷口東側 ==> 25.06597 121.54117\n",
      "YouBike2.0_台泥大樓 ==> 25.06142 121.52305\n",
      "YouBike2.0_植福樂群路口 ==> 25.08303 121.5604\n",
      "YouBike2.0_新興公園 ==> 25.06157 121.52439\n",
      "YouBike2.0_南京伊通街口 ==> 25.05189 121.53517\n",
      "YouBike2.0_南京龍江路口 ==> 25.05205 121.54012\n",
      "YouBike2.0_撫順街41巷(崇德宮前) ==> 25.06389 121.51916\n",
      "YouBike2.0_臺北市立圖書館大直分館 ==> 25.08152 121.54646\n",
      "YouBike2.0_捷運大直站(1號出口) ==> 25.0801 121.54708\n",
      "YouBike2.0_捷運松江南京站(4號出口) ==> 25.0512 121.53312\n",
      "YouBike2.0_中429公園 ==> 25.07864 121.55557\n",
      "YouBike2.0_長春路137巷口 ==> 25.05791 121.53114\n",
      "YouBike2.0_松江民生路口 ==> 25.05765 121.53299\n",
      "YouBike2.0_松江路132巷口 ==> 25.05277 121.53013\n",
      "YouBike2.0_長春吉林路口 ==> 25.05481 121.53032\n",
      "YouBike2.0_長春一江街口 ==> 25.05488 121.53142\n",
      "YouBike2.0_捷運松江南京站(8號出口) ==> 25.05215 121.53276\n",
      "YouBike2.0_南京一江街口 ==> 25.05215 121.53171\n",
      "YouBike2.0_松江長春路口 ==> 25.05499 121.53295\n",
      "YouBike2.0_經國七海文化園區 ==> 25.07802 121.53511\n",
      "YouBike2.0_民族玉門街口 ==> 25.06873 121.52003\n",
      "YouBike2.0_新生農安街口 ==> 25.06493 121.52778\n",
      "YouBike2.0_稻江高級護理家事職業學校 ==> 25.06532 121.52848\n",
      "YouBike2.0_捷運大直站(3號出口)_1 ==> 25.07934 121.54671\n",
      "YouBike2.0_樂群二明水路口_1 ==> 25.07983 121.55236\n",
      "YouBike2.0_民權吉林路口(南側) ==> 25.06245 121.53043\n",
      "YouBike2.0_長春龍江路口 ==> 25.05473 121.54026\n",
      "YouBike2.0_民權新生路口 ==> 25.06305 121.52776\n",
      "YouBike2.0_建國長春路口(北側) ==> 25.05476 121.53693\n",
      "YouBike2.0_中山行政中心 ==> 25.06432 121.53349\n",
      "YouBike2.0_臺北市立美術館_1 ==> 25.07063 121.52327\n",
      "YouBike2.0_劍潭社區_1 ==> 25.08476 121.53789\n",
      "YouBike2.0_濱江國小游泳池 ==> 25.07818 121.56175\n",
      "YouBike2.0_林森公園 ==> 25.05223 121.52581\n",
      "YouBike2.0_中428公園 ==> 25.07825 121.55337\n",
      "YouBike2.0_復華公園 ==> 25.05339 121.5401\n",
      "YouBike2.0_新生民族路口(西南側) ==> 25.06819 121.52767\n",
      "YouBike2.0_捷運南京復興站(1號出口) ==> 25.05253 121.54256\n",
      "YouBike2.0_八德市場(北側) ==> 25.04478 121.53661\n",
      "YouBike2.0_龍江朱崙街口 ==> 25.05004 121.54043\n",
      "YouBike2.0_大直街94巷 ==> 25.08431 121.54755\n",
      "YouBike2.0_捷運南京復興站(8號出口) ==> 25.05196 121.5433\n",
      "YouBike2.0_民權建國路口(南側) ==> 25.06228 121.53702\n",
      "YouBike2.0_林森德惠街口 ==> 25.06688 121.5257\n",
      "YouBike2.0_新生濱江街口(東南側) ==> 25.07059 121.52812\n",
      "YouBike2.0_新生北路一段62巷口 ==> 25.04699 121.53075\n",
      "YouBike2.0_新生長春路口(東北側) ==> 25.05532 121.52769\n",
      "YouBike2.0_捷運劍南路站(1號出口) ==> 25.08519 121.55498\n",
      "YouBike2.0_敬業三樂群三路口(西北側) ==> 25.08272 121.55624\n",
      "YouBike2.0_長春路258巷2弄口 ==> 25.05427 121.53896\n",
      "YouBike2.0_長寧大廈社區(南側) ==> 25.05418 121.54332\n",
      "YouBike2.0_建國五常街口 ==> 25.06419 121.53732\n",
      "YouBike2.0_中山北路二段62巷口 ==> 25.05676 121.52268\n",
      "YouBike2.0_市民安東街口 ==> 25.0448 121.54213\n",
      "YouBike2.0_市民大道二段5巷口 ==> 25.04812 121.52166\n",
      "YouBike2.0_捷運中山站(3號出口) ==> 25.05236 121.52212\n",
      "YouBike2.0_建國北路高架橋下停車場G區 ==> 25.05959 121.53682\n",
      "YouBike2.0_朱崙公園 ==> 25.04919 121.54198\n",
      "YouBike2.0_朱崙復興北路口 ==> 25.04992 121.54379\n",
      "YouBike2.0_捷運行天宮站(4號出口) ==> 25.06037 121.53283\n",
      "YouBike2.0_文湖街21巷118弄口 ==> 25.09122 121.55961\n",
      "YouBike2.0_北勢湖環保公園 ==> 25.08378 121.56208\n",
      "YouBike2.0_洲子一號公園 ==> 25.07977 121.56454\n",
      "YouBike2.0_西康公園 ==> 25.08284 121.56449\n",
      "YouBike2.0_文湖國小 ==> 25.08637 121.56088\n",
      "YouBike2.0_文湖街81巷10號西側 ==> 25.08707 121.56406\n",
      "YouBike2.0_德明財經科技大學 ==> 25.08637 121.56574\n",
      "YouBike2.0_麗山國小 ==> 25.08311 121.57155\n",
      "YouBike2.0_麗山高中 ==> 25.08398 121.57725\n",
      "YouBike2.0_港華五號公園 ==> 25.08522 121.57462\n",
      "YouBike2.0_大湖國小 ==> 25.08803 121.59958\n",
      "YouBike2.0_安湖三號公園 ==> 25.07021 121.61593\n",
      "YouBike2.0_東湖路113巷95弄 ==> 25.07177 121.61491\n",
      "YouBike2.0_瑞光計程車服務站 ==> 25.0745 121.57389\n",
      "YouBike2.0_文德三號公園(江南街71巷16弄) ==> 25.07524 121.5772\n",
      "YouBike2.0_捷運大湖公園站(2號出口) ==> 25.08395 121.60185\n",
      "YouBike2.0_康寧星雲街口 ==> 25.07958 121.59336\n",
      "YouBike2.0_星雲街47號 ==> 25.07864 121.59177\n",
      "YouBike2.0_捷運西湖站(1號出口) ==> 25.08301 121.56638\n",
      "YouBike2.0_捷運西湖站(2號出口) ==> 25.08205 121.56716\n",
      "YouBike2.0_洲子二號公園 ==> 25.07932 121.56869\n",
      "YouBike2.0_港都公園 ==> 25.08296 121.5752\n",
      "YouBike2.0_環山路二段26巷口 ==> 25.08598 121.572\n",
      "YouBike2.0_成功金龍路口 ==> 25.08436 121.59478\n",
      "YouBike2.0_碧山公園 ==> 25.0878 121.59227\n",
      "YouBike2.0_金瑞公園 ==> 25.08785 121.5879\n",
      "YouBike2.0_捷運文德站(2號出口) ==> 25.07842 121.58464\n",
      "YouBike2.0_陽光公園 ==> 25.07695 121.58764\n",
      "YouBike2.0_文德二號公園(南側) ==> 25.07504 121.58375\n",
      "YouBike2.0_文德二號公園(北側) ==> 25.07758 121.58381\n",
      "YouBike2.0_瑞陽公園 ==> 25.07777 121.57961\n",
      "YouBike2.0_湖光國宅 ==> 25.07538 121.58079\n",
      "YouBike2.0_潭美街213號 ==> 25.05575 121.58486\n",
      "YouBike2.0_南京東路六段180號 ==> 25.0559 121.57991\n",
      "YouBike2.0_潭美國小(南京舊宗路口) ==> 25.05768 121.58159\n",
      "YouBike2.0_新明路343號 ==> 25.05653 121.58345\n",
      "YouBike2.0_週美里活動廣場 ==> 25.0539 121.58084\n",
      "YouBike2.0_內湖行政中心 ==> 25.06915 121.58898\n",
      "YouBike2.0_樂康公園 ==> 25.07007 121.62055\n",
      "YouBike2.0_安康路32巷24弄 ==> 25.06181 121.59447\n",
      "YouBike2.0_明美公園 ==> 25.06256 121.58607\n",
      "YouBike2.0_南京東路六段368巷 ==> 25.05827 121.58707\n",
      "YouBike2.0_新明成功路口 ==> 25.06058 121.5911\n",
      "YouBike2.0_民權瑞光路口 ==> 25.06835 121.58323\n",
      "YouBike2.0_瑞光公共住宅(瑞光路) ==> 25.07335 121.57951\n",
      "YouBike2.0_民權東路六段15巷 ==> 25.06853 121.57813\n",
      "YouBike2.0_扶輪親恩公園 ==> 25.06709 121.58002\n",
      "YouBike2.0_新湖三民善街口 ==> 25.06286 121.57497\n",
      "YouBike2.0_內湖119號綠地 ==> 25.05594 121.57865\n",
      "YouBike2.0_行善公園 ==> 25.05301 121.57592\n",
      "YouBike2.0_三軍總醫院 ==> 25.07151 121.58991\n",
      "YouBike2.0_福華商場 ==> 25.06877 121.59265\n",
      "YouBike2.0_臺北市網球中心 ==> 25.0674 121.59749\n",
      "YouBike2.0_捷運葫洲站(1號出口) ==> 25.07249 121.60796\n",
      "YouBike2.0_麗湖國小 ==> 25.07332 121.60223\n",
      "YouBike2.0_金湖路347巷125弄口 ==> 25.0733 121.59834\n",
      "YouBike2.0_碧湖公園 ==> 25.07988 121.58287\n",
      "YouBike2.0_碧湖公園(內湖路二段103巷) ==> 25.08317 121.58109\n",
      "YouBike2.0_貿七社區 ==> 25.08357 121.58534\n",
      "YouBike2.0_內湖區農會 ==> 25.08165 121.58891\n",
      "YouBike2.0_捷運內湖站(2號出口) ==> 25.0835 121.59454\n",
      "YouBike2.0_康寧金湖路口 ==> 25.07896 121.59921\n",
      "YouBike2.0_康寧路一段156巷20弄口 ==> 25.07792 121.59354\n",
      "YouBike2.0_安康公園 ==> 25.06657 121.6136\n",
      "YouBike2.0_安泰街83巷 ==> 25.07669 121.61709\n",
      "YouBike2.0_內溝溪生態展示館 ==> 25.08722 121.62306\n",
      "YouBike2.0_捷運港墘站(2號出口) ==> 25.07967 121.57584\n",
      "YouBike2.0_東湖國中 ==> 25.07334 121.61962\n",
      "YouBike2.0_石潭公園(安康路) ==> 25.06261 121.59334\n",
      "YouBike2.0_內湖垃圾焚化廠 ==> 25.06209 121.60347\n",
      "YouBike2.0_康寧公園(北側) ==> 25.06927 121.61019\n",
      "YouBike2.0_康寧路三段54巷口 ==> 25.0716 121.60936\n",
      "YouBike2.0_行善路25巷口 ==> 25.05707 121.57658\n",
      "YouBike2.0_新明路460巷口 ==> 25.05503 121.57823\n",
      "YouBike2.0_下灣公園 ==> 25.06516 121.59561\n",
      "YouBike2.0_民權東路六段245巷口 ==> 25.06708 121.60059\n",
      "YouBike2.0_東湖國小 ==> 25.06854 121.61532\n",
      "YouBike2.0_捷運內湖站(1號出口) ==> 25.08373 121.59406\n",
      "YouBike2.0_瑞光港墘路口 ==> 25.07611 121.57487\n",
      "YouBike2.0_瑞湖陽光街口 ==> 25.07296 121.57603\n",
      "YouBike2.0_金龍公園 ==> 25.08554 121.59076\n",
      "YouBike2.0_星雲街138巷1弄口 ==> 25.07943 121.59544\n",
      "YouBike2.0_東湖一號公園 ==> 25.07567 121.6118\n",
      "YouBike2.0_東湖二號公園 ==> 25.07415 121.61075\n",
      "YouBike2.0_康湖二號公園(康寧醫院) ==> 25.07514 121.60857\n",
      "YouBike2.0_堤頂大道新湖一路口 ==> 25.05892 121.57354\n",
      "YouBike2.0_下灣公園(成功路) ==> 25.06682 121.5907\n",
      "YouBike2.0_舊宗行善路口 ==> 25.05876 121.58062\n",
      "YouBike2.0_新湖二路250巷口 ==> 25.06455 121.58262\n",
      "YouBike2.0_成功路四段41巷口 ==> 25.08105 121.59205\n",
      "YouBike2.0_金湖星雲街口 ==> 25.08151 121.59764\n",
      "YouBike2.0_國防醫學院 ==> 25.06851 121.59559\n",
      "YouBike2.0_民權東路六段190巷117弄口 ==> 25.06434 121.59399\n",
      "YouBike2.0_內湖運動中心 ==> 25.07848 121.57493\n",
      "YouBike2.0_九華公園 ==> 25.08844 121.56122\n",
      "YouBike2.0_內湖路二段179巷口 ==> 25.08454 121.584\n",
      "YouBike2.0_行善行愛路口 ==> 25.0606 121.58286\n",
      "YouBike2.0_民善新湖二路口(家樂福內湖店) ==> 25.06017 121.57552\n",
      "YouBike2.0_統振大樓 ==> 25.06007 121.60138\n",
      "YouBike2.0_陽光街161巷口 ==> 25.07433 121.58584\n",
      "YouBike2.0_潭美公園(南京東路六段368巷) ==> 25.05928 121.58617\n",
      "YouBike2.0_西康二號公園 ==> 25.08503 121.5637\n",
      "YouBike2.0_三民國中(民權東路六段47巷) ==> 25.06935 121.58692\n",
      "YouBike2.0_瑞光路76巷口 ==> 25.07168 121.58125\n",
      "YouBike2.0_捷運東湖站 ==> 25.06664 121.61351\n",
      "YouBike2.0_新湖國小 ==> 25.06874 121.58923\n",
      "YouBike2.0_碧山內湖路口 ==> 25.08627 121.5914\n",
      "YouBike2.0_民權東路六段413巷 ==> 25.07038 121.60352\n",
      "YouBike2.0_宏匯瑞光廣場(瑞光路) ==> 25.07676 121.57433\n",
      "YouBike2.0_宏匯瑞光廣場(港墘路) ==> 25.07777 121.57562\n",
      "YouBike2.0_康樂街151巷 ==> 25.07192 121.61955\n",
      "YouBike2.0_內湖路一段360巷 ==> 25.0812 121.57067\n",
      "YouBike2.0_成功路三段83號前 ==> 25.07823 121.5898\n",
      "YouBike2.0_內湖路一段47巷 ==> 25.08781 121.55872\n",
      "YouBike2.0_陽光舊宗路口 ==> 25.07243 121.57416\n",
      "YouBike2.0_安湖公園 ==> 25.07392 121.61545\n",
      "YouBike2.0_湖興公園 ==> 25.06671 121.58913\n",
      "YouBike2.0_安泰街(康樂橋下) ==> 25.07849 121.61666\n",
      "YouBike2.0_康樂綠地 ==> 25.07539 121.6203\n",
      "YouBike2.0_捷運港墘站(1號出口) ==> 25.08004 121.57568\n",
      "YouBike2.0_明美公園(行善路333巷) ==> 25.06058 121.5866\n",
      "YouBike2.0_行善路383巷 ==> 25.06365 121.58609\n",
      "YouBike2.0_舊宗新湖三路口 ==> 25.06321 121.57681\n",
      "YouBike2.0_內湖運動公園 ==> 25.06766 121.57459\n",
      "YouBike2.0_內湖路三段326巷口 ==> 25.08968 121.58352\n",
      "YouBike2.0_成功公園 ==> 25.08416 121.59665\n",
      "YouBike2.0_康寧路三段189巷93弄口 ==> 25.0735 121.61258\n",
      "YouBike2.0_中國醫藥大學附設醫院臺北分院 ==> 25.08227 121.5909\n",
      "YouBike2.0_康樂抽水站 ==> 25.06643 121.61732\n",
      "YouBike2.0_環山路三段16巷口 ==> 25.08464 121.57945\n",
      "YouBike2.0_文德一號綠地 ==> 25.0786 121.58302\n",
      "YouBike2.0_臺北花市 ==> 25.06265 121.57427\n",
      "YouBike2.0_行善社會住宅 ==> 25.06126 121.58201\n",
      "YouBike2.0_康寧路三段99巷17弄口 ==> 25.0721 121.60991\n",
      "YouBike2.0_堤頂大道二段407巷口 ==> 25.08019 121.56316\n",
      "YouBike2.0_海德堡科技大樓 ==> 25.08156 121.56227\n",
      "YouBike2.0_致伸科技大樓 ==> 25.08067 121.5656\n",
      "YouBike2.0_內湖路一段288巷口 ==> 25.08202 121.56861\n",
      "YouBike2.0_大都會客運內湖站 ==> 25.06749 121.57784\n",
      "YouBike2.0_瑞湖公園 ==> 25.06888 121.57711\n",
      "YouBike2.0_台灣世曦大樓 ==> 25.07345 121.57848\n",
      "YouBike2.0_遠雄時代總部 ==> 25.07821 121.57103\n",
      "YouBike2.0_瑞光路358巷口 ==> 25.07733 121.5727\n",
      "YouBike2.0_大港墘公園(洲子街) ==> 25.07897 121.5737\n",
      "YouBike2.0_世紀經貿 ==> 25.08049 121.57361\n",
      "YouBike2.0_民權東路六段56巷口 ==> 25.06805 121.58488\n",
      "YouBike2.0_新湖三行忠路72巷口 ==> 25.06605 121.58206\n",
      "YouBike2.0_新湖三新湖二146巷口 ==> 25.06407 121.57787\n",
      "YouBike2.0_舊宗新湖二路口 ==> 25.06151 121.57811\n",
      "YouBike2.0_新光基湖大樓 ==> 25.08152 121.56489\n",
      "YouBike2.0_內湖路一段120巷15弄 ==> 25.08203 121.56298\n",
      "YouBike2.0_北勢湖環保公園(堤頂大道側) ==> 25.08318 121.56154\n",
      "YouBike2.0_達爾文大樓 ==> 25.07941 121.57277\n",
      "YouBike2.0_東湖四號公園 ==> 25.07074 121.61803\n",
      "YouBike2.0_加瑪科技中心 ==> 25.08035 121.5705\n",
      "YouBike2.0_福壽公園 ==> 25.07983 121.59625\n",
      "YouBike2.0_捷運西湖站(1號出口)內湖路側 ==> 25.08227 121.56709\n",
      "YouBike2.0_威剛科技總部 ==> 25.06153 121.60033\n",
      "YouBike2.0_太陽科技廣場 ==> 25.08514 121.56161\n",
      "YouBike2.0_瑞光路316巷 ==> 25.07567 121.57341\n",
      "YouBike2.0_承德路七段304巷口 ==> 25.1168 121.5048\n",
      "YouBike2.0_洲美運動公園 ==> 25.10981 121.49886\n",
      "YouBike2.0_榮華二明德路口 ==> 25.11357 121.52255\n",
      "YouBike2.0_捷運明德站(1號出口) ==> 25.10896 121.51936\n",
      "YouBike2.0_文林建民路口 ==> 25.10788 121.51457\n",
      "YouBike2.0_永欣綠地 ==> 25.12416 121.52607\n",
      "YouBike2.0_關渡宮 ==> 25.11739 121.46288\n",
      "YouBike2.0_關渡自然公園 ==> 25.11884 121.46912\n",
      "YouBike2.0_關渡醫院 ==> 25.1203 121.4665\n",
      "YouBike2.0_捷運忠義站(1號出口) ==> 25.13149 121.47365\n",
      "YouBike2.0_捷運關渡站(1號出口) ==> 25.12397 121.46712\n",
      "YouBike2.0_捷運關渡站(2號出口) ==> 25.12618 121.46737\n",
      "YouBike2.0_中央北路四段540巷口 ==> 25.12796 121.46782\n",
      "YouBike2.0_大度立德路口 ==> 25.1231 121.47092\n",
      "YouBike2.0_捷運復興崗站(1號出口) ==> 25.1378 121.4863\n",
      "YouBike2.0_捷運復興崗站旅客服務中心 ==> 25.13666 121.48159\n",
      "YouBike2.0_豐年公園 ==> 25.13475 121.49613\n",
      "YouBike2.0_稻香重三路口 ==> 25.13997 121.48967\n",
      "YouBike2.0_國防大學政治作戰學院 ==> 25.13776 121.49345\n",
      "YouBike2.0_秀山區民活動中心 ==> 25.14582 121.49303\n",
      "YouBike2.0_大業大同街口 ==> 25.13691 121.49987\n",
      "YouBike2.0_捷運新北投站 ==> 25.13733 121.50339\n",
      "YouBike2.0_捷運北投站 ==> 25.13187 121.499\n",
      "YouBike2.0_捷運奇岩站(三合街) ==> 25.12634 121.50099\n",
      "YouBike2.0_八仙里辦公處 ==> 25.12297 121.50158\n",
      "YouBike2.0_清江國小 ==> 25.12725 121.50676\n",
      "YouBike2.0_大業路300巷口 ==> 25.12814 121.49782\n",
      "YouBike2.0_立農公園 ==> 25.11798 121.50342\n",
      "YouBike2.0_北投奇岩長青樂活大樓 ==> 25.12666 121.50373\n",
      "YouBike2.0_捷運唭哩岸站(2號出口) ==> 25.12087 121.50523\n",
      "YouBike2.0_北投運動中心 ==> 25.11666 121.50962\n",
      "YouBike2.0_陽明大學 ==> 25.11912 121.51223\n",
      "YouBike2.0_捷運石牌站(2號出口) ==> 25.11451 121.51567\n",
      "YouBike2.0_台北護理大學 ==> 25.11752 121.51662\n",
      "YouBike2.0_捷運石牌站(1號出口) ==> 25.11542 121.51469\n",
      "YouBike2.0_振興醫院 ==> 25.11753 121.52186\n",
      "YouBike2.0_石牌國小 ==> 25.1144 121.51307\n",
      "YouBike2.0_振興公園 ==> 25.11865 121.5235\n",
      "YouBike2.0_立農國小 ==> 25.11978 121.50422\n",
      "YouBike2.0_承德路七段280巷口 ==> 25.11587 121.50576\n",
      "YouBike2.0_致遠一路二段11巷 ==> 25.11093 121.51382\n",
      "YouBike2.0_榮富公園 ==> 25.1137 121.52437\n",
      "YouBike2.0_中正高中 ==> 25.10467 121.51654\n",
      "YouBike2.0_立功立德路口 ==> 25.12501 121.47158\n",
      "YouBike2.0_中央北路四段30巷口 ==> 25.13539 121.478\n",
      "YouBike2.0_陽明交大圖書館 ==> 25.12081 121.51352\n",
      "YouBike2.0_捷運新北投站(2號出口) ==> 25.13675 121.50224\n",
      "YouBike2.0_復興公園 ==> 25.13872 121.5021\n",
      "YouBike2.0_承德石牌路口 ==> 25.11272 121.50922\n",
      "YouBike2.0_承德路七段188巷口 ==> 25.11416 121.50771\n",
      "YouBike2.0_捷運明德站(3號出口) ==> 25.11 121.51841\n",
      "YouBike2.0_大豐公園 ==> 25.13102 121.50408\n",
      "YouBike2.0_洲美公園 ==> 25.10032 121.50599\n",
      "YouBike2.0_中和街455巷11弄 ==> 25.14319 121.49621\n",
      "YouBike2.0_洲美蜆仔港公園 ==> 25.10065 121.51107\n",
      "YouBike2.0_文化三杏林一路口 ==> 25.14058 121.49915\n",
      "YouBike2.0_珠海復興一路口 ==> 25.14045 121.50446\n",
      "YouBike2.0_裕民二路33巷 ==> 25.11535 121.51736\n",
      "YouBike2.0_新奇岩社會住宅 ==> 25.12287 121.5037\n",
      "YouBike2.0_泉源公園 ==> 25.14193 121.50835\n",
      "YouBike2.0_奇岩4號綠地 ==> 25.12533 121.50573\n",
      "YouBike2.0_臺北健康護理大學(教研大樓) ==> 25.11857 121.51846\n",
      "YouBike2.0_奇岩一號公園 ==> 25.12862 121.5033\n",
      "YouBike2.0_福星公園 ==> 25.1094 121.51248\n",
      "YouBike2.0_中庸公園 ==> 25.13774 121.50142\n",
      "YouBike2.0_豐年公園_1 ==> 25.13597 121.49702\n",
      "YouBike2.0_光明溫泉路口 ==> 25.13431 121.50226\n",
      "YouBike2.0_和信治癌中心醫院 ==> 25.12757 121.47207\n",
      "YouBike2.0_致遠新村 ==> 25.14319 121.49093\n",
      "YouBike2.0_北投公園露天溫泉 ==> 25.13684 121.50792\n",
      "YouBike2.0_中和街493巷9弄口 ==> 25.1439 121.49447\n",
      "YouBike2.0_捷運北投站(1號出口) ==> 25.13258 121.49862\n",
      "YouBike2.0_石牌立農街口 ==> 25.11879 121.51921\n",
      "YouBike2.0_捷運唭哩岸站(1號出口) ==> 25.12082 121.50727\n",
      "YouBike2.0_大興光明路2巷口 ==> 25.13043 121.50017\n",
      "YouBike2.0_捷運忠義站(2號出口) ==> 25.13076 121.47347\n",
      "YouBike2.0_福國承德路口 ==> 25.10171 121.51263\n",
      "YouBike2.0_捷運北投站(1號出口)(北投路側) ==> 25.13201 121.49817\n",
      "YouBike2.0_華固創富中心 ==> 25.10392 121.51244\n",
      "YouBike2.0_崇仰公園(公舘路255巷) ==> 25.12595 121.51098\n",
      "YouBike2.0_北投文化公園(北側) ==> 25.13713 121.49706\n",
      "YouBike2.0_中和綠地 ==> 25.1419 121.4989\n",
      "YouBike2.0_大業路65巷口 ==> 25.12307 121.49906\n",
      "YouBike2.0_公舘承德路口 ==> 25.11969 121.50169\n",
      "YouBike2.0_文林北明德路口(東北側) ==> 25.10576 121.5173\n",
      "YouBike2.0_永興路一段32巷口 ==> 25.13905 121.50012\n",
      "YouBike2.0_捷運松山站(4號出口) ==> 25.04987 121.57785\n",
      "YouBike2.0_塔悠八德路口 ==> 25.05009 121.57202\n",
      "YouBike2.0_鵬程公園 ==> 25.05503 121.56876\n",
      "YouBike2.0_中崙高中 ==> 25.04878 121.56087\n",
      "YouBike2.0_捷運南京三民站(2號出口) ==> 25.05136 121.56283\n",
      "YouBike2.0_捷運南京三民站(1號出口) ==> 25.05155 121.5636\n",
      "YouBike2.0_光復北路11巷口 ==> 25.04937 121.558\n",
      "YouBike2.0_捷運南京三民站(4號出口) ==> 25.05152 121.5646\n",
      "YouBike2.0_西松高中 ==> 25.05492 121.56701\n",
      "YouBike2.0_民權復興路口 ==> 25.0622 121.54565\n",
      "YouBike2.0_民福三號綠地 ==> 25.06374 121.54767\n",
      "YouBike2.0_民有一號公園 ==> 25.06095 121.54731\n",
      "YouBike2.0_民生敦化路口 ==> 25.05804 121.54897\n",
      "YouBike2.0_松基公園 ==> 25.0546 121.54486\n",
      "YouBike2.0_三民路166巷口 ==> 25.0619 121.56328\n",
      "YouBike2.0_民生活動中心 ==> 25.05907 121.56305\n",
      "YouBike2.0_捷運小巨蛋站(2號出口) ==> 25.05157 121.55118\n",
      "YouBike2.0_臺北市藝文推廣處 ==> 25.04826 121.55235\n",
      "YouBike2.0_民生國小(敦化北路199巷) ==> 25.05633 121.55286\n",
      "YouBike2.0_敦北公園 ==> 25.06118 121.55098\n",
      "YouBike2.0_民權運動公園 ==> 25.062 121.56019\n",
      "YouBike2.0_新東公園 ==> 25.05925 121.56888\n",
      "YouBike2.0_民生光復路口 ==> 25.05834 121.55496\n",
      "YouBike2.0_三民公園 ==> 25.061286751494 121.566678992451\n",
      "YouBike2.0_八德路三段74巷口 ==> 25.04459 121.55252\n",
      "YouBike2.0_八德路三段8巷口 ==> 25.04488 121.54992\n",
      "YouBike2.0_三軍總醫院(松山分院) ==> 25.05419 121.55631\n",
      "YouBike2.0_平安新城 ==> 25.05528 121.559\n",
      "YouBike2.0_健康社會住宅 ==> 25.05433 121.56545\n",
      "YouBike2.0_民權光復路口(東北側) ==> 25.06206 121.55475\n",
      "YouBike2.0_市民東興路口 ==> 25.0484 121.56586\n",
      "YouBike2.0_光復南路22巷口 ==> 25.04693 121.55771\n",
      "YouBike2.0_光復南路58巷 ==> 25.04566 121.55656\n",
      "YouBike2.0_松山新城 ==> 25.05347 121.55436\n",
      "YouBike2.0_內政部營建署 ==> 25.04769 121.5448\n",
      "YouBike2.0_南京光復路口 ==> 25.05143 121.55716\n",
      "YouBike2.0_民生立體停車場 ==> 25.05846 121.55947\n",
      "YouBike2.0_健康新城 ==> 25.05408 121.56095\n",
      "YouBike2.0_健安新城 ==> 25.05606 121.56345\n",
      "YouBike2.0_復盛公園 ==> 25.04763 121.56115\n",
      "YouBike2.0_中崙福成宮 ==> 25.04524 121.54659\n",
      "YouBike2.0_捷運南京復興站(7號出口) ==> 25.05278 121.54478\n",
      "YouBike2.0_捷運南京復興站(5號出口) ==> 25.05168 121.54506\n",
      "YouBike2.0_塔悠疏散門 ==> 25.0648 121.56788\n",
      "YouBike2.0_臺北田徑場 ==> 25.04951 121.54941\n",
      "YouBike2.0_捷運小巨蛋站(5號出口) ==> 25.05176 121.55352\n",
      "YouBike2.0_敦化長春路口 ==> 25.0536 121.54871\n",
      "YouBike2.0_饒河疏散門(基四號疏散門) ==> 25.05147 121.57683\n",
      "YouBike2.0_捷運松山站(2號出口) ==> 25.05013 121.57635\n",
      "YouBike2.0_民權東路三段106巷口 ==> 25.062 121.54472\n",
      "YouBike2.0_南京東路五段59巷口 ==> 25.05163 121.55907\n",
      "YouBike2.0_三民公園(塔悠路) ==> 25.06241 121.56831\n",
      "YouBike2.0_寶清公園 ==> 25.05198 121.5681\n",
      "YouBike2.0_西松公園 ==> 25.05406 121.56407\n",
      "YouBike2.0_長壽公園 ==> 25.05378 121.55893\n",
      "YouBike2.0_復源公園 ==> 25.04634 121.5542\n",
      "YouBike2.0_南京東路四段179巷口 ==> 25.05173 121.55609\n",
      "YouBike2.0_臺北田徑場(北寧路側) ==> 25.04954 121.55261\n",
      "YouBike2.0_西松高中(健康路325巷) ==> 25.05567 121.56713\n",
      "YouBike2.0_南京東興路口 ==> 25.05149 121.56535\n",
      "YouBike2.0_捷運松山站(3號出口) ==> 25.04962 121.57746\n",
      "YouBike2.0_介壽國中 ==> 25.05722 121.55706\n",
      "YouBike2.0_敦化南京路口(東北側) ==> 25.05226 121.54926\n",
      "YouBike2.0_敦化八德路口 ==> 25.04802 121.54864\n",
      "YouBike2.0_新東街51巷口 ==> 25.0615 121.56332\n",
      "YouBike2.0_八德立體停車場 ==> 25.04985 121.57189\n",
      "YouBike2.0_長春慶城街口 ==> 25.05452 121.54636\n",
      "YouBike2.0_八德路四段652巷口 ==> 25.04942 121.57503\n",
      "YouBike2.0_捷運松山站(1號出口) ==> 25.05014 121.57692\n",
      "YouBike2.0_捷運小巨蛋站(3號出口) ==> 25.05152 121.55243\n",
      "YouBike2.0_捷運小巨蛋站(5號出口)_1 ==> 25.05181 121.5521\n",
      "YouBike2.0_敦化北路155巷口 ==> 25.0542 121.5491\n",
      "YouBike2.0_民生復興路口 ==> 25.05764 121.54443\n",
      "YouBike2.0_市民延吉街口 ==> 25.0444 121.55397\n",
      "YouBike2.0_龍城市場 ==> 25.05454 121.55417\n",
      "YouBike2.0_捷運南京三民站(3號出口) ==> 25.05129 121.56426\n",
      "YouBike2.0_塔悠基隆路口(麥帥一橋下) ==> 25.05139 121.57062\n",
      "YouBike2.0_五常街370巷 ==> 25.06432 121.54537\n",
      "YouBike2.0_延壽街119巷口 ==> 25.05708 121.56486\n",
      "YouBike2.0_市民東寧路口 ==> 25.04742 121.56305\n",
      "YouBike2.0_民福簡易綠地 ==> 25.06589 121.54529\n",
      "YouBike2.0_三民國小(撫遠街) ==> 25.06457 121.56458\n",
      "YouBike2.0_民生郵局 ==> 25.05936 121.56586\n",
      "YouBike2.0_南港公園(東新街) ==> 25.04591 121.59226\n",
      "YouBike2.0_南港公園(福德街) ==> 25.04128 121.59089\n",
      "YouBike2.0_捷運昆陽站(1號出口) ==> 25.05014 121.59238\n",
      "YouBike2.0_忠孝東路六段225巷口 ==> 25.04919 121.58832\n",
      "YouBike2.0_捷運後山埤站(1號出口) ==> 25.04437 121.58133\n",
      "YouBike2.0_合樂公園 ==> 25.04843 121.58154\n",
      "YouBike2.0_合心廣場 ==> 25.04608 121.58315\n",
      "YouBike2.0_成德國中 ==> 25.04592 121.5882\n",
      "YouBike2.0_玉成公園 ==> 25.04281 121.58613\n",
      "YouBike2.0_研究院舊莊街口 ==> 25.04239 121.61683\n",
      "YouBike2.0_中研院綜合體育館東側 ==> 25.04054 121.61374\n",
      "YouBike2.0_國家生技園區 ==> 25.04763 121.61145\n",
      "YouBike2.0_捷運南港展覽館站(5號出口) ==> 25.05469 121.61669\n",
      "YouBike2.0_中研公園 ==> 25.04697 121.61375\n",
      "YouBike2.0_福山公園 ==> 25.04499 121.61775\n",
      "YouBike2.0_舊莊區民活動中心 ==> 25.04139 121.6191\n",
      "YouBike2.0_凌雲市場 ==> 25.03564 121.61415\n",
      "YouBike2.0_市民大道八段532號 ==> 25.054 121.61334\n",
      "YouBike2.0_捷運南港軟體園區(2號出口) ==> 25.05933 121.61677\n",
      "YouBike2.0_南港國小 ==> 25.05668 121.61137\n",
      "YouBike2.0_興中立體停車場(興中路) ==> 25.05629 121.607\n",
      "YouBike2.0_臺北市立圖書館南港分館 ==> 25.05485 121.60866\n",
      "YouBike2.0_東陽公園 ==> 25.05716 121.59792\n",
      "YouBike2.0_向陽南港路口 ==> 25.05437 121.59423\n",
      "YouBike2.0_南港車站(忠孝東路七段415巷) ==> 25.05252 121.60922\n",
      "YouBike2.0_捷運南港站(2號出口) ==> 25.05201 121.60741\n",
      "YouBike2.0_捷運南港站(1號出口) ==> 25.05192 121.60642\n",
      "YouBike2.0_東新國小 ==> 25.05507 121.6028\n",
      "YouBike2.0_中華科技大學 ==> 25.03392 121.60985\n",
      "YouBike2.0_六福公園 ==> 25.04681 121.61703\n",
      "YouBike2.0_南港加壓站 ==> 25.04805 121.61594\n",
      "YouBike2.0_臺北流行音樂中心(南港路) ==> 25.05343 121.59945\n",
      "YouBike2.0_興南公園 ==> 25.05766 121.60396\n",
      "YouBike2.0_臺北流行音樂中心(市民大道) ==> 25.05211 121.59839\n",
      "YouBike2.0_南港車站(市民大道) ==> 25.05326 121.60656\n",
      "YouBike2.0_忠孝東路七段527巷口 ==> 25.05266 121.61275\n",
      "YouBike2.0_南港軟體園區(新民街) ==> 25.05627 121.61369\n",
      "YouBike2.0_世貿公園 ==> 25.05831 121.61422\n",
      "YouBike2.0_凌雲五村(研究院路三段8巷) ==> 25.03595 121.61688\n",
      "YouBike2.0_新新公園(昆陽街60巷) ==> 25.0521 121.59053\n",
      "YouBike2.0_南港高中(昆陽街) ==> 25.05285 121.59279\n",
      "YouBike2.0_南港路三段290巷口 ==> 25.05234 121.58152\n",
      "YouBike2.0_南港路三段220巷口 ==> 25.05289 121.58599\n",
      "YouBike2.0_南港東新街口 ==> 25.05168 121.58284\n",
      "YouBike2.0_八德中坡路口 ==> 25.05064 121.5803\n",
      "YouBike2.0_捷運後山埤站(3號出口) ==> 25.04511 121.5836\n",
      "YouBike2.0_玉成公園運動中心 ==> 25.04193 121.58493\n",
      "YouBike2.0_百福公園 ==> 25.03884 121.58788\n",
      "YouBike2.0_南湖大橋(經貿二路255巷) ==> 25.06148 121.61384\n",
      "YouBike2.0_園區重陽路口 ==> 25.05937 121.61072\n",
      "YouBike2.0_南港車站B棟(市民大道) ==> 25.05293 121.60549\n",
      "YouBike2.0_胡適公園 ==> 25.04014 121.61766\n",
      "YouBike2.0_南港抽水站 ==> 25.06164 121.61267\n",
      "YouBike2.0_經貿公園 ==> 25.06271 121.61597\n",
      "YouBike2.0_育成高中 ==> 25.05853 121.60983\n",
      "YouBike2.0_捷運南港展覽館站(7號出口) ==> 25.05436 121.6181\n",
      "YouBike2.0_力行橋(南港) ==> 25.05172 121.61686\n",
      "YouBike2.0_舊莊國小(舊莊街一段) ==> 25.03987 121.62015\n",
      "YouBike2.0_向陽公園 ==> 25.05705 121.59265\n",
      "YouBike2.0_小彎社會住宅 ==> 25.0582 121.59368\n",
      "YouBike2.0_捷運南港展覽館站(6號出口) ==> 25.05465 121.6185\n",
      "YouBike2.0_捷運南港展覽館站(4號出口) ==> 25.05535 121.61838\n",
      "YouBike2.0_成德綠地 ==> 25.04675 121.58731\n",
      "YouBike2.0_南港公園(東新街170巷) ==> 25.04134 121.59323\n",
      "YouBike2.0_中坡市民路口(東北側) ==> 25.04969 121.58028\n",
      "YouBike2.0_昆陽公園 ==> 25.0483 121.59425\n",
      "YouBike2.0_南港路二段178巷口 ==> 25.05368 121.59969\n",
      "YouBike2.0_南港車站(忠孝東路) ==> 25.05225 121.60766\n",
      "YouBike2.0_南港車站(興華路) ==> 25.05343 121.60633\n",
      "YouBike2.0_玉成公園(成福路178巷口) ==> 25.04177 121.58735\n",
      "YouBike2.0_玉東公園(東新街) ==> 25.04998 121.58383\n",
      "YouBike2.0_南港出租國宅社區 ==> 25.03878 121.59302\n",
      "YouBike2.0_成福路197巷口 ==> 25.04066 121.58877\n",
      "YouBike2.0_南港疏散門(基三號疏散門) ==> 25.05543 121.5892\n",
      "YouBike2.0_成德立體停車場 ==> 25.04557 121.58629\n",
      "YouBike2.0_南港展覽館2館 ==> 25.05545 121.61646\n",
      "YouBike2.0_舊莊派出所 ==> 25.03827 121.62274\n",
      "YouBike2.0_南港路三段80巷 ==> 25.05394 121.59124\n",
      "YouBike2.0_捷運昆陽站(4號出口) ==> 25.05066 121.59431\n",
      "YouBike2.0_忠孝東路六段278巷口 ==> 25.04916 121.58906\n",
      "YouBike2.0_中研院人文社會科學館 ==> 25.04126 121.6118\n",
      "YouBike2.0_南港路三段130巷口 ==> 25.05457 121.58781\n",
      "YouBike2.0_南港路三段190巷口 ==> 25.05381 121.58638\n",
      "YouBike2.0_忠孝東路六段212巷口 ==> 25.0488 121.58742\n",
      "YouBike2.0_新富公園 ==> 25.05296 121.61713\n",
      "YouBike2.0_東新街63巷口 ==> 25.04728 121.58605\n",
      "YouBike2.0_中興公園 ==> 25.04487 121.61481\n",
      "YouBike2.0_內湖機廠(港東街) ==> 25.058 121.62189\n",
      "YouBike2.0_黎忠區民活動中心 ==> 25.02035 121.55769\n",
      "YouBike2.0_基隆路二段159巷口 ==> 25.02561 121.55409\n",
      "YouBike2.0_嘉興街175巷口 ==> 25.02811 121.55671\n",
      "YouBike2.0_和平東路三段631巷口 ==> 25.0132 121.56335\n",
      "YouBike2.0_和平東路三段530巷口 ==> 25.01545 121.56134\n",
      "YouBike2.0_景勤二號公園 ==> 25.02698 121.55841\n",
      "YouBike2.0_臺北醫學大學 ==> 25.02668 121.56175\n",
      "YouBike2.0_三興公園 ==> 25.02868 121.55932\n",
      "YouBike2.0_松德站 ==> 25.03162 121.57396\n",
      "YouBike2.0_捷運象山站(2號出口) ==> 25.03222 121.56974\n",
      "YouBike2.0_象山公園 ==> 25.02863 121.56981\n",
      "YouBike2.0_松仁路253巷3弄 ==> 25.02678 121.56884\n",
      "YouBike2.0_興雅國中 ==> 25.03616 121.56983\n",
      "YouBike2.0_捷運象山站(1號出口) ==> 25.03295 121.56867\n",
      "YouBike2.0_松德路200巷 ==> 25.03471 121.57301\n",
      "YouBike2.0_中全公園 ==> 25.0382 121.57495\n",
      "YouBike2.0_台北市災害應變中心 ==> 25.02868 121.56672\n",
      "YouBike2.0_信義運動中心 ==> 25.03189 121.56678\n",
      "YouBike2.0_捷運台北101/世貿站(3號出口) ==> 25.03275 121.56337\n",
      "YouBike2.0_景新公園 ==> 25.03003 121.56287\n",
      "YouBike2.0_光復信義路口東南側 ==> 25.03281 121.55756\n",
      "YouBike2.0_三張犁 ==> 25.03452 121.5576\n",
      "YouBike2.0_仁愛路四段496巷口 ==> 25.03745 121.5602\n",
      "YouBike2.0_松山工農 ==> 25.03961 121.57199\n",
      "YouBike2.0_松友公園 ==> 25.03423 121.57636\n",
      "YouBike2.0_林口公園 ==> 25.03894 121.57915\n",
      "YouBike2.0_松山家商 ==> 25.0347 121.58018\n",
      "YouBike2.0_永春陂濕地公園 ==> 25.03301 121.58096\n",
      "YouBike2.0_臺北市政府 ==> 25.03801 121.56541\n",
      "YouBike2.0_松智松壽路口 ==> 25.03607 121.56535\n",
      "YouBike2.0_市府松壽路口 ==> 25.03627 121.56383\n",
      "YouBike2.0_市府松高路口 ==> 25.03899 121.56369\n",
      "YouBike2.0_市民廣場 ==> 25.03599 121.56218\n",
      "YouBike2.0_信義廣場(台北101) ==> 25.03306 121.5662\n",
      "YouBike2.0_捷運台北101/世貿站(5號出口) ==> 25.03338 121.56333\n",
      "YouBike2.0_春光公園 ==> 25.0427 121.58112\n",
      "YouBike2.0_松仁路121巷口 ==> 25.03476 121.56865\n",
      "YouBike2.0_福德國小 ==> 25.03846 121.58618\n",
      "YouBike2.0_福德公園 ==> 25.03841 121.58355\n",
      "YouBike2.0_松高路(信義新天地A4館) ==> 25.03918 121.56654\n",
      "YouBike2.0_興雅松仁路口 ==> 25.0401 121.56822\n",
      "YouBike2.0_福祥公園 ==> 25.04626 121.57045\n",
      "YouBike2.0_吳興公車總站 ==> 25.02388 121.56984\n",
      "YouBike2.0_泰和公園 ==> 25.0193 121.57105\n",
      "YouBike2.0_興雅國小(基隆路一段37巷) ==> 25.04773 121.56895\n",
      "YouBike2.0_雅祥公園(松信路50巷口) ==> 25.04732 121.57211\n",
      "YouBike2.0_松山車站 ==> 25.0489 121.57841\n",
      "YouBike2.0_五常公園 ==> 25.04797 121.57432\n",
      "YouBike2.0_永吉松信路口 ==> 25.04548 121.57207\n",
      "YouBike2.0_三興國小 ==> 25.02969 121.55766\n",
      "YouBike2.0_市民松信路口 ==> 25.04927 121.57205\n",
      "YouBike2.0_松山高中 ==> 25.0433 121.5638\n",
      "YouBike2.0_基隆光復路口 ==> 25.03005 121.55764\n",
      "YouBike2.0_基隆忠孝路口西南側 ==> 25.04108 121.5629\n",
      "YouBike2.0_泰和里民活動中心 ==> 25.0213 121.57027\n",
      "YouBike2.0_捷運後山埤站(2號出口) ==> 25.04395 121.58184\n",
      "YouBike2.0_虎林永吉路口 ==> 25.04519 121.57712\n",
      "YouBike2.0_永吉公園 ==> 25.04345 121.57539\n",
      "YouBike2.0_永吉路321巷口 ==> 25.04561 121.57549\n",
      "YouBike2.0_松山永吉路口 ==> 25.04623 121.57772\n",
      "YouBike2.0_松山路292巷口 ==> 25.0432 121.57789\n",
      "YouBike2.0_捷運象山站(3號出口) ==> 25.03295 121.5712\n",
      "YouBike2.0_松德公園 ==> 25.03657 121.57349\n",
      "YouBike2.0_世貿三館 ==> 25.03511 121.56369\n",
      "YouBike2.0_松德虎林街口 ==> 25.0383 121.5762\n",
      "YouBike2.0_富台公園 ==> 25.04185 121.57204\n",
      "YouBike2.0_基隆路一段101巷口 ==> 25.04516 121.56702\n",
      "YouBike2.0_捷運永春站(2號出口) ==> 25.0405 121.57538\n",
      "YouBike2.0_吳興街260巷 ==> 25.02606 121.5631\n",
      "YouBike2.0_松山家商(林口街) ==> 25.03593 121.57906\n",
      "YouBike2.0_仁愛逸仙路口 ==> 25.03771 121.56124\n",
      "YouBike2.0_安強公園 ==> 25.03693 121.57535\n",
      "YouBike2.0_信義基隆路口 ==> 25.03321 121.55873\n",
      "YouBike2.0_捷運台北101/世貿站(2號出口) ==> 25.0327 121.56157\n",
      "YouBike2.0_吳興街284巷36弄口 ==> 25.02236 121.56268\n",
      "YouBike2.0_協和祐德高級中學 ==> 25.0426 121.58381\n",
      "YouBike2.0_福德國小公車站 ==> 25.03929 121.58755\n",
      "YouBike2.0_松仁路95巷口 ==> 25.03656 121.56866\n",
      "YouBike2.0_臺北南山廣場_1 ==> 25.03404 121.56598\n",
      "YouBike2.0_景聯廣場 ==> 25.03214 121.55974\n",
      "YouBike2.0_景平公園 ==> 25.02976 121.5642\n",
      "YouBike2.0_捷運市政府站(3號出口) ==> 25.04084 121.56789\n",
      "YouBike2.0_五分埔公園 ==> 25.04719 121.58058\n",
      "YouBike2.0_松仁路305號 ==> 25.02306 121.57036\n",
      "YouBike2.0_吳興街394巷口 ==> 25.02474 121.56741\n",
      "YouBike2.0_忠孝東路五段215巷口 ==> 25.0409 121.5705\n",
      "YouBike2.0_松勤莊敬路口 ==> 25.03203 121.5615\n",
      "YouBike2.0_松仁松平路口 ==> 25.03047 121.56838\n",
      "YouBike2.0_信義松德路口 ==> 25.03322 121.57433\n",
      "YouBike2.0_捷運市政府站(4號出口) ==> 25.04146 121.56731\n",
      "YouBike2.0_吳興街284巷(廣安宮) ==> 25.02326 121.56329\n",
      "YouBike2.0_景勤二號公園(西南側) ==> 25.02605 121.5577\n",
      "YouBike2.0_克勤新村 ==> 25.02589 121.56073\n",
      "YouBike2.0_和平東路三段291號 ==> 25.02186 121.55532\n",
      "YouBike2.0_永吉路468巷口 ==> 25.04533 121.57915\n",
      "YouBike2.0_廣慈博愛園區(西側) ==> 25.03866 121.58082\n",
      "YouBike2.0_和平東路三段341巷口 ==> 25.02188 121.55891\n",
      "YouBike2.0_革新公園 ==> 25.04367 121.56741\n",
      "YouBike2.0_黎雙公園 ==> 25.0246 121.56028\n",
      "YouBike2.0_臺北文化體育園區辦公大樓 ==> 25.04144 121.56126\n",
      "YouBike2.0_捷運國父紀念館站(5號出口) ==> 25.04206 121.55792\n",
      "YouBike2.0_光復南菸廠路口 ==> 25.04482 121.55795\n",
      "YouBike2.0_中坡北永吉路口 ==> 25.04557 121.58059\n",
      "YouBike2.0_德昌寶興街口(西北角) ==> 25.02365 121.49528\n",
      "YouBike2.0_寶興長泰街口(西南角) ==> 25.0216 121.49597\n",
      "YouBike2.0_萬大路486巷口 ==> 25.01975 121.4973\n",
      "YouBike2.0_國興中華路口 ==> 25.02485 121.50898\n",
      "YouBike2.0_古亭國中 ==> 25.02442 121.5107\n",
      "YouBike2.0_國興水源路口 ==> 25.02297 121.50845\n",
      "YouBike2.0_青年公園高爾夫球場 ==> 25.02481 121.50755\n",
      "YouBike2.0_國興青年路口 ==> 25.02594 121.50651\n",
      "YouBike2.0_青年公園棒球場 ==> 25.0241 121.50289\n",
      "YouBike2.0_青年公園籃球場 ==> 25.02085 121.50539\n",
      "YouBike2.0_復華花園新城 ==> 25.02964 121.50258\n",
      "YouBike2.0_新和國小 ==> 25.02582 121.50255\n",
      "YouBike2.0_莒光郵局 ==> 25.03124 121.50122\n",
      "YouBike2.0_莒光立體停車場 ==> 25.03116 121.50336\n",
      "YouBike2.0_艋舺大道146巷口 ==> 25.03301 121.5016\n",
      "YouBike2.0_東園國小 ==> 25.02257 121.49807\n",
      "YouBike2.0_華中疏散門 ==> 25.01688 121.49534\n",
      "YouBike2.0_錦德公園 ==> 25.02332 121.49264\n",
      "YouBike2.0_忠德公園 ==> 25.02516 121.49604\n",
      "YouBike2.0_華江高中 ==> 25.02744 121.49619\n",
      "YouBike2.0_西園艋舺路口 ==> 25.03267 121.49757\n",
      "YouBike2.0_雙園國中 ==> 25.02673 121.49176\n",
      "YouBike2.0_長順區民活動中心 ==> 25.03284 121.48908\n",
      "YouBike2.0_華江國小 ==> 25.03397 121.49029\n",
      "YouBike2.0_華江八號公園 ==> 25.03388 121.49293\n",
      "YouBike2.0_環河南雙園街口 ==> 25.03203 121.49127\n",
      "YouBike2.0_大理高中 ==> 25.03062 121.49021\n",
      "YouBike2.0_糖廍文化園區 ==> 25.03383 121.4946\n",
      "YouBike2.0_兩棵樹公園 ==> 25.03253 121.49549\n",
      "YouBike2.0_萬華青年公宅 ==> 25.02021 121.50376\n",
      "YouBike2.0_開封西寧路口 ==> 25.04662 121.50717\n",
      "YouBike2.0_峨眉停車場 ==> 25.04441 121.50541\n",
      "YouBike2.0_長沙公園 ==> 25.0417 121.49992\n",
      "YouBike2.0_貓公園(中興橋頭) ==> 25.04367 121.50218\n",
      "YouBike2.0_西本願寺廣場 ==> 25.04099 121.50769\n",
      "YouBike2.0_中華桂林路口 ==> 25.03771 121.50662\n",
      "YouBike2.0_捷運龍山寺站(1號出口) ==> 25.03535 121.49938\n",
      "YouBike2.0_龍山國小 ==> 25.0355 121.49541\n",
      "YouBike2.0_華西公園 ==> 25.03852 121.49881\n",
      "YouBike2.0_老松國小 ==> 25.03792 121.50177\n",
      "YouBike2.0_萬華火車站 ==> 25.03364 121.50322\n",
      "YouBike2.0_萬華火車站(D2廣場) ==> 25.03394 121.50117\n",
      "YouBike2.0_捷運龍山寺站(3號出口) ==> 25.03509 121.50199\n",
      "YouBike2.0_臺北市電影主題公園(峨眉街) ==> 25.04445 121.50306\n",
      "YouBike2.0_臺北市電影主題公園(康定路) ==> 25.04551 121.50318\n",
      "YouBike2.0_中華峨眉街口 ==> 25.04345 121.50841\n",
      "YouBike2.0_萬華266號綠地 ==> 25.0403 121.50197\n",
      "YouBike2.0_萬大國小(萬大路344巷口) ==> 25.02376 121.49986\n",
      "YouBike2.0_德昌街10巷口 ==> 25.02533 121.4996\n",
      "YouBike2.0_環河南和平西路口 ==> 25.03517 121.49048\n",
      "YouBike2.0_長順街60巷口 ==> 25.03119 121.48858\n",
      "YouBike2.0_西園公園 ==> 25.0271 121.49775\n",
      "YouBike2.0_華江污水廠 ==> 25.03606 121.49163\n",
      "YouBike2.0_柳鄉公園 ==> 25.03731 121.49526\n",
      "YouBike2.0_綠堤社區公園 ==> 25.03286 121.49301\n",
      "YouBike2.0_長順艋舺大道口 ==> 25.03035 121.49228\n",
      "YouBike2.0_富民路145巷口 ==> 25.01796 121.49988\n",
      "YouBike2.0_環南綜合市場 ==> 25.0286 121.48908\n",
      "YouBike2.0_龍山國中 ==> 25.03646 121.50492\n",
      "YouBike2.0_洛陽停車場 ==> 25.04776 121.50612\n",
      "YouBike2.0_桂林昆明街口 ==> 25.03811 121.50362\n",
      "YouBike2.0_萬華國中_1 ==> 25.02926 121.49936\n",
      "YouBike2.0_青年公園3號出口 ==> 25.02273 121.50271\n",
      "YouBike2.0_捷運龍山寺站(1號出口)_1 ==> 25.03548 121.50026\n",
      "YouBike2.0_莒光社會住宅 ==> 25.0317 121.50033\n",
      "YouBike2.0_艋舺西藏路口 ==> 25.0287 121.49156\n",
      "YouBike2.0_萬大路493巷 ==> 25.01975 121.4992\n",
      "YouBike2.0_雙園國中地下停車場 ==> 25.02768 121.49134\n",
      "YouBike2.0_青年路152巷口 ==> 25.01979 121.5009\n",
      "YouBike2.0_和平西路二段190巷口 ==> 25.03348 121.50445\n",
      "YouBike2.0_萬大路424巷口 ==> 25.02039 121.4927\n",
      "YouBike2.0_臺大水源舍區A棟 ==> 25.01493 121.53044\n",
      "YouBike2.0_臺大卓越研究大樓 ==> 25.01466 121.52917\n",
      "YouBike2.0_臺大水源修齊會館 ==> 25.01411 121.52997\n",
      "YouBike2.0_臺大檔案展示館 ==> 25.01391 121.52895\n",
      "YouBike2.0_臺大水源舍區B棟 ==> 25.01525 121.53009\n",
      "YouBike2.0_臺大男八舍東側 ==> 25.01729 121.54531\n",
      "YouBike2.0_臺大禮賢樓東南側 ==> 25.01408 121.53759\n",
      "YouBike2.0_臺大農業陳列館北側 ==> 25.01839 121.53404\n",
      "YouBike2.0_臺大管理學院二館北側 ==> 25.01355 121.53673\n",
      "YouBike2.0_臺大土木系館 ==> 25.01761 121.53844\n",
      "YouBike2.0_臺大大一女舍北側 ==> 25.01547 121.53436\n",
      "YouBike2.0_臺大女九舍西南側 ==> 25.01937 121.53902\n",
      "YouBike2.0_臺大小福樓東側 ==> 25.01846 121.5376\n",
      "YouBike2.0_臺大立體機車停車場 ==> 25.01616 121.54251\n",
      "YouBike2.0_臺大工綜館南側 ==> 25.01857 121.54059\n",
      "YouBike2.0_臺大天文數學館南側 ==> 25.02108 121.53783\n",
      "YouBike2.0_臺大心理系館南側 ==> 25.01941 121.5404\n",
      "YouBike2.0_臺大樂學館東側 ==> 25.01793 121.53585\n",
      "YouBike2.0_臺大農化新館西側 ==> 25.01627 121.53535\n",
      "YouBike2.0_臺大五號館西側 ==> 25.01666 121.53718\n",
      "YouBike2.0_臺大舊體育館西側 ==> 25.0198 121.53583\n",
      "YouBike2.0_臺大共同教室北側 ==> 25.01595 121.53791\n",
      "YouBike2.0_臺大共同教室東南側 ==> 25.01566 121.53786\n",
      "YouBike2.0_臺大鹿鳴堂東側 ==> 25.01511 121.53786\n",
      "YouBike2.0_臺大公館停車場西北側 ==> 25.01345 121.53798\n",
      "YouBike2.0_臺大第二行政大樓南側 ==> 25.01603 121.53635\n",
      "YouBike2.0_臺大明達館機車停車場 ==> 25.01754 121.54398\n",
      "YouBike2.0_臺大二號館 ==> 25.01699 121.53574\n",
      "YouBike2.0_臺大凝態館南側 ==> 25.02157 121.53633\n",
      "YouBike2.0_臺大社科院西側 ==> 25.02053 121.54145\n",
      "YouBike2.0_臺大社會系館南側 ==> 25.01987 121.54175\n",
      "YouBike2.0_臺大思亮館東南側 ==> 25.02074 121.53906\n",
      "YouBike2.0_臺大椰林小舖 ==> 25.01561 121.53583\n",
      "YouBike2.0_臺大計資中心南側 ==> 25.02036 121.53992\n",
      "YouBike2.0_臺大原分所北側 ==> 25.01881 121.53868\n",
      "YouBike2.0_臺大生命科學館西北側 ==> 25.01548 121.53825\n",
      "YouBike2.0_臺大第一活動中心西南側 ==> 25.01761 121.53995\n",
      "YouBike2.0_臺大博理館西側 ==> 25.01922 121.54195\n",
      "YouBike2.0_臺大博雅館西側 ==> 25.0189 121.536\n",
      "YouBike2.0_臺大森林館北側 ==> 25.01704 121.53888\n",
      "YouBike2.0_臺大一號館 ==> 25.01698 121.53455\n",
      "YouBike2.0_臺大小小福西南側 ==> 25.01539 121.53686\n",
      "YouBike2.0_臺大教研館北側 ==> 25.01337 121.53909\n",
      "YouBike2.0_臺大四號館東北側 ==> 25.01703 121.53781\n",
      "YouBike2.0_臺大新生教室南側 ==> 25.0196 121.53846\n",
      "YouBike2.0_臺大鄭江樓北側 ==> 25.019 121.54305\n",
      "YouBike2.0_臺大電機二館東南側 ==> 25.01857 121.54247\n",
      "YouBike2.0_臺大圖資系館北側 ==> 25.01804 121.53928\n",
      "YouBike2.0_臺大總圖書館西南側 ==> 25.0169 121.54031\n",
      "YouBike2.0_臺大黑森林西側 ==> 25.01995 121.54347\n",
      "YouBike2.0_臺大獸醫館南側 ==> 25.01791 121.54242\n",
      "YouBike2.0_臺大新體育館東南側 ==> 25.02112 121.53591\n",
      "YouBike2.0_臺大明達館北側(員工宿舍) ==> 25.01816 121.54469\n"
     ]
    }
   ],
   "source": [
    "for i in data:\n",
    "    print(i['sna'], \"==>\", i['lat'], i['lng'])"
   ]
  },
  {
   "cell_type": "markdown",
   "id": "3bdd5b49-2734-411a-b80f-35a29d36a083",
   "metadata": {},
   "source": [
    "## 在 Folium 上面標出所有 YouBike 站點"
   ]
  },
  {
   "cell_type": "code",
   "execution_count": 81,
   "id": "5b0cfa86-efef-4dff-a7d5-e669020722b4",
   "metadata": {
    "tags": []
   },
   "outputs": [],
   "source": [
    "import folium"
   ]
  },
  {
   "cell_type": "code",
   "execution_count": 82,
   "id": "c36056bb-7a99-4f01-98de-3d9221b8ced8",
   "metadata": {
    "tags": []
   },
   "outputs": [],
   "source": [
    "m = folium.Map((data[0]['lat'], data[0]['lng']), zoom_start=16)"
   ]
  },
  {
   "cell_type": "code",
   "execution_count": 83,
   "id": "5d60b1a7-f065-4ec5-bb9d-29476bcf8a52",
   "metadata": {
    "tags": []
   },
   "outputs": [
    {
     "data": {
      "text/html": [
       "<div style=\"width:100%;\"><div style=\"position:relative;width:100%;height:0;padding-bottom:60%;\"><span style=\"color:#565656\">Make this Notebook Trusted to load map: File -> Trust Notebook</span><iframe srcdoc=\"&lt;!DOCTYPE html&gt;\n",
       "&lt;html&gt;\n",
       "&lt;head&gt;\n",
       "    \n",
       "    &lt;meta http-equiv=&quot;content-type&quot; content=&quot;text/html; charset=UTF-8&quot; /&gt;\n",
       "    \n",
       "        &lt;script&gt;\n",
       "            L_NO_TOUCH = false;\n",
       "            L_DISABLE_3D = false;\n",
       "        &lt;/script&gt;\n",
       "    \n",
       "    &lt;style&gt;html, body {width: 100%;height: 100%;margin: 0;padding: 0;}&lt;/style&gt;\n",
       "    &lt;style&gt;#map {position:absolute;top:0;bottom:0;right:0;left:0;}&lt;/style&gt;\n",
       "    &lt;script src=&quot;https://cdn.jsdelivr.net/npm/leaflet@1.9.3/dist/leaflet.js&quot;&gt;&lt;/script&gt;\n",
       "    &lt;script src=&quot;https://code.jquery.com/jquery-1.12.4.min.js&quot;&gt;&lt;/script&gt;\n",
       "    &lt;script src=&quot;https://cdn.jsdelivr.net/npm/bootstrap@5.2.2/dist/js/bootstrap.bundle.min.js&quot;&gt;&lt;/script&gt;\n",
       "    &lt;script src=&quot;https://cdnjs.cloudflare.com/ajax/libs/Leaflet.awesome-markers/2.0.2/leaflet.awesome-markers.js&quot;&gt;&lt;/script&gt;\n",
       "    &lt;link rel=&quot;stylesheet&quot; href=&quot;https://cdn.jsdelivr.net/npm/leaflet@1.9.3/dist/leaflet.css&quot;/&gt;\n",
       "    &lt;link rel=&quot;stylesheet&quot; href=&quot;https://cdn.jsdelivr.net/npm/bootstrap@5.2.2/dist/css/bootstrap.min.css&quot;/&gt;\n",
       "    &lt;link rel=&quot;stylesheet&quot; href=&quot;https://netdna.bootstrapcdn.com/bootstrap/3.0.0/css/bootstrap.min.css&quot;/&gt;\n",
       "    &lt;link rel=&quot;stylesheet&quot; href=&quot;https://cdn.jsdelivr.net/npm/@fortawesome/fontawesome-free@6.2.0/css/all.min.css&quot;/&gt;\n",
       "    &lt;link rel=&quot;stylesheet&quot; href=&quot;https://cdnjs.cloudflare.com/ajax/libs/Leaflet.awesome-markers/2.0.2/leaflet.awesome-markers.css&quot;/&gt;\n",
       "    &lt;link rel=&quot;stylesheet&quot; href=&quot;https://cdn.jsdelivr.net/gh/python-visualization/folium/folium/templates/leaflet.awesome.rotate.min.css&quot;/&gt;\n",
       "    \n",
       "            &lt;meta name=&quot;viewport&quot; content=&quot;width=device-width,\n",
       "                initial-scale=1.0, maximum-scale=1.0, user-scalable=no&quot; /&gt;\n",
       "            &lt;style&gt;\n",
       "                #map_90fe2f0f07b25cee1d99673d9f3cc8ed {\n",
       "                    position: relative;\n",
       "                    width: 100.0%;\n",
       "                    height: 100.0%;\n",
       "                    left: 0.0%;\n",
       "                    top: 0.0%;\n",
       "                }\n",
       "                .leaflet-container { font-size: 1rem; }\n",
       "            &lt;/style&gt;\n",
       "        \n",
       "&lt;/head&gt;\n",
       "&lt;body&gt;\n",
       "    \n",
       "    \n",
       "            &lt;div class=&quot;folium-map&quot; id=&quot;map_90fe2f0f07b25cee1d99673d9f3cc8ed&quot; &gt;&lt;/div&gt;\n",
       "        \n",
       "&lt;/body&gt;\n",
       "&lt;script&gt;\n",
       "    \n",
       "    \n",
       "            var map_90fe2f0f07b25cee1d99673d9f3cc8ed = L.map(\n",
       "                &quot;map_90fe2f0f07b25cee1d99673d9f3cc8ed&quot;,\n",
       "                {\n",
       "                    center: [25.02605, 121.5436],\n",
       "                    crs: L.CRS.EPSG3857,\n",
       "                    zoom: 16,\n",
       "                    zoomControl: true,\n",
       "                    preferCanvas: false,\n",
       "                }\n",
       "            );\n",
       "\n",
       "            \n",
       "\n",
       "        \n",
       "    \n",
       "            var tile_layer_48f55796c62ab8933b8099f8688fe417 = L.tileLayer(\n",
       "                &quot;https://{s}.tile.openstreetmap.org/{z}/{x}/{y}.png&quot;,\n",
       "                {&quot;attribution&quot;: &quot;Data by \\u0026copy; \\u003ca target=\\&quot;_blank\\&quot; href=\\&quot;http://openstreetmap.org\\&quot;\\u003eOpenStreetMap\\u003c/a\\u003e, under \\u003ca target=\\&quot;_blank\\&quot; href=\\&quot;http://www.openstreetmap.org/copyright\\&quot;\\u003eODbL\\u003c/a\\u003e.&quot;, &quot;detectRetina&quot;: false, &quot;maxNativeZoom&quot;: 18, &quot;maxZoom&quot;: 18, &quot;minZoom&quot;: 0, &quot;noWrap&quot;: false, &quot;opacity&quot;: 1, &quot;subdomains&quot;: &quot;abc&quot;, &quot;tms&quot;: false}\n",
       "            ).addTo(map_90fe2f0f07b25cee1d99673d9f3cc8ed);\n",
       "        \n",
       "&lt;/script&gt;\n",
       "&lt;/html&gt;\" style=\"position:absolute;width:100%;height:100%;left:0;top:0;border:none !important;\" allowfullscreen webkitallowfullscreen mozallowfullscreen></iframe></div></div>"
      ],
      "text/plain": [
       "<folium.folium.Map at 0x20ec2335e50>"
      ]
     },
     "execution_count": 83,
     "metadata": {},
     "output_type": "execute_result"
    }
   ],
   "source": [
    "m"
   ]
  },
  {
   "cell_type": "code",
   "execution_count": null,
   "id": "1eff05b0-d0d7-4b01-8aa4-16b04ef6392b",
   "metadata": {},
   "outputs": [],
   "source": [
    "folium.Marker((data[0]['lat'], data[0]['lng']), popup=data[0][).add_to(m)"
   ]
  }
 ],
 "metadata": {
  "kernelspec": {
   "display_name": "Python 3 (ipykernel)",
   "language": "python",
   "name": "python3"
  },
  "language_info": {
   "codemirror_mode": {
    "name": "ipython",
    "version": 3
   },
   "file_extension": ".py",
   "mimetype": "text/x-python",
   "name": "python",
   "nbconvert_exporter": "python",
   "pygments_lexer": "ipython3",
   "version": "3.11.5"
  }
 },
 "nbformat": 4,
 "nbformat_minor": 5
}
